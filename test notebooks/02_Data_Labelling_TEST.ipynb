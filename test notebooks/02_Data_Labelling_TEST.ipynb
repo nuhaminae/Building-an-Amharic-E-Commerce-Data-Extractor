{
 "cells": [
  {
   "cell_type": "code",
   "execution_count": 1,
   "id": "07145e2e",
   "metadata": {},
   "outputs": [
    {
     "name": "stdout",
     "output_type": "stream",
     "text": [
      "Loaded DataFrame from dummy_data.csv\n"
     ]
    },
    {
     "data": {
      "application/vnd.microsoft.datawrangler.viewer.v0+json": {
       "columns": [
        {
         "name": "index",
         "rawType": "int64",
         "type": "integer"
        },
        {
         "name": "Message",
         "rawType": "object",
         "type": "string"
        }
       ],
       "ref": "9448b2ca-7fd7-4f37-a5e4-bed817e80ae2",
       "rows": [
        [
         "0",
         "መገናኛ አካባቢ የሚገኝ ሱቅ ቁጥር 123"
        ],
        [
         "1",
         "0911223344 ላይ ይደውሉ"
        ],
        [
         "2",
         "ዋጋው 100 ብር ብቻ"
        ],
        [
         "3",
         "ቦሌ አካባቢ የሚገኝ መኪና"
        ],
        [
         "4",
         "አዲስ አበባ መርካቶ"
        ]
       ],
       "shape": {
        "columns": 1,
        "rows": 5
       }
      },
      "text/html": [
       "<div>\n",
       "<style scoped>\n",
       "    .dataframe tbody tr th:only-of-type {\n",
       "        vertical-align: middle;\n",
       "    }\n",
       "\n",
       "    .dataframe tbody tr th {\n",
       "        vertical-align: top;\n",
       "    }\n",
       "\n",
       "    .dataframe thead th {\n",
       "        text-align: right;\n",
       "    }\n",
       "</style>\n",
       "<table border=\"1\" class=\"dataframe\">\n",
       "  <thead>\n",
       "    <tr style=\"text-align: right;\">\n",
       "      <th></th>\n",
       "      <th>Message</th>\n",
       "    </tr>\n",
       "  </thead>\n",
       "  <tbody>\n",
       "    <tr>\n",
       "      <th>0</th>\n",
       "      <td>መገናኛ አካባቢ የሚገኝ ሱቅ ቁጥር 123</td>\n",
       "    </tr>\n",
       "    <tr>\n",
       "      <th>1</th>\n",
       "      <td>0911223344 ላይ ይደውሉ</td>\n",
       "    </tr>\n",
       "    <tr>\n",
       "      <th>2</th>\n",
       "      <td>ዋጋው 100 ብር ብቻ</td>\n",
       "    </tr>\n",
       "    <tr>\n",
       "      <th>3</th>\n",
       "      <td>ቦሌ አካባቢ የሚገኝ መኪና</td>\n",
       "    </tr>\n",
       "    <tr>\n",
       "      <th>4</th>\n",
       "      <td>አዲስ አበባ መርካቶ</td>\n",
       "    </tr>\n",
       "  </tbody>\n",
       "</table>\n",
       "</div>"
      ],
      "text/plain": [
       "                     Message\n",
       "0  መገናኛ አካባቢ የሚገኝ ሱቅ ቁጥር 123\n",
       "1         0911223344 ላይ ይደውሉ\n",
       "2              ዋጋው 100 ብር ብቻ\n",
       "3           ቦሌ አካባቢ የሚገኝ መኪና\n",
       "4               አዲስ አበባ መርካቶ"
      ]
     },
     "metadata": {},
     "output_type": "display_data"
    },
    {
     "data": {
      "text/plain": [
       "(5, 1)"
      ]
     },
     "metadata": {},
     "output_type": "display_data"
    },
    {
     "name": "stderr",
     "output_type": "stream",
     "text": [
      "."
     ]
    },
    {
     "name": "stdout",
     "output_type": "stream",
     "text": [
      "\n",
      "Heuristically labeled CoNLL saved to: data\\ner_amharic_conll.txt\n",
      "Loaded DataFrame from dummy_data.csv\n"
     ]
    },
    {
     "data": {
      "application/vnd.microsoft.datawrangler.viewer.v0+json": {
       "columns": [
        {
         "name": "index",
         "rawType": "int64",
         "type": "integer"
        },
        {
         "name": "Message",
         "rawType": "object",
         "type": "string"
        }
       ],
       "ref": "8ab42fee-baa2-4d8f-a8bf-123bd95d5616",
       "rows": [
        [
         "0",
         "መገናኛ አካባቢ የሚገኝ ሱቅ ቁጥር 123"
        ],
        [
         "1",
         "0911223344 ላይ ይደውሉ"
        ],
        [
         "2",
         "ዋጋው 100 ብር ብቻ"
        ],
        [
         "3",
         "ቦሌ አካባቢ የሚገኝ መኪና"
        ],
        [
         "4",
         "አዲስ አበባ መርካቶ"
        ]
       ],
       "shape": {
        "columns": 1,
        "rows": 5
       }
      },
      "text/html": [
       "<div>\n",
       "<style scoped>\n",
       "    .dataframe tbody tr th:only-of-type {\n",
       "        vertical-align: middle;\n",
       "    }\n",
       "\n",
       "    .dataframe tbody tr th {\n",
       "        vertical-align: top;\n",
       "    }\n",
       "\n",
       "    .dataframe thead th {\n",
       "        text-align: right;\n",
       "    }\n",
       "</style>\n",
       "<table border=\"1\" class=\"dataframe\">\n",
       "  <thead>\n",
       "    <tr style=\"text-align: right;\">\n",
       "      <th></th>\n",
       "      <th>Message</th>\n",
       "    </tr>\n",
       "  </thead>\n",
       "  <tbody>\n",
       "    <tr>\n",
       "      <th>0</th>\n",
       "      <td>መገናኛ አካባቢ የሚገኝ ሱቅ ቁጥር 123</td>\n",
       "    </tr>\n",
       "    <tr>\n",
       "      <th>1</th>\n",
       "      <td>0911223344 ላይ ይደውሉ</td>\n",
       "    </tr>\n",
       "    <tr>\n",
       "      <th>2</th>\n",
       "      <td>ዋጋው 100 ብር ብቻ</td>\n",
       "    </tr>\n",
       "    <tr>\n",
       "      <th>3</th>\n",
       "      <td>ቦሌ አካባቢ የሚገኝ መኪና</td>\n",
       "    </tr>\n",
       "    <tr>\n",
       "      <th>4</th>\n",
       "      <td>አዲስ አበባ መርካቶ</td>\n",
       "    </tr>\n",
       "  </tbody>\n",
       "</table>\n",
       "</div>"
      ],
      "text/plain": [
       "                     Message\n",
       "0  መገናኛ አካባቢ የሚገኝ ሱቅ ቁጥር 123\n",
       "1         0911223344 ላይ ይደውሉ\n",
       "2              ዋጋው 100 ብር ብቻ\n",
       "3           ቦሌ አካባቢ የሚገኝ መኪና\n",
       "4               አዲስ አበባ መርካቶ"
      ]
     },
     "metadata": {},
     "output_type": "display_data"
    },
    {
     "data": {
      "text/plain": [
       "(5, 1)"
      ]
     },
     "metadata": {},
     "output_type": "display_data"
    },
    {
     "name": "stderr",
     "output_type": "stream",
     "text": [
      "."
     ]
    },
    {
     "name": "stdout",
     "output_type": "stream",
     "text": [
      "Loaded DataFrame from dummy_data.csv\n"
     ]
    },
    {
     "data": {
      "application/vnd.microsoft.datawrangler.viewer.v0+json": {
       "columns": [
        {
         "name": "index",
         "rawType": "int64",
         "type": "integer"
        },
        {
         "name": "Message",
         "rawType": "object",
         "type": "string"
        }
       ],
       "ref": "b80cdd1e-d500-4138-b3e5-d1e8d8451a70",
       "rows": [
        [
         "0",
         "መገናኛ አካባቢ የሚገኝ ሱቅ ቁጥር 123"
        ],
        [
         "1",
         "0911223344 ላይ ይደውሉ"
        ],
        [
         "2",
         "ዋጋው 100 ብር ብቻ"
        ],
        [
         "3",
         "ቦሌ አካባቢ የሚገኝ መኪና"
        ],
        [
         "4",
         "አዲስ አበባ መርካቶ"
        ]
       ],
       "shape": {
        "columns": 1,
        "rows": 5
       }
      },
      "text/html": [
       "<div>\n",
       "<style scoped>\n",
       "    .dataframe tbody tr th:only-of-type {\n",
       "        vertical-align: middle;\n",
       "    }\n",
       "\n",
       "    .dataframe tbody tr th {\n",
       "        vertical-align: top;\n",
       "    }\n",
       "\n",
       "    .dataframe thead th {\n",
       "        text-align: right;\n",
       "    }\n",
       "</style>\n",
       "<table border=\"1\" class=\"dataframe\">\n",
       "  <thead>\n",
       "    <tr style=\"text-align: right;\">\n",
       "      <th></th>\n",
       "      <th>Message</th>\n",
       "    </tr>\n",
       "  </thead>\n",
       "  <tbody>\n",
       "    <tr>\n",
       "      <th>0</th>\n",
       "      <td>መገናኛ አካባቢ የሚገኝ ሱቅ ቁጥር 123</td>\n",
       "    </tr>\n",
       "    <tr>\n",
       "      <th>1</th>\n",
       "      <td>0911223344 ላይ ይደውሉ</td>\n",
       "    </tr>\n",
       "    <tr>\n",
       "      <th>2</th>\n",
       "      <td>ዋጋው 100 ብር ብቻ</td>\n",
       "    </tr>\n",
       "    <tr>\n",
       "      <th>3</th>\n",
       "      <td>ቦሌ አካባቢ የሚገኝ መኪና</td>\n",
       "    </tr>\n",
       "    <tr>\n",
       "      <th>4</th>\n",
       "      <td>አዲስ አበባ መርካቶ</td>\n",
       "    </tr>\n",
       "  </tbody>\n",
       "</table>\n",
       "</div>"
      ],
      "text/plain": [
       "                     Message\n",
       "0  መገናኛ አካባቢ የሚገኝ ሱቅ ቁጥር 123\n",
       "1         0911223344 ላይ ይደውሉ\n",
       "2              ዋጋው 100 ብር ብቻ\n",
       "3           ቦሌ አካባቢ የሚገኝ መኪና\n",
       "4               አዲስ አበባ መርካቶ"
      ]
     },
     "metadata": {},
     "output_type": "display_data"
    },
    {
     "data": {
      "text/plain": [
       "(5, 1)"
      ]
     },
     "metadata": {},
     "output_type": "display_data"
    },
    {
     "name": "stderr",
     "output_type": "stream",
     "text": [
      "."
     ]
    },
    {
     "name": "stdout",
     "output_type": "stream",
     "text": [
      "Loaded DataFrame from dummy_data.csv\n"
     ]
    },
    {
     "data": {
      "application/vnd.microsoft.datawrangler.viewer.v0+json": {
       "columns": [
        {
         "name": "index",
         "rawType": "int64",
         "type": "integer"
        },
        {
         "name": "Message",
         "rawType": "object",
         "type": "string"
        }
       ],
       "ref": "094812a5-7e7a-4fdf-bdfc-bdb5e15274d9",
       "rows": [
        [
         "0",
         "መገናኛ አካባቢ የሚገኝ ሱቅ ቁጥር 123"
        ],
        [
         "1",
         "0911223344 ላይ ይደውሉ"
        ],
        [
         "2",
         "ዋጋው 100 ብር ብቻ"
        ],
        [
         "3",
         "ቦሌ አካባቢ የሚገኝ መኪና"
        ],
        [
         "4",
         "አዲስ አበባ መርካቶ"
        ]
       ],
       "shape": {
        "columns": 1,
        "rows": 5
       }
      },
      "text/html": [
       "<div>\n",
       "<style scoped>\n",
       "    .dataframe tbody tr th:only-of-type {\n",
       "        vertical-align: middle;\n",
       "    }\n",
       "\n",
       "    .dataframe tbody tr th {\n",
       "        vertical-align: top;\n",
       "    }\n",
       "\n",
       "    .dataframe thead th {\n",
       "        text-align: right;\n",
       "    }\n",
       "</style>\n",
       "<table border=\"1\" class=\"dataframe\">\n",
       "  <thead>\n",
       "    <tr style=\"text-align: right;\">\n",
       "      <th></th>\n",
       "      <th>Message</th>\n",
       "    </tr>\n",
       "  </thead>\n",
       "  <tbody>\n",
       "    <tr>\n",
       "      <th>0</th>\n",
       "      <td>መገናኛ አካባቢ የሚገኝ ሱቅ ቁጥር 123</td>\n",
       "    </tr>\n",
       "    <tr>\n",
       "      <th>1</th>\n",
       "      <td>0911223344 ላይ ይደውሉ</td>\n",
       "    </tr>\n",
       "    <tr>\n",
       "      <th>2</th>\n",
       "      <td>ዋጋው 100 ብር ብቻ</td>\n",
       "    </tr>\n",
       "    <tr>\n",
       "      <th>3</th>\n",
       "      <td>ቦሌ አካባቢ የሚገኝ መኪና</td>\n",
       "    </tr>\n",
       "    <tr>\n",
       "      <th>4</th>\n",
       "      <td>አዲስ አበባ መርካቶ</td>\n",
       "    </tr>\n",
       "  </tbody>\n",
       "</table>\n",
       "</div>"
      ],
      "text/plain": [
       "                     Message\n",
       "0  መገናኛ አካባቢ የሚገኝ ሱቅ ቁጥር 123\n",
       "1         0911223344 ላይ ይደውሉ\n",
       "2              ዋጋው 100 ብር ብቻ\n",
       "3           ቦሌ አካባቢ የሚገኝ መኪና\n",
       "4               አዲስ አበባ መርካቶ"
      ]
     },
     "metadata": {},
     "output_type": "display_data"
    },
    {
     "data": {
      "text/plain": [
       "(5, 1)"
      ]
     },
     "metadata": {},
     "output_type": "display_data"
    },
    {
     "name": "stderr",
     "output_type": "stream",
     "text": [
      "."
     ]
    },
    {
     "name": "stdout",
     "output_type": "stream",
     "text": [
      "Loaded DataFrame from dummy_data.csv\n"
     ]
    },
    {
     "data": {
      "application/vnd.microsoft.datawrangler.viewer.v0+json": {
       "columns": [
        {
         "name": "index",
         "rawType": "int64",
         "type": "integer"
        },
        {
         "name": "Message",
         "rawType": "object",
         "type": "string"
        }
       ],
       "ref": "c4e185ab-43ba-4158-a715-74b88cfe3162",
       "rows": [
        [
         "0",
         "መገናኛ አካባቢ የሚገኝ ሱቅ ቁጥር 123"
        ],
        [
         "1",
         "0911223344 ላይ ይደውሉ"
        ],
        [
         "2",
         "ዋጋው 100 ብር ብቻ"
        ],
        [
         "3",
         "ቦሌ አካባቢ የሚገኝ መኪና"
        ],
        [
         "4",
         "አዲስ አበባ መርካቶ"
        ]
       ],
       "shape": {
        "columns": 1,
        "rows": 5
       }
      },
      "text/html": [
       "<div>\n",
       "<style scoped>\n",
       "    .dataframe tbody tr th:only-of-type {\n",
       "        vertical-align: middle;\n",
       "    }\n",
       "\n",
       "    .dataframe tbody tr th {\n",
       "        vertical-align: top;\n",
       "    }\n",
       "\n",
       "    .dataframe thead th {\n",
       "        text-align: right;\n",
       "    }\n",
       "</style>\n",
       "<table border=\"1\" class=\"dataframe\">\n",
       "  <thead>\n",
       "    <tr style=\"text-align: right;\">\n",
       "      <th></th>\n",
       "      <th>Message</th>\n",
       "    </tr>\n",
       "  </thead>\n",
       "  <tbody>\n",
       "    <tr>\n",
       "      <th>0</th>\n",
       "      <td>መገናኛ አካባቢ የሚገኝ ሱቅ ቁጥር 123</td>\n",
       "    </tr>\n",
       "    <tr>\n",
       "      <th>1</th>\n",
       "      <td>0911223344 ላይ ይደውሉ</td>\n",
       "    </tr>\n",
       "    <tr>\n",
       "      <th>2</th>\n",
       "      <td>ዋጋው 100 ብር ብቻ</td>\n",
       "    </tr>\n",
       "    <tr>\n",
       "      <th>3</th>\n",
       "      <td>ቦሌ አካባቢ የሚገኝ መኪና</td>\n",
       "    </tr>\n",
       "    <tr>\n",
       "      <th>4</th>\n",
       "      <td>አዲስ አበባ መርካቶ</td>\n",
       "    </tr>\n",
       "  </tbody>\n",
       "</table>\n",
       "</div>"
      ],
      "text/plain": [
       "                     Message\n",
       "0  መገናኛ አካባቢ የሚገኝ ሱቅ ቁጥር 123\n",
       "1         0911223344 ላይ ይደውሉ\n",
       "2              ዋጋው 100 ብር ብቻ\n",
       "3           ቦሌ አካባቢ የሚገኝ መኪና\n",
       "4               አዲስ አበባ መርካቶ"
      ]
     },
     "metadata": {},
     "output_type": "display_data"
    },
    {
     "data": {
      "text/plain": [
       "(5, 1)"
      ]
     },
     "metadata": {},
     "output_type": "display_data"
    },
    {
     "name": "stderr",
     "output_type": "stream",
     "text": [
      "."
     ]
    },
    {
     "name": "stdout",
     "output_type": "stream",
     "text": [
      "Loaded DataFrame from dummy_data.csv\n"
     ]
    },
    {
     "data": {
      "application/vnd.microsoft.datawrangler.viewer.v0+json": {
       "columns": [
        {
         "name": "index",
         "rawType": "int64",
         "type": "integer"
        },
        {
         "name": "Message",
         "rawType": "object",
         "type": "string"
        }
       ],
       "ref": "2fe7efe7-68d6-4ea1-bdfa-f2734b23d449",
       "rows": [
        [
         "0",
         "መገናኛ አካባቢ የሚገኝ ሱቅ ቁጥር 123"
        ],
        [
         "1",
         "0911223344 ላይ ይደውሉ"
        ],
        [
         "2",
         "ዋጋው 100 ብር ብቻ"
        ],
        [
         "3",
         "ቦሌ አካባቢ የሚገኝ መኪና"
        ],
        [
         "4",
         "አዲስ አበባ መርካቶ"
        ]
       ],
       "shape": {
        "columns": 1,
        "rows": 5
       }
      },
      "text/html": [
       "<div>\n",
       "<style scoped>\n",
       "    .dataframe tbody tr th:only-of-type {\n",
       "        vertical-align: middle;\n",
       "    }\n",
       "\n",
       "    .dataframe tbody tr th {\n",
       "        vertical-align: top;\n",
       "    }\n",
       "\n",
       "    .dataframe thead th {\n",
       "        text-align: right;\n",
       "    }\n",
       "</style>\n",
       "<table border=\"1\" class=\"dataframe\">\n",
       "  <thead>\n",
       "    <tr style=\"text-align: right;\">\n",
       "      <th></th>\n",
       "      <th>Message</th>\n",
       "    </tr>\n",
       "  </thead>\n",
       "  <tbody>\n",
       "    <tr>\n",
       "      <th>0</th>\n",
       "      <td>መገናኛ አካባቢ የሚገኝ ሱቅ ቁጥር 123</td>\n",
       "    </tr>\n",
       "    <tr>\n",
       "      <th>1</th>\n",
       "      <td>0911223344 ላይ ይደውሉ</td>\n",
       "    </tr>\n",
       "    <tr>\n",
       "      <th>2</th>\n",
       "      <td>ዋጋው 100 ብር ብቻ</td>\n",
       "    </tr>\n",
       "    <tr>\n",
       "      <th>3</th>\n",
       "      <td>ቦሌ አካባቢ የሚገኝ መኪና</td>\n",
       "    </tr>\n",
       "    <tr>\n",
       "      <th>4</th>\n",
       "      <td>አዲስ አበባ መርካቶ</td>\n",
       "    </tr>\n",
       "  </tbody>\n",
       "</table>\n",
       "</div>"
      ],
      "text/plain": [
       "                     Message\n",
       "0  መገናኛ አካባቢ የሚገኝ ሱቅ ቁጥር 123\n",
       "1         0911223344 ላይ ይደውሉ\n",
       "2              ዋጋው 100 ብር ብቻ\n",
       "3           ቦሌ አካባቢ የሚገኝ መኪና\n",
       "4               አዲስ አበባ መርካቶ"
      ]
     },
     "metadata": {},
     "output_type": "display_data"
    },
    {
     "data": {
      "text/plain": [
       "(5, 1)"
      ]
     },
     "metadata": {},
     "output_type": "display_data"
    },
    {
     "name": "stderr",
     "output_type": "stream",
     "text": [
      "."
     ]
    },
    {
     "name": "stdout",
     "output_type": "stream",
     "text": [
      "Loaded DataFrame from dummy_data.csv\n"
     ]
    },
    {
     "data": {
      "application/vnd.microsoft.datawrangler.viewer.v0+json": {
       "columns": [
        {
         "name": "index",
         "rawType": "int64",
         "type": "integer"
        },
        {
         "name": "Message",
         "rawType": "object",
         "type": "string"
        }
       ],
       "ref": "bb75661d-6a7c-409f-b1be-7a5af872f7ff",
       "rows": [
        [
         "0",
         "መገናኛ አካባቢ የሚገኝ ሱቅ ቁጥር 123"
        ],
        [
         "1",
         "0911223344 ላይ ይደውሉ"
        ],
        [
         "2",
         "ዋጋው 100 ብር ብቻ"
        ],
        [
         "3",
         "ቦሌ አካባቢ የሚገኝ መኪና"
        ],
        [
         "4",
         "አዲስ አበባ መርካቶ"
        ]
       ],
       "shape": {
        "columns": 1,
        "rows": 5
       }
      },
      "text/html": [
       "<div>\n",
       "<style scoped>\n",
       "    .dataframe tbody tr th:only-of-type {\n",
       "        vertical-align: middle;\n",
       "    }\n",
       "\n",
       "    .dataframe tbody tr th {\n",
       "        vertical-align: top;\n",
       "    }\n",
       "\n",
       "    .dataframe thead th {\n",
       "        text-align: right;\n",
       "    }\n",
       "</style>\n",
       "<table border=\"1\" class=\"dataframe\">\n",
       "  <thead>\n",
       "    <tr style=\"text-align: right;\">\n",
       "      <th></th>\n",
       "      <th>Message</th>\n",
       "    </tr>\n",
       "  </thead>\n",
       "  <tbody>\n",
       "    <tr>\n",
       "      <th>0</th>\n",
       "      <td>መገናኛ አካባቢ የሚገኝ ሱቅ ቁጥር 123</td>\n",
       "    </tr>\n",
       "    <tr>\n",
       "      <th>1</th>\n",
       "      <td>0911223344 ላይ ይደውሉ</td>\n",
       "    </tr>\n",
       "    <tr>\n",
       "      <th>2</th>\n",
       "      <td>ዋጋው 100 ብር ብቻ</td>\n",
       "    </tr>\n",
       "    <tr>\n",
       "      <th>3</th>\n",
       "      <td>ቦሌ አካባቢ የሚገኝ መኪና</td>\n",
       "    </tr>\n",
       "    <tr>\n",
       "      <th>4</th>\n",
       "      <td>አዲስ አበባ መርካቶ</td>\n",
       "    </tr>\n",
       "  </tbody>\n",
       "</table>\n",
       "</div>"
      ],
      "text/plain": [
       "                     Message\n",
       "0  መገናኛ አካባቢ የሚገኝ ሱቅ ቁጥር 123\n",
       "1         0911223344 ላይ ይደውሉ\n",
       "2              ዋጋው 100 ብር ብቻ\n",
       "3           ቦሌ አካባቢ የሚገኝ መኪና\n",
       "4               አዲስ አበባ መርካቶ"
      ]
     },
     "metadata": {},
     "output_type": "display_data"
    },
    {
     "data": {
      "text/plain": [
       "(5, 1)"
      ]
     },
     "metadata": {},
     "output_type": "display_data"
    },
    {
     "name": "stderr",
     "output_type": "stream",
     "text": [
      ".\n",
      "----------------------------------------------------------------------\n",
      "Ran 7 tests in 0.200s\n",
      "\n",
      "OK\n"
     ]
    }
   ],
   "source": [
    "import unittest\n",
    "import pandas as pd\n",
    "import os\n",
    "import sys\n",
    "\n",
    "# Setup import path\n",
    "sys.path.append(os.path.abspath(os.path.join('..')))\n",
    "\n",
    "from scripts._02_label_data import label_data\n",
    "\n",
    "class TestLabelData(unittest.TestCase):\n",
    "\n",
    "    def setUp(self):\n",
    "        # Create a dummy DataFrame for testing\n",
    "        data = {'Message': ['መገናኛ አካባቢ የሚገኝ ሱቅ ቁጥር 123',\n",
    "                            '0911223344 ላይ ይደውሉ',\n",
    "                            'ዋጋው 100 ብር ብቻ',\n",
    "                            'ቦሌ አካባቢ የሚገኝ መኪና',\n",
    "                            'አዲስ አበባ መርካቶ']}\n",
    "        self.dummy_df_path = 'dummy_data.csv'\n",
    "        pd.DataFrame(data).to_csv(self.dummy_df_path, index=False)\n",
    "        self.labeler = label_data(self.dummy_df_path)\n",
    "\n",
    "    def tearDown(self):\n",
    "        # Clean up the dummy file\n",
    "        if os.path.exists(self.dummy_df_path):\n",
    "            os.remove(self.dummy_df_path)\n",
    "        # Clean up dummy output file if created\n",
    "        output_file = os.path.join(self.labeler.output_folder, \"ner_amharic_conll.txt\")\n",
    "        if os.path.exists(output_file):\n",
    "            os.remove(output_file)\n",
    "        if os.path.exists(self.labeler.output_folder):\n",
    "            os.rmdir(self.labeler.output_folder)\n",
    "\n",
    "\n",
    "    def test_load_df(self):\n",
    "        self.assertIsNotNone(self.labeler.df)\n",
    "        self.assertEqual(self.labeler.df.shape[0], 5)\n",
    "\n",
    "    def test_strip_prefix(self):\n",
    "        self.assertEqual(self.labeler.strip_prefix(\"ከመገናኛ\"), \"መገናኛ\")\n",
    "        self.assertEqual(self.labeler.strip_prefix(\"በሱቅ\"), \"ሱቅ\")\n",
    "        self.assertEqual(self.labeler.strip_prefix(\"የአድራሻ\"), \"አድራሻ\")\n",
    "        self.assertEqual(self.labeler.strip_prefix(\"ለዋጋ\"), \"ዋጋ\")\n",
    "        self.assertEqual(self.labeler.strip_prefix(\"ስለቦሌ\"), \"ቦሌ\")\n",
    "        self.assertEqual(self.labeler.strip_prefix(\"መኪና\"), \"መኪና\")\n",
    "\n",
    "    def test_label_token_phone(self):\n",
    "        self.assertEqual(self.labeler.label_token(\"0911223344\"), \"B-PHONE\")\n",
    "        self.assertEqual(self.labeler.label_token(\"251911223344\"), \"B-PHONE\")\n",
    "        self.assertEqual(self.labeler.label_token(\"InvalidPhone\"), \"O\")\n",
    "\n",
    "    def test_label_token_price(self):\n",
    "        self.assertEqual(self.labeler.label_token(\"ብር\"), \"B-PRICE\")\n",
    "        self.assertEqual(self.labeler.label_token(\"100\", \"ብር\"), \"I-PRICE\")\n",
    "        self.assertEqual(self.labeler.label_token(\"ብቻ\", \"ብር\"), \"I-PRICE\")\n",
    "        self.assertEqual(self.labeler.label_token(\"ነፃ\"), \"B-PRICE\")\n",
    "        self.assertEqual(self.labeler.label_token(\"100\"), \"B-PRICE\")\n",
    "        self.assertEqual(self.labeler.label_token(\"100\", \"ብር\"), \"I-PRICE\")\n",
    "        self.assertEqual(self.labeler.label_token(\"100\", \"ነፃ\"), \"O\") # Testing the forbidden case\n",
    "        self.assertEqual(self.labeler.label_token(\"ዋጋው\"), \"B-PRICE\")\n",
    "\n",
    "\n",
    "    def test_label_token_product(self):\n",
    "        self.assertEqual(self.labeler.label_token(\"መኪና\"), \"B-PRODUCT\")\n",
    "        self.assertEqual(self.labeler.label_token(\"ጫማዎች\"), \"B-PRODUCT\")\n",
    "        self.assertEqual(self.labeler.label_token(\"እቃ\"), \"I-PRODUCT\")\n",
    "        self.assertEqual(self.labeler.label_token(\"የመኪና\"), \"B-PRODUCT\")\n",
    "\n",
    "    def test_match_multiword_entity(self):\n",
    "        # Test case 1: Known multi-token location\n",
    "        tokens1 = \"አዲስ አበባ መርካቶ\".split()\n",
    "        labels1 = self.labeler.match_multiword_entity(tokens1)\n",
    "        self.assertEqual(labels1, [\"B-LOC\", \"I-LOC\", \"I-LOC\"])\n",
    "\n",
    "\n",
    "        # Test case 2: Suffix locator and numeric marker\n",
    "        tokens2 = \"መገናኛ አካባቢ ሱቅ ቁጥር 123\".split()\n",
    "        labels2 = self.labeler.match_multiword_entity(tokens2)\n",
    "        self.assertEqual(labels2, [\"B-LOC\", \"I-LOC\", \"I-LOC\", \"I-LOC\", \"I-LOC\"])\n",
    "\n",
    "        # Test case 3: Single token known location\n",
    "        tokens3 = \"ቦሌ\".split()\n",
    "        labels3 = self.labeler.match_multiword_entity(tokens3)\n",
    "        self.assertEqual(labels3, [\"B-LOC\"])\n",
    "\n",
    "        # Test case 4: Address keyword\n",
    "        tokens4 = \"አድራሻ\".split()\n",
    "        labels4 = self.labeler.match_multiword_entity(tokens4)\n",
    "        self.assertEqual(labels4, [\"B-LOC\"])\n",
    "\n",
    "        # Test case 5: Directional phrase\n",
    "        tokens5 = \"ወደ ግራ\".split()\n",
    "        labels5 = self.labeler.match_multiword_entity(tokens5)\n",
    "        self.assertEqual(labels5, [\"B-LOC\", \"I-LOC\"])\n",
    "\n",
    "        # Test case 6: No location\n",
    "        tokens6 = \"ይህ መልዕክት ነው\".split()\n",
    "        labels6 = self.labeler.match_multiword_entity(tokens6)\n",
    "        self.assertEqual(labels6, [\"O\", \"O\", \"O\"])\n",
    "\n",
    "    def test_generate_conll_sample(self):\n",
    "        self.labeler.generate_conll_sample(sample_size=5)\n",
    "        out_path = os.path.join(self.labeler.output_folder, \"ner_amharic_conll.txt\")\n",
    "        self.assertTrue(os.path.exists(out_path))\n",
    "        with open(out_path, 'r', encoding='utf-8') as f:\n",
    "            content = f.read()\n",
    "            # Check if some expected tags are present (heuristic)\n",
    "            self.assertTrue(\"B-LOC\" in content or \"I-LOC\" in content)\n",
    "            self.assertIn(\"B-PHONE\", content)\n",
    "            self.assertTrue(\"B-PRICE\" in content or \"I-PRICE\" in content)\n",
    "            self.assertTrue(\"B-PRODUCT\" in content or \"I-PRODUCT\" in content)\n",
    "\n",
    "\n",
    "# Rrun the test\n",
    "if __name__ == '__main__':\n",
    "    unittest.main(argv=['first-arg-is-ignored'], exit=False)"
   ]
  }
 ],
 "metadata": {
  "kernelspec": {
   "display_name": ".amhvenv",
   "language": "python",
   "name": "python3"
  },
  "language_info": {
   "codemirror_mode": {
    "name": "ipython",
    "version": 3
   },
   "file_extension": ".py",
   "mimetype": "text/x-python",
   "name": "python",
   "nbconvert_exporter": "python",
   "pygments_lexer": "ipython3",
   "version": "3.13.3"
  }
 },
 "nbformat": 4,
 "nbformat_minor": 5
}
