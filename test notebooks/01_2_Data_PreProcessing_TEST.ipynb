{
 "cells": [
  {
   "cell_type": "code",
   "execution_count": 1,
   "id": "a8a95617",
   "metadata": {},
   "outputs": [
    {
     "name": "stdout",
     "output_type": "stream",
     "text": [
      "DataFrame loaded successfully from test_data\\empty_messages_data.csv\n",
      "\n",
      "DataFrame head:\n"
     ]
    },
    {
     "data": {
      "application/vnd.microsoft.datawrangler.viewer.v0+json": {
       "columns": [
        {
         "name": "index",
         "rawType": "int64",
         "type": "integer"
        },
        {
         "name": "ID",
         "rawType": "int64",
         "type": "integer"
        },
        {
         "name": "Message",
         "rawType": "object",
         "type": "unknown"
        }
       ],
       "ref": "8b18f771-2a67-404c-b5f6-b7fb7ad7aa08",
       "rows": [
        [
         "0",
         "1",
         "ሀይ እንዴት ነህ?"
        ],
        [
         "1",
         "2",
         " "
        ],
        [
         "2",
         "3",
         null
        ],
        [
         "3",
         "4",
         "ይሄ ሌላ መልዕክት ነው"
        ]
       ],
       "shape": {
        "columns": 2,
        "rows": 4
       }
      },
      "text/html": [
       "<div>\n",
       "<style scoped>\n",
       "    .dataframe tbody tr th:only-of-type {\n",
       "        vertical-align: middle;\n",
       "    }\n",
       "\n",
       "    .dataframe tbody tr th {\n",
       "        vertical-align: top;\n",
       "    }\n",
       "\n",
       "    .dataframe thead th {\n",
       "        text-align: right;\n",
       "    }\n",
       "</style>\n",
       "<table border=\"1\" class=\"dataframe\">\n",
       "  <thead>\n",
       "    <tr style=\"text-align: right;\">\n",
       "      <th></th>\n",
       "      <th>ID</th>\n",
       "      <th>Message</th>\n",
       "    </tr>\n",
       "  </thead>\n",
       "  <tbody>\n",
       "    <tr>\n",
       "      <th>0</th>\n",
       "      <td>1</td>\n",
       "      <td>ሀይ እንዴት ነህ?</td>\n",
       "    </tr>\n",
       "    <tr>\n",
       "      <th>1</th>\n",
       "      <td>2</td>\n",
       "      <td></td>\n",
       "    </tr>\n",
       "    <tr>\n",
       "      <th>2</th>\n",
       "      <td>3</td>\n",
       "      <td>NaN</td>\n",
       "    </tr>\n",
       "    <tr>\n",
       "      <th>3</th>\n",
       "      <td>4</td>\n",
       "      <td>ይሄ ሌላ መልዕክት ነው</td>\n",
       "    </tr>\n",
       "  </tbody>\n",
       "</table>\n",
       "</div>"
      ],
      "text/plain": [
       "   ID         Message\n",
       "0   1     ሀይ እንዴት ነህ?\n",
       "1   2                \n",
       "2   3             NaN\n",
       "3   4  ይሄ ሌላ መልዕክት ነው"
      ]
     },
     "metadata": {},
     "output_type": "display_data"
    },
    {
     "name": "stdout",
     "output_type": "stream",
     "text": [
      "\n",
      "DataFrame shape:\n"
     ]
    },
    {
     "data": {
      "text/plain": [
       "(4, 2)"
      ]
     },
     "metadata": {},
     "output_type": "display_data"
    },
    {
     "name": "stdout",
     "output_type": "stream",
     "text": [
      "\n",
      "Phone number separated by space are handled.\n",
      "\n",
      "Prefixes are handled.\n",
      "\n",
      "Emojis and non Geʽez characters in 'Message' column are handeled.\n",
      "\n",
      "Empty rows where 'Message' column is empty and or has just numeric values are dropped.\n",
      "\n",
      "DataFrame head:\n"
     ]
    },
    {
     "data": {
      "application/vnd.microsoft.datawrangler.viewer.v0+json": {
       "columns": [
        {
         "name": "index",
         "rawType": "int64",
         "type": "integer"
        },
        {
         "name": "ID",
         "rawType": "int64",
         "type": "integer"
        },
        {
         "name": "Message",
         "rawType": "object",
         "type": "string"
        }
       ],
       "ref": "551e38c5-c049-4375-a23a-0e54bff330db",
       "rows": [
        [
         "0",
         "1",
         "ሀይ እንዴት ነህ"
        ],
        [
         "1",
         "4",
         "ይሄ ሌላ መልዕክት ነው"
        ]
       ],
       "shape": {
        "columns": 2,
        "rows": 2
       }
      },
      "text/html": [
       "<div>\n",
       "<style scoped>\n",
       "    .dataframe tbody tr th:only-of-type {\n",
       "        vertical-align: middle;\n",
       "    }\n",
       "\n",
       "    .dataframe tbody tr th {\n",
       "        vertical-align: top;\n",
       "    }\n",
       "\n",
       "    .dataframe thead th {\n",
       "        text-align: right;\n",
       "    }\n",
       "</style>\n",
       "<table border=\"1\" class=\"dataframe\">\n",
       "  <thead>\n",
       "    <tr style=\"text-align: right;\">\n",
       "      <th></th>\n",
       "      <th>ID</th>\n",
       "      <th>Message</th>\n",
       "    </tr>\n",
       "  </thead>\n",
       "  <tbody>\n",
       "    <tr>\n",
       "      <th>0</th>\n",
       "      <td>1</td>\n",
       "      <td>ሀይ እንዴት ነህ</td>\n",
       "    </tr>\n",
       "    <tr>\n",
       "      <th>1</th>\n",
       "      <td>4</td>\n",
       "      <td>ይሄ ሌላ መልዕክት ነው</td>\n",
       "    </tr>\n",
       "  </tbody>\n",
       "</table>\n",
       "</div>"
      ],
      "text/plain": [
       "   ID         Message\n",
       "0   1      ሀይ እንዴት ነህ\n",
       "1   4  ይሄ ሌላ መልዕክት ነው"
      ]
     },
     "metadata": {},
     "output_type": "display_data"
    },
    {
     "name": "stdout",
     "output_type": "stream",
     "text": [
      "\n",
      "DataFrame shape:\n"
     ]
    },
    {
     "data": {
      "text/plain": [
       "(2, 2)"
      ]
     },
     "metadata": {},
     "output_type": "display_data"
    },
    {
     "name": "stderr",
     "output_type": "stream",
     "text": [
      ".."
     ]
    },
    {
     "name": "stdout",
     "output_type": "stream",
     "text": [
      "\n",
      "DataFrame Info:\n",
      "<class 'pandas.core.frame.DataFrame'>\n",
      "RangeIndex: 2 entries, 0 to 1\n",
      "Data columns (total 2 columns):\n",
      " #   Column   Non-Null Count  Dtype \n",
      "---  ------   --------------  ----- \n",
      " 0   ID       2 non-null      int64 \n",
      " 1   Message  2 non-null      object\n",
      "dtypes: int64(1), object(1)\n",
      "memory usage: 164.0+ bytes\n",
      "\n",
      "Prrocessed DataFrame Saved to: data\\processed_telegram_data.csv\n",
      "DataFrame loaded successfully from test_data\\valid_data.csv\n",
      "\n",
      "DataFrame head:\n"
     ]
    },
    {
     "data": {
      "application/vnd.microsoft.datawrangler.viewer.v0+json": {
       "columns": [
        {
         "name": "index",
         "rawType": "int64",
         "type": "integer"
        },
        {
         "name": "ID",
         "rawType": "int64",
         "type": "integer"
        },
        {
         "name": "Message",
         "rawType": "object",
         "type": "unknown"
        }
       ],
       "ref": "7cbf9056-2559-43b9-a5d6-60e32d126506",
       "rows": [
        [
         "0",
         "1",
         "Hello 😊"
        ],
        [
         "1",
         "2",
         "Test message with ፡"
        ],
        [
         "2",
         "3",
         "This is a test."
        ],
        [
         "3",
         "4",
         "ሀይ፣ እንዴት ነህ?"
        ],
        [
         "4",
         "5",
         null
        ]
       ],
       "shape": {
        "columns": 2,
        "rows": 5
       }
      },
      "text/html": [
       "<div>\n",
       "<style scoped>\n",
       "    .dataframe tbody tr th:only-of-type {\n",
       "        vertical-align: middle;\n",
       "    }\n",
       "\n",
       "    .dataframe tbody tr th {\n",
       "        vertical-align: top;\n",
       "    }\n",
       "\n",
       "    .dataframe thead th {\n",
       "        text-align: right;\n",
       "    }\n",
       "</style>\n",
       "<table border=\"1\" class=\"dataframe\">\n",
       "  <thead>\n",
       "    <tr style=\"text-align: right;\">\n",
       "      <th></th>\n",
       "      <th>ID</th>\n",
       "      <th>Message</th>\n",
       "    </tr>\n",
       "  </thead>\n",
       "  <tbody>\n",
       "    <tr>\n",
       "      <th>0</th>\n",
       "      <td>1</td>\n",
       "      <td>Hello 😊</td>\n",
       "    </tr>\n",
       "    <tr>\n",
       "      <th>1</th>\n",
       "      <td>2</td>\n",
       "      <td>Test message with ፡</td>\n",
       "    </tr>\n",
       "    <tr>\n",
       "      <th>2</th>\n",
       "      <td>3</td>\n",
       "      <td>This is a test.</td>\n",
       "    </tr>\n",
       "    <tr>\n",
       "      <th>3</th>\n",
       "      <td>4</td>\n",
       "      <td>ሀይ፣ እንዴት ነህ?</td>\n",
       "    </tr>\n",
       "    <tr>\n",
       "      <th>4</th>\n",
       "      <td>5</td>\n",
       "      <td>NaN</td>\n",
       "    </tr>\n",
       "  </tbody>\n",
       "</table>\n",
       "</div>"
      ],
      "text/plain": [
       "   ID              Message\n",
       "0   1              Hello 😊\n",
       "1   2  Test message with ፡\n",
       "2   3      This is a test.\n",
       "3   4         ሀይ፣ እንዴት ነህ?\n",
       "4   5                  NaN"
      ]
     },
     "metadata": {},
     "output_type": "display_data"
    },
    {
     "name": "stdout",
     "output_type": "stream",
     "text": [
      "\n",
      "DataFrame shape:\n"
     ]
    },
    {
     "data": {
      "text/plain": [
       "(7, 2)"
      ]
     },
     "metadata": {},
     "output_type": "display_data"
    },
    {
     "name": "stdout",
     "output_type": "stream",
     "text": [
      "\n",
      "Phone number separated by space are handled.\n",
      "\n",
      "Prefixes are handled.\n",
      "\n",
      "Emojis and non Geʽez characters in 'Message' column are handeled.\n",
      "\n",
      "Empty rows where 'Message' column is empty and or has just numeric values are dropped.\n",
      "\n",
      "DataFrame head:\n"
     ]
    },
    {
     "data": {
      "application/vnd.microsoft.datawrangler.viewer.v0+json": {
       "columns": [
        {
         "name": "index",
         "rawType": "int64",
         "type": "integer"
        },
        {
         "name": "ID",
         "rawType": "int64",
         "type": "integer"
        },
        {
         "name": "Message",
         "rawType": "object",
         "type": "string"
        }
       ],
       "ref": "e2ea71c4-2343-4e0a-adf7-0ca6dd0eb3a6",
       "rows": [
        [
         "0",
         "4",
         "ሀይ እንዴት ነህ"
        ]
       ],
       "shape": {
        "columns": 2,
        "rows": 1
       }
      },
      "text/html": [
       "<div>\n",
       "<style scoped>\n",
       "    .dataframe tbody tr th:only-of-type {\n",
       "        vertical-align: middle;\n",
       "    }\n",
       "\n",
       "    .dataframe tbody tr th {\n",
       "        vertical-align: top;\n",
       "    }\n",
       "\n",
       "    .dataframe thead th {\n",
       "        text-align: right;\n",
       "    }\n",
       "</style>\n",
       "<table border=\"1\" class=\"dataframe\">\n",
       "  <thead>\n",
       "    <tr style=\"text-align: right;\">\n",
       "      <th></th>\n",
       "      <th>ID</th>\n",
       "      <th>Message</th>\n",
       "    </tr>\n",
       "  </thead>\n",
       "  <tbody>\n",
       "    <tr>\n",
       "      <th>0</th>\n",
       "      <td>4</td>\n",
       "      <td>ሀይ እንዴት ነህ</td>\n",
       "    </tr>\n",
       "  </tbody>\n",
       "</table>\n",
       "</div>"
      ],
      "text/plain": [
       "   ID     Message\n",
       "0   4  ሀይ እንዴት ነህ"
      ]
     },
     "metadata": {},
     "output_type": "display_data"
    },
    {
     "name": "stdout",
     "output_type": "stream",
     "text": [
      "\n",
      "DataFrame shape:\n"
     ]
    },
    {
     "data": {
      "text/plain": [
       "(1, 2)"
      ]
     },
     "metadata": {},
     "output_type": "display_data"
    },
    {
     "name": "stderr",
     "output_type": "stream",
     "text": [
      "."
     ]
    },
    {
     "name": "stdout",
     "output_type": "stream",
     "text": [
      "\n",
      "DataFrame Info:\n",
      "<class 'pandas.core.frame.DataFrame'>\n",
      "RangeIndex: 1 entries, 0 to 0\n",
      "Data columns (total 2 columns):\n",
      " #   Column   Non-Null Count  Dtype \n",
      "---  ------   --------------  ----- \n",
      " 0   ID       1 non-null      int64 \n",
      " 1   Message  1 non-null      object\n",
      "dtypes: int64(1), object(1)\n",
      "memory usage: 148.0+ bytes\n",
      "\n",
      "Prrocessed DataFrame Saved to: data\\processed_telegram_data.csv\n",
      "DataFrame loaded successfully from test_data\\whitespace_cols_data.csv\n",
      "\n",
      "DataFrame head:\n"
     ]
    },
    {
     "data": {
      "application/vnd.microsoft.datawrangler.viewer.v0+json": {
       "columns": [
        {
         "name": "index",
         "rawType": "int64",
         "type": "integer"
        },
        {
         "name": "ID",
         "rawType": "int64",
         "type": "integer"
        },
        {
         "name": "Message",
         "rawType": "object",
         "type": "string"
        },
        {
         "name": "WhitespaceCol",
         "rawType": "object",
         "type": "string"
        }
       ],
       "ref": "025da57a-89ad-4178-a0a1-94692eba328d",
       "rows": [
        [
         "0",
         "1",
         "Msg 1",
         " "
        ],
        [
         "1",
         "2",
         "Msg 2",
         "  "
        ]
       ],
       "shape": {
        "columns": 3,
        "rows": 2
       }
      },
      "text/html": [
       "<div>\n",
       "<style scoped>\n",
       "    .dataframe tbody tr th:only-of-type {\n",
       "        vertical-align: middle;\n",
       "    }\n",
       "\n",
       "    .dataframe tbody tr th {\n",
       "        vertical-align: top;\n",
       "    }\n",
       "\n",
       "    .dataframe thead th {\n",
       "        text-align: right;\n",
       "    }\n",
       "</style>\n",
       "<table border=\"1\" class=\"dataframe\">\n",
       "  <thead>\n",
       "    <tr style=\"text-align: right;\">\n",
       "      <th></th>\n",
       "      <th>ID</th>\n",
       "      <th>Message</th>\n",
       "      <th>WhitespaceCol</th>\n",
       "    </tr>\n",
       "  </thead>\n",
       "  <tbody>\n",
       "    <tr>\n",
       "      <th>0</th>\n",
       "      <td>1</td>\n",
       "      <td>Msg 1</td>\n",
       "      <td></td>\n",
       "    </tr>\n",
       "    <tr>\n",
       "      <th>1</th>\n",
       "      <td>2</td>\n",
       "      <td>Msg 2</td>\n",
       "      <td></td>\n",
       "    </tr>\n",
       "  </tbody>\n",
       "</table>\n",
       "</div>"
      ],
      "text/plain": [
       "   ID Message WhitespaceCol\n",
       "0   1   Msg 1              \n",
       "1   2   Msg 2              "
      ]
     },
     "metadata": {},
     "output_type": "display_data"
    },
    {
     "name": "stdout",
     "output_type": "stream",
     "text": [
      "\n",
      "DataFrame shape:\n"
     ]
    },
    {
     "data": {
      "text/plain": [
       "(2, 3)"
      ]
     },
     "metadata": {},
     "output_type": "display_data"
    },
    {
     "name": "stdout",
     "output_type": "stream",
     "text": [
      "\n",
      "Phone number separated by space are handled.\n",
      "\n",
      "Prefixes are handled.\n",
      "\n",
      "Emojis and non Geʽez characters in 'Message' column are handeled.\n",
      "\n",
      "Empty rows where 'Message' column is empty and or has just numeric values are dropped.\n",
      "\n",
      "Dropped columns containing only whitespace: ['ID', 'Message', 'WhitespaceCol']\n",
      "\n",
      "DataFrame head:\n"
     ]
    },
    {
     "data": {
      "application/vnd.microsoft.datawrangler.viewer.v0+json": {
       "columns": [
        {
         "name": "index",
         "rawType": "int64",
         "type": "integer"
        }
       ],
       "ref": "b1e3fb2c-ea12-400d-8ddc-42321ddb2ba2",
       "rows": [],
       "shape": {
        "columns": 0,
        "rows": 0
       }
      },
      "text/html": [
       "<div>\n",
       "<style scoped>\n",
       "    .dataframe tbody tr th:only-of-type {\n",
       "        vertical-align: middle;\n",
       "    }\n",
       "\n",
       "    .dataframe tbody tr th {\n",
       "        vertical-align: top;\n",
       "    }\n",
       "\n",
       "    .dataframe thead th {\n",
       "        text-align: right;\n",
       "    }\n",
       "</style>\n",
       "<table border=\"1\" class=\"dataframe\">\n",
       "  <thead>\n",
       "    <tr style=\"text-align: right;\">\n",
       "      <th></th>\n",
       "    </tr>\n",
       "  </thead>\n",
       "  <tbody>\n",
       "  </tbody>\n",
       "</table>\n",
       "</div>"
      ],
      "text/plain": [
       "Empty DataFrame\n",
       "Columns: []\n",
       "Index: []"
      ]
     },
     "metadata": {},
     "output_type": "display_data"
    },
    {
     "name": "stdout",
     "output_type": "stream",
     "text": [
      "\n",
      "DataFrame shape:\n"
     ]
    },
    {
     "data": {
      "text/plain": [
       "(0, 0)"
      ]
     },
     "metadata": {},
     "output_type": "display_data"
    },
    {
     "name": "stderr",
     "output_type": "stream",
     "text": [
      ".."
     ]
    },
    {
     "name": "stdout",
     "output_type": "stream",
     "text": [
      "\n",
      "DataFrame Info:\n",
      "<class 'pandas.core.frame.DataFrame'>\n",
      "RangeIndex: 0 entries\n",
      "Empty DataFrame\n",
      "\n",
      "Prrocessed DataFrame Saved to: data\\processed_telegram_data.csv\n",
      "Error: File not found at non_existent_file.csv\n"
     ]
    },
    {
     "name": "stderr",
     "output_type": "stream",
     "text": [
      "."
     ]
    },
    {
     "name": "stdout",
     "output_type": "stream",
     "text": [
      "DataFrame loaded successfully from test_data\\valid_data.csv\n",
      "\n",
      "DataFrame head:\n"
     ]
    },
    {
     "data": {
      "application/vnd.microsoft.datawrangler.viewer.v0+json": {
       "columns": [
        {
         "name": "index",
         "rawType": "int64",
         "type": "integer"
        },
        {
         "name": "ID",
         "rawType": "int64",
         "type": "integer"
        },
        {
         "name": "Message",
         "rawType": "object",
         "type": "unknown"
        }
       ],
       "ref": "82ef602a-2913-43ff-a063-27c12a243ff4",
       "rows": [
        [
         "0",
         "1",
         "Hello 😊"
        ],
        [
         "1",
         "2",
         "Test message with ፡"
        ],
        [
         "2",
         "3",
         "This is a test."
        ],
        [
         "3",
         "4",
         "ሀይ፣ እንዴት ነህ?"
        ],
        [
         "4",
         "5",
         null
        ]
       ],
       "shape": {
        "columns": 2,
        "rows": 5
       }
      },
      "text/html": [
       "<div>\n",
       "<style scoped>\n",
       "    .dataframe tbody tr th:only-of-type {\n",
       "        vertical-align: middle;\n",
       "    }\n",
       "\n",
       "    .dataframe tbody tr th {\n",
       "        vertical-align: top;\n",
       "    }\n",
       "\n",
       "    .dataframe thead th {\n",
       "        text-align: right;\n",
       "    }\n",
       "</style>\n",
       "<table border=\"1\" class=\"dataframe\">\n",
       "  <thead>\n",
       "    <tr style=\"text-align: right;\">\n",
       "      <th></th>\n",
       "      <th>ID</th>\n",
       "      <th>Message</th>\n",
       "    </tr>\n",
       "  </thead>\n",
       "  <tbody>\n",
       "    <tr>\n",
       "      <th>0</th>\n",
       "      <td>1</td>\n",
       "      <td>Hello 😊</td>\n",
       "    </tr>\n",
       "    <tr>\n",
       "      <th>1</th>\n",
       "      <td>2</td>\n",
       "      <td>Test message with ፡</td>\n",
       "    </tr>\n",
       "    <tr>\n",
       "      <th>2</th>\n",
       "      <td>3</td>\n",
       "      <td>This is a test.</td>\n",
       "    </tr>\n",
       "    <tr>\n",
       "      <th>3</th>\n",
       "      <td>4</td>\n",
       "      <td>ሀይ፣ እንዴት ነህ?</td>\n",
       "    </tr>\n",
       "    <tr>\n",
       "      <th>4</th>\n",
       "      <td>5</td>\n",
       "      <td>NaN</td>\n",
       "    </tr>\n",
       "  </tbody>\n",
       "</table>\n",
       "</div>"
      ],
      "text/plain": [
       "   ID              Message\n",
       "0   1              Hello 😊\n",
       "1   2  Test message with ፡\n",
       "2   3      This is a test.\n",
       "3   4         ሀይ፣ እንዴት ነህ?\n",
       "4   5                  NaN"
      ]
     },
     "metadata": {},
     "output_type": "display_data"
    },
    {
     "name": "stdout",
     "output_type": "stream",
     "text": [
      "\n",
      "DataFrame shape:\n"
     ]
    },
    {
     "data": {
      "text/plain": [
       "(7, 2)"
      ]
     },
     "metadata": {},
     "output_type": "display_data"
    },
    {
     "name": "stderr",
     "output_type": "stream",
     "text": [
      ".."
     ]
    },
    {
     "name": "stdout",
     "output_type": "stream",
     "text": [
      "DataFrame loaded successfully from test_data\\valid_data.csv\n",
      "\n",
      "DataFrame head:\n"
     ]
    },
    {
     "data": {
      "application/vnd.microsoft.datawrangler.viewer.v0+json": {
       "columns": [
        {
         "name": "index",
         "rawType": "int64",
         "type": "integer"
        },
        {
         "name": "ID",
         "rawType": "int64",
         "type": "integer"
        },
        {
         "name": "Message",
         "rawType": "object",
         "type": "unknown"
        }
       ],
       "ref": "5d759fae-10e7-4c81-b19e-d703fad233be",
       "rows": [
        [
         "0",
         "1",
         "Hello 😊"
        ],
        [
         "1",
         "2",
         "Test message with ፡"
        ],
        [
         "2",
         "3",
         "This is a test."
        ],
        [
         "3",
         "4",
         "ሀይ፣ እንዴት ነህ?"
        ],
        [
         "4",
         "5",
         null
        ]
       ],
       "shape": {
        "columns": 2,
        "rows": 5
       }
      },
      "text/html": [
       "<div>\n",
       "<style scoped>\n",
       "    .dataframe tbody tr th:only-of-type {\n",
       "        vertical-align: middle;\n",
       "    }\n",
       "\n",
       "    .dataframe tbody tr th {\n",
       "        vertical-align: top;\n",
       "    }\n",
       "\n",
       "    .dataframe thead th {\n",
       "        text-align: right;\n",
       "    }\n",
       "</style>\n",
       "<table border=\"1\" class=\"dataframe\">\n",
       "  <thead>\n",
       "    <tr style=\"text-align: right;\">\n",
       "      <th></th>\n",
       "      <th>ID</th>\n",
       "      <th>Message</th>\n",
       "    </tr>\n",
       "  </thead>\n",
       "  <tbody>\n",
       "    <tr>\n",
       "      <th>0</th>\n",
       "      <td>1</td>\n",
       "      <td>Hello 😊</td>\n",
       "    </tr>\n",
       "    <tr>\n",
       "      <th>1</th>\n",
       "      <td>2</td>\n",
       "      <td>Test message with ፡</td>\n",
       "    </tr>\n",
       "    <tr>\n",
       "      <th>2</th>\n",
       "      <td>3</td>\n",
       "      <td>This is a test.</td>\n",
       "    </tr>\n",
       "    <tr>\n",
       "      <th>3</th>\n",
       "      <td>4</td>\n",
       "      <td>ሀይ፣ እንዴት ነህ?</td>\n",
       "    </tr>\n",
       "    <tr>\n",
       "      <th>4</th>\n",
       "      <td>5</td>\n",
       "      <td>NaN</td>\n",
       "    </tr>\n",
       "  </tbody>\n",
       "</table>\n",
       "</div>"
      ],
      "text/plain": [
       "   ID              Message\n",
       "0   1              Hello 😊\n",
       "1   2  Test message with ፡\n",
       "2   3      This is a test.\n",
       "3   4         ሀይ፣ እንዴት ነህ?\n",
       "4   5                  NaN"
      ]
     },
     "metadata": {},
     "output_type": "display_data"
    },
    {
     "name": "stdout",
     "output_type": "stream",
     "text": [
      "\n",
      "DataFrame shape:\n"
     ]
    },
    {
     "data": {
      "text/plain": [
       "(7, 2)"
      ]
     },
     "metadata": {},
     "output_type": "display_data"
    },
    {
     "name": "stdout",
     "output_type": "stream",
     "text": [
      "\n",
      "Phone number separated by space are handled.\n",
      "\n",
      "Prefixes are handled.\n",
      "\n",
      "Emojis and non Geʽez characters in 'Message' column are handeled.\n",
      "\n",
      "Empty rows where 'Message' column is empty and or has just numeric values are dropped.\n",
      "\n",
      "DataFrame head:\n"
     ]
    },
    {
     "data": {
      "application/vnd.microsoft.datawrangler.viewer.v0+json": {
       "columns": [
        {
         "name": "index",
         "rawType": "int64",
         "type": "integer"
        },
        {
         "name": "ID",
         "rawType": "int64",
         "type": "integer"
        },
        {
         "name": "Message",
         "rawType": "object",
         "type": "string"
        }
       ],
       "ref": "83f1b1dd-6508-479c-a431-c36a17c44dd1",
       "rows": [
        [
         "0",
         "4",
         "ሀይ እንዴት ነህ"
        ]
       ],
       "shape": {
        "columns": 2,
        "rows": 1
       }
      },
      "text/html": [
       "<div>\n",
       "<style scoped>\n",
       "    .dataframe tbody tr th:only-of-type {\n",
       "        vertical-align: middle;\n",
       "    }\n",
       "\n",
       "    .dataframe tbody tr th {\n",
       "        vertical-align: top;\n",
       "    }\n",
       "\n",
       "    .dataframe thead th {\n",
       "        text-align: right;\n",
       "    }\n",
       "</style>\n",
       "<table border=\"1\" class=\"dataframe\">\n",
       "  <thead>\n",
       "    <tr style=\"text-align: right;\">\n",
       "      <th></th>\n",
       "      <th>ID</th>\n",
       "      <th>Message</th>\n",
       "    </tr>\n",
       "  </thead>\n",
       "  <tbody>\n",
       "    <tr>\n",
       "      <th>0</th>\n",
       "      <td>4</td>\n",
       "      <td>ሀይ እንዴት ነህ</td>\n",
       "    </tr>\n",
       "  </tbody>\n",
       "</table>\n",
       "</div>"
      ],
      "text/plain": [
       "   ID     Message\n",
       "0   4  ሀይ እንዴት ነህ"
      ]
     },
     "metadata": {},
     "output_type": "display_data"
    },
    {
     "name": "stdout",
     "output_type": "stream",
     "text": [
      "\n",
      "DataFrame shape:\n"
     ]
    },
    {
     "data": {
      "text/plain": [
       "(1, 2)"
      ]
     },
     "metadata": {},
     "output_type": "display_data"
    },
    {
     "name": "stdout",
     "output_type": "stream",
     "text": [
      "\n",
      "DataFrame Info:\n",
      "<class 'pandas.core.frame.DataFrame'>\n",
      "RangeIndex: 1 entries, 0 to 0\n",
      "Data columns (total 2 columns):\n",
      " #   Column   Non-Null Count  Dtype \n",
      "---  ------   --------------  ----- \n",
      " 0   ID       1 non-null      int64 \n",
      " 1   Message  1 non-null      object\n",
      "dtypes: int64(1), object(1)\n",
      "memory usage: 148.0+ bytes\n"
     ]
    },
    {
     "name": "stderr",
     "output_type": "stream",
     "text": [
      ".\n",
      "----------------------------------------------------------------------\n",
      "Ran 9 tests in 0.343s\n",
      "\n",
      "OK\n"
     ]
    },
    {
     "name": "stdout",
     "output_type": "stream",
     "text": [
      "\n",
      "Prrocessed DataFrame Saved to: test_data\\output_test\\processed_telegram_data.csv\n"
     ]
    }
   ],
   "source": [
    "import unittest\n",
    "import pandas as pd\n",
    "import os\n",
    "import sys\n",
    "import shutil\n",
    "\n",
    "# Setup import path\n",
    "sys.path.append(os.path.abspath(os.path.join('..')))\n",
    "\n",
    "from scripts._01_3_preprocess_and_clean import preprocess_and_clean\n",
    "\n",
    "# Import the preprocessing class\n",
    "class TestPreprocessAndClean(unittest.TestCase):\n",
    "\n",
    "    def setUp(self):\n",
    "        self.test_dir = 'test_data'\n",
    "        os.makedirs(self.test_dir, exist_ok=True)\n",
    "\n",
    "        # Valid test CSV (includes Amharic, English, emojis, whitespace)\n",
    "        self.valid_csv_path = os.path.join(self.test_dir, 'valid_data.csv')\n",
    "        valid_data = {'ID': [1, 2, 3, 4, 5, 6, 7],\n",
    "                        'Message': ['Hello 😊',\n",
    "                                    'Test message with ፡',\n",
    "                                    'This is a test.',\n",
    "                                    'ሀይ፣ እንዴት ነህ?',\n",
    "                                    '',\n",
    "                                    '   ',\n",
    "                                    None]}\n",
    "        pd.DataFrame(valid_data).to_csv(self.valid_csv_path, index=False)\n",
    "\n",
    "        # Missing columns\n",
    "        self.missing_cols_csv_path = os.path.join(self.test_dir, 'missing_cols_data.csv')\n",
    "        pd.DataFrame({'AnotherCol': [1, 2, 3], 'Message': ['Msg 1', 'Msg 2', 'Msg 3']}) \\\n",
    "            .to_csv(self.missing_cols_csv_path, index=False)\n",
    "\n",
    "        # Empty messages and messages that should be kept\n",
    "        self.empty_messages_csv_path = os.path.join(self.test_dir, 'empty_messages_data.csv')\n",
    "        pd.DataFrame({'ID': [1, 2, 3, 4], 'Message': ['ሀይ እንዴት ነህ?', ' ', '', 'ይሄ ሌላ መልዕክት ነው']}) \\\n",
    "            .to_csv(self.empty_messages_csv_path, index=False)\n",
    "\n",
    "        # Whitespace-only column\n",
    "        self.whitespace_cols_csv_path = os.path.join(self.test_dir, 'whitespace_cols_data.csv')\n",
    "        pd.DataFrame({'ID': [1, 2], 'Message': ['Msg 1', 'Msg 2'], 'WhitespaceCol': [' ', '  ']}) \\\n",
    "            .to_csv(self.whitespace_cols_csv_path, index=False)\n",
    "\n",
    "\n",
    "    def tearDown(self):\n",
    "        # Remove test data files and directories\n",
    "        if os.path.exists(self.test_dir):\n",
    "            shutil.rmtree(self.test_dir) # Use shutil.rmtree to remove directory and contents\n",
    "\n",
    "        # Remove default output directory\n",
    "        output_dir = os.path.join(os.getcwd(), \"data\")\n",
    "        if os.path.exists(output_dir):\n",
    "            shutil.rmtree(output_dir) # Use shutil.rmtree\n",
    "\n",
    "        # Remove the specific output directory created in test_output_folder_creation\n",
    "        test_output_folder = os.path.join(self.test_dir, 'output_test')\n",
    "        if os.path.exists(test_output_folder):\n",
    "             shutil.rmtree(test_output_folder) # Use shutil.rmtree\n",
    "\n",
    "    def test_load_df_valid(self):\n",
    "        preprocessor = preprocess_and_clean(self.valid_csv_path, output_folder=None)\n",
    "        self.assertIsNotNone(preprocessor.df_raw)\n",
    "        self.assertEqual(preprocessor.df_raw.shape, (7, 2))\n",
    "\n",
    "    def test_load_df_file_not_found(self):\n",
    "        preprocessor = preprocess_and_clean('non_existent_file.csv', output_folder=None)\n",
    "        self.assertIsNone(preprocessor.df_raw)\n",
    "\n",
    "    def test_load_df_no_path(self):\n",
    "        preprocessor = preprocess_and_clean(None, output_folder=None)\n",
    "        self.assertIsNone(preprocessor.df_raw)\n",
    "    \n",
    "    def test_normalise_amharic(self):\n",
    "        preprocessor = preprocess_and_clean(None, output_folder=None)\n",
    "        self.assertEqual(preprocessor.normalise_amharic(\"Hello 😊\"), \"\")\n",
    "        self.assertEqual(preprocessor.normalise_amharic(\"Test message with ፡\"), \"\")\n",
    "        self.assertEqual(preprocessor.normalise_amharic(\"This is a test.\"), \"\")\n",
    "        self.assertEqual(preprocessor.normalise_amharic(\"ሀይ፣ እንዴት ነህ?\"), \"ሀይ እንዴት ነህ\")\n",
    "        self.assertEqual(preprocessor.normalise_amharic(\"\"), \"\")\n",
    "        self.assertEqual(preprocessor.normalise_amharic(\"   \"), \"\")\n",
    "        self.assertEqual(preprocessor.normalise_amharic(None), \"\")\n",
    "\n",
    "    def test_clean_df_valid(self):\n",
    "        preprocessor = preprocess_and_clean(self.valid_csv_path, output_folder=None)\n",
    "        cleaned_df = preprocessor.clean_df()\n",
    "        self.assertIsNotNone(cleaned_df)\n",
    "        self.assertGreaterEqual(cleaned_df.shape[0], 1)\n",
    "        self.assertIn('ID', cleaned_df.columns)\n",
    "        self.assertIn('Message', cleaned_df.columns)\n",
    "        self.assertTrue(cleaned_df['Message'].str.contains('ሀይ').any())\n",
    "\n",
    "    def test_clean_df_empty_messages(self):\n",
    "        preprocessor = preprocess_and_clean(self.empty_messages_csv_path, output_folder=None)\n",
    "        cleaned_df = preprocessor.clean_df()\n",
    "        self.assertIsNotNone(cleaned_df)\n",
    "        self.assertEqual(cleaned_df.shape[0], 2)\n",
    "\n",
    "    def test_clean_df_whitespace_columns(self):\n",
    "        preprocessor = preprocess_and_clean(self.whitespace_cols_csv_path, output_folder=None)\n",
    "        cleaned_df = preprocessor.clean_df()\n",
    "        self.assertIsNotNone(cleaned_df)\n",
    "        self.assertNotIn('WhitespaceCol', cleaned_df.columns)\n",
    "\n",
    "    def test_clean_df_no_raw_df(self):\n",
    "        preprocessor = preprocess_and_clean(None, output_folder=None)\n",
    "        cleaned_df = preprocessor.clean_df()\n",
    "        self.assertIsNone(cleaned_df)\n",
    "\n",
    "    def test_output_folder_creation(self):\n",
    "        test_output_folder = os.path.join(self.test_dir, 'output_test')\n",
    "        preprocessor = preprocess_and_clean(self.valid_csv_path, output_folder=test_output_folder)\n",
    "        preprocessor.clean_df()\n",
    "        self.assertTrue(os.path.exists(test_output_folder))\n",
    "\n",
    "        for f in os.listdir(test_output_folder):\n",
    "            os.remove(os.path.join(test_output_folder, f))\n",
    "        os.rmdir(test_output_folder)\n",
    "\n",
    "if __name__ == '__main__':\n",
    "    unittest.main(argv=['first-arg-is-ignored'], exit=False)"
   ]
  }
 ],
 "metadata": {
  "kernelspec": {
   "display_name": ".amhvenv",
   "language": "python",
   "name": "python3"
  },
  "language_info": {
   "codemirror_mode": {
    "name": "ipython",
    "version": 3
   },
   "file_extension": ".py",
   "mimetype": "text/x-python",
   "name": "python",
   "nbconvert_exporter": "python",
   "pygments_lexer": "ipython3",
   "version": "3.13.3"
  }
 },
 "nbformat": 4,
 "nbformat_minor": 5
}
