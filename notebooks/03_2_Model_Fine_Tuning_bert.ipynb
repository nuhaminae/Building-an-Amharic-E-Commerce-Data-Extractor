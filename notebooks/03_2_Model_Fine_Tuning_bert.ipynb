{
 "cells": [
  {
   "cell_type": "markdown",
   "id": "ebb62378",
   "metadata": {},
   "source": [
    "# **Import Modules and Libraries**"
   ]
  },
  {
   "cell_type": "markdown",
   "id": "4674a12a",
   "metadata": {},
   "source": [
    "## *python*"
   ]
  },
  {
   "cell_type": "code",
   "execution_count": 1,
   "id": "db8fd40b",
   "metadata": {},
   "outputs": [],
   "source": [
    "import os\n",
    "import sys"
   ]
  },
  {
   "cell_type": "markdown",
   "id": "3943c426",
   "metadata": {},
   "source": [
    "## *custom*"
   ]
  },
  {
   "cell_type": "code",
   "execution_count": 2,
   "id": "b0f254bf",
   "metadata": {},
   "outputs": [],
   "source": [
    "#import customised modules\n",
    "\n",
    "#define path\n",
    "sys.path.append(os.path.abspath(os.path.join('..')))\n",
    "\n",
    "##import relevant modules\n",
    "try:\n",
    "    from scripts._03_2_fine_tuning_bert import bert_Amharic_NER_fine_tuner\n",
    "\n",
    "except ImportError:\n",
    "    print('Could not import module from `scripts/`.')"
   ]
  },
  {
   "cell_type": "markdown",
   "id": "d40892af",
   "metadata": {},
   "source": [
    "# **bert-tiny-amharic**"
   ]
  },
  {
   "cell_type": "code",
   "execution_count": 3,
   "id": "d870616e",
   "metadata": {},
   "outputs": [
    {
     "name": "stdout",
     "output_type": "stream",
     "text": [
      "Initialising bert_Amharic_NER_fine_tuner...\n",
      "\n",
      "Initialisation complete.\n",
      "\n",
      "Loading and preparing data...\n",
      "\n",
      "Loading data from ..\\data\\ner_amharic_conll.txt...\n",
      "\n",
      "Loaded 40 examples.\n",
      "\n",
      "Data loaded and processed.\n",
      "\n",
      "Dataset created and split into train/test.\n"
     ]
    },
    {
     "data": {
      "application/vnd.jupyter.widget-view+json": {
       "model_id": "39e5867c073e4b548827ae6a09f11de3",
       "version_major": 2,
       "version_minor": 0
      },
      "text/plain": [
       "Map:   0%|          | 0/32 [00:00<?, ? examples/s]"
      ]
     },
     "metadata": {},
     "output_type": "display_data"
    },
    {
     "data": {
      "application/vnd.jupyter.widget-view+json": {
       "model_id": "1efbf86c0f994227b4ebd553a12d25b0",
       "version_major": 2,
       "version_minor": 0
      },
      "text/plain": [
       "Map:   0%|          | 0/8 [00:00<?, ? examples/s]"
      ]
     },
     "metadata": {},
     "output_type": "display_data"
    },
    {
     "name": "stdout",
     "output_type": "stream",
     "text": [
      "\n",
      "Dataset tokenized and aligned.\n",
      "\n",
      "Setting up Trainer...\n"
     ]
    },
    {
     "name": "stderr",
     "output_type": "stream",
     "text": [
      "Some weights of BertForTokenClassification were not initialized from the model checkpoint at rasyosef/bert-tiny-amharic and are newly initialized: ['classifier.bias', 'classifier.weight']\n",
      "You should probably TRAIN this model on a down-stream task to be able to use it for predictions and inference.\n"
     ]
    },
    {
     "name": "stdout",
     "output_type": "stream",
     "text": [
      "\n",
      "Model loaded and configured.\n",
      "\n",
      "Training arguments set.\n",
      "\n",
      "Trainer initialised.\n",
      "\n",
      "Starting training...\n"
     ]
    },
    {
     "data": {
      "text/html": [
       "\n",
       "    <div>\n",
       "      \n",
       "      <progress value='60' max='60' style='width:300px; height:20px; vertical-align: middle;'></progress>\n",
       "      [60/60 00:20, Epoch 15/15]\n",
       "    </div>\n",
       "    <table border=\"1\" class=\"dataframe\">\n",
       "  <thead>\n",
       " <tr style=\"text-align: left;\">\n",
       "      <th>Epoch</th>\n",
       "      <th>Training Loss</th>\n",
       "      <th>Validation Loss</th>\n",
       "      <th>Loc</th>\n",
       "      <th>Phone</th>\n",
       "      <th>Price</th>\n",
       "      <th>Product</th>\n",
       "      <th>Micro avg</th>\n",
       "      <th>Macro avg</th>\n",
       "      <th>Weighted avg</th>\n",
       "    </tr>\n",
       "  </thead>\n",
       "  <tbody>\n",
       "    <tr>\n",
       "      <td>1</td>\n",
       "      <td>2.135400</td>\n",
       "      <td>2.108696</td>\n",
       "      <td>{'precision': 0.03879310344827586, 'recall': 0.2, 'f1-score': 0.06498194945848376, 'support': 45}</td>\n",
       "      <td>{'precision': 0.03225806451612903, 'recall': 0.007751937984496124, 'f1-score': 0.012499999999999999, 'support': 129}</td>\n",
       "      <td>{'precision': 0.07296137339055794, 'recall': 0.2236842105263158, 'f1-score': 0.11003236245954694, 'support': 76}</td>\n",
       "      <td>{'precision': 0.04672897196261682, 'recall': 0.15151515151515152, 'f1-score': 0.07142857142857142, 'support': 33}</td>\n",
       "      <td>{'precision': 0.05306799336650083, 'recall': 0.11307420494699646, 'f1-score': 0.07223476297968398, 'support': 283}</td>\n",
       "      <td>{'precision': 0.047685378329394915, 'recall': 0.14573782500649085, 'f1-score': 0.06473572083665052, 'support': 283}</td>\n",
       "      <td>{'precision': 0.045915549223327974, 'recall': 0.11307420494699646, 'f1-score': 0.05390915240176747, 'support': 283}</td>\n",
       "    </tr>\n",
       "    <tr>\n",
       "      <td>2</td>\n",
       "      <td>2.106900</td>\n",
       "      <td>2.081800</td>\n",
       "      <td>{'precision': 0.04072398190045249, 'recall': 0.2, 'f1-score': 0.06766917293233082, 'support': 45}</td>\n",
       "      <td>{'precision': 0.16216216216216217, 'recall': 0.046511627906976744, 'f1-score': 0.07228915662650602, 'support': 129}</td>\n",
       "      <td>{'precision': 0.06521739130434782, 'recall': 0.19736842105263158, 'f1-score': 0.09803921568627451, 'support': 76}</td>\n",
       "      <td>{'precision': 0.05154639175257732, 'recall': 0.15151515151515152, 'f1-score': 0.07692307692307691, 'support': 33}</td>\n",
       "      <td>{'precision': 0.05982905982905983, 'recall': 0.12367491166077739, 'f1-score': 0.08064516129032258, 'support': 283}</td>\n",
       "      <td>{'precision': 0.07991248177988494, 'recall': 0.14884880011868995, 'f1-score': 0.07873015554204707, 'support': 283}</td>\n",
       "      <td>{'precision': 0.10391890731945148, 'recall': 0.12367491166077739, 'f1-score': 0.07901009158089245, 'support': 283}</td>\n",
       "    </tr>\n",
       "    <tr>\n",
       "      <td>3</td>\n",
       "      <td>2.082900</td>\n",
       "      <td>2.057114</td>\n",
       "      <td>{'precision': 0.04411764705882353, 'recall': 0.2, 'f1-score': 0.07228915662650603, 'support': 45}</td>\n",
       "      <td>{'precision': 0.21052631578947367, 'recall': 0.06201550387596899, 'f1-score': 0.09580838323353293, 'support': 129}</td>\n",
       "      <td>{'precision': 0.06334841628959276, 'recall': 0.18421052631578946, 'f1-score': 0.09427609427609428, 'support': 76}</td>\n",
       "      <td>{'precision': 0.05747126436781609, 'recall': 0.15151515151515152, 'f1-score': 0.08333333333333333, 'support': 33}</td>\n",
       "      <td>{'precision': 0.06545454545454546, 'recall': 0.127208480565371, 'f1-score': 0.08643457382953182, 'support': 283}</td>\n",
       "      <td>{'precision': 0.09386591087642651, 'recall': 0.14943529542672748, 'f1-score': 0.08642674186736664, 'support': 283}</td>\n",
       "      <td>{'precision': 0.12669335765595807, 'recall': 0.127208480565371, 'f1-score': 0.09020239099046533, 'support': 283}</td>\n",
       "    </tr>\n",
       "    <tr>\n",
       "      <td>4</td>\n",
       "      <td>2.061700</td>\n",
       "      <td>2.034712</td>\n",
       "      <td>{'precision': 0.043478260869565216, 'recall': 0.17777777777777778, 'f1-score': 0.06986899563318777, 'support': 45}</td>\n",
       "      <td>{'precision': 0.27906976744186046, 'recall': 0.09302325581395349, 'f1-score': 0.13953488372093023, 'support': 129}</td>\n",
       "      <td>{'precision': 0.06422018348623854, 'recall': 0.18421052631578946, 'f1-score': 0.09523809523809525, 'support': 76}</td>\n",
       "      <td>{'precision': 0.06493506493506493, 'recall': 0.15151515151515152, 'f1-score': 0.0909090909090909, 'support': 33}</td>\n",
       "      <td>{'precision': 0.07471264367816093, 'recall': 0.13780918727915195, 'f1-score': 0.0968944099378882, 'support': 283}</td>\n",
       "      <td>{'precision': 0.11292581918318229, 'recall': 0.15163167785566806, 'f1-score': 0.09888776637532604, 'support': 283}</td>\n",
       "      <td>{'precision': 0.15894032801039476, 'recall': 0.13780918727915195, 'f1-score': 0.11089116622469501, 'support': 283}</td>\n",
       "    </tr>\n",
       "    <tr>\n",
       "      <td>5</td>\n",
       "      <td>2.037500</td>\n",
       "      <td>2.014361</td>\n",
       "      <td>{'precision': 0.041666666666666664, 'recall': 0.15555555555555556, 'f1-score': 0.06572769953051644, 'support': 45}</td>\n",
       "      <td>{'precision': 0.3333333333333333, 'recall': 0.13178294573643412, 'f1-score': 0.1888888888888889, 'support': 129}</td>\n",
       "      <td>{'precision': 0.05714285714285714, 'recall': 0.15789473684210525, 'f1-score': 0.0839160839160839, 'support': 76}</td>\n",
       "      <td>{'precision': 0.05714285714285714, 'recall': 0.12121212121212122, 'f1-score': 0.07766990291262137, 'support': 33}</td>\n",
       "      <td>{'precision': 0.08016032064128256, 'recall': 0.1413427561837456, 'f1-score': 0.10230179028132992, 'support': 283}</td>\n",
       "      <td>{'precision': 0.12232142857142858, 'recall': 0.14161133983655405, 'f1-score': 0.10405064381202767, 'support': 283}</td>\n",
       "      <td>{'precision': 0.18057799091367996, 'recall': 0.1413427561837456, 'f1-score': 0.1281453792200664, 'support': 283}</td>\n",
       "    </tr>\n",
       "    <tr>\n",
       "      <td>6</td>\n",
       "      <td>2.019300</td>\n",
       "      <td>1.995958</td>\n",
       "      <td>{'precision': 0.033783783783783786, 'recall': 0.1111111111111111, 'f1-score': 0.05181347150259068, 'support': 45}</td>\n",
       "      <td>{'precision': 0.3559322033898305, 'recall': 0.16279069767441862, 'f1-score': 0.22340425531914895, 'support': 129}</td>\n",
       "      <td>{'precision': 0.06532663316582915, 'recall': 0.17105263157894737, 'f1-score': 0.09454545454545456, 'support': 76}</td>\n",
       "      <td>{'precision': 0.05084745762711865, 'recall': 0.09090909090909091, 'f1-score': 0.06521739130434782, 'support': 33}</td>\n",
       "      <td>{'precision': 0.09032258064516129, 'recall': 0.14840989399293286, 'f1-score': 0.11229946524064169, 'support': 283}</td>\n",
       "      <td>{'precision': 0.1264725194916405, 'recall': 0.133965882818392, 'f1-score': 0.1087451431678855, 'support': 283}</td>\n",
       "      <td>{'precision': 0.19108945134224856, 'recall': 0.14840989399293286, 'f1-score': 0.14306849332962834, 'support': 283}</td>\n",
       "    </tr>\n",
       "    <tr>\n",
       "      <td>7</td>\n",
       "      <td>2.004200</td>\n",
       "      <td>1.979555</td>\n",
       "      <td>{'precision': 0.03759398496240601, 'recall': 0.1111111111111111, 'f1-score': 0.056179775280898875, 'support': 45}</td>\n",
       "      <td>{'precision': 0.4722222222222222, 'recall': 0.26356589147286824, 'f1-score': 0.3383084577114428, 'support': 129}</td>\n",
       "      <td>{'precision': 0.06770833333333333, 'recall': 0.17105263157894737, 'f1-score': 0.09701492537313432, 'support': 76}</td>\n",
       "      <td>{'precision': 0.05555555555555555, 'recall': 0.09090909090909091, 'f1-score': 0.06896551724137931, 'support': 33}</td>\n",
       "      <td>{'precision': 0.12195121951219512, 'recall': 0.19434628975265017, 'f1-score': 0.14986376021798364, 'support': 283}</td>\n",
       "      <td>{'precision': 0.15827002401837928, 'recall': 0.15915968126800442, 'f1-score': 0.14011716890171383, 'support': 283}</td>\n",
       "      <td>{'precision': 0.2458924475499703, 'recall': 0.19434628975265017, 'f1-score': 0.19723984922169716, 'support': 283}</td>\n",
       "    </tr>\n",
       "    <tr>\n",
       "      <td>8</td>\n",
       "      <td>1.985900</td>\n",
       "      <td>1.965158</td>\n",
       "      <td>{'precision': 0.041666666666666664, 'recall': 0.1111111111111111, 'f1-score': 0.06060606060606061, 'support': 45}</td>\n",
       "      <td>{'precision': 0.4805194805194805, 'recall': 0.2868217054263566, 'f1-score': 0.3592233009708738, 'support': 129}</td>\n",
       "      <td>{'precision': 0.058823529411764705, 'recall': 0.14473684210526316, 'f1-score': 0.08365019011406843, 'support': 76}</td>\n",
       "      <td>{'precision': 0.06382978723404255, 'recall': 0.09090909090909091, 'f1-score': 0.07499999999999998, 'support': 33}</td>\n",
       "      <td>{'precision': 0.12993039443155452, 'recall': 0.1978798586572438, 'f1-score': 0.1568627450980392, 'support': 283}</td>\n",
       "      <td>{'precision': 0.1612098659579886, 'recall': 0.15839468738795545, 'f1-score': 0.1446198879227507, 'support': 283}</td>\n",
       "      <td>{'precision': 0.24890100424392406, 'recall': 0.1978798586572438, 'f1-score': 0.20459184806072314, 'support': 283}</td>\n",
       "    </tr>\n",
       "    <tr>\n",
       "      <td>9</td>\n",
       "      <td>1.974500</td>\n",
       "      <td>1.952636</td>\n",
       "      <td>{'precision': 0.05357142857142857, 'recall': 0.13333333333333333, 'f1-score': 0.07643312101910828, 'support': 45}</td>\n",
       "      <td>{'precision': 0.5256410256410257, 'recall': 0.3178294573643411, 'f1-score': 0.39613526570048313, 'support': 129}</td>\n",
       "      <td>{'precision': 0.05649717514124294, 'recall': 0.13157894736842105, 'f1-score': 0.07905138339920949, 'support': 76}</td>\n",
       "      <td>{'precision': 0.08108108108108109, 'recall': 0.09090909090909091, 'f1-score': 0.08571428571428572, 'support': 33}</td>\n",
       "      <td>{'precision': 0.1485148514851485, 'recall': 0.21201413427561838, 'f1-score': 0.17467248908296945, 'support': 283}</td>\n",
       "      <td>{'precision': 0.1791976776086946, 'recall': 0.1684127072437966, 'f1-score': 0.15933351395827167, 'support': 283}</td>\n",
       "      <td>{'precision': 0.27274864869193194, 'recall': 0.21201413427561838, 'f1-score': 0.22394846744923516, 'support': 283}</td>\n",
       "    </tr>\n",
       "    <tr>\n",
       "      <td>10</td>\n",
       "      <td>1.963200</td>\n",
       "      <td>1.942136</td>\n",
       "      <td>{'precision': 0.05263157894736842, 'recall': 0.1111111111111111, 'f1-score': 0.07142857142857142, 'support': 45}</td>\n",
       "      <td>{'precision': 0.5421686746987951, 'recall': 0.3488372093023256, 'f1-score': 0.4245283018867924, 'support': 129}</td>\n",
       "      <td>{'precision': 0.057803468208092484, 'recall': 0.13157894736842105, 'f1-score': 0.08032128514056225, 'support': 76}</td>\n",
       "      <td>{'precision': 0.09090909090909091, 'recall': 0.09090909090909091, 'f1-score': 0.09090909090909091, 'support': 33}</td>\n",
       "      <td>{'precision': 0.1640625, 'recall': 0.2226148409893993, 'f1-score': 0.1889055472263868, 'support': 283}</td>\n",
       "      <td>{'precision': 0.18587820319083675, 'recall': 0.17060908967273716, 'f1-score': 0.16679681234125426, 'support': 283}</td>\n",
       "      <td>{'precision': 0.2816298362989088, 'recall': 0.2226148409893993, 'f1-score': 0.23704188808609425, 'support': 283}</td>\n",
       "    </tr>\n",
       "    <tr>\n",
       "      <td>11</td>\n",
       "      <td>1.947700</td>\n",
       "      <td>1.933515</td>\n",
       "      <td>{'precision': 0.056179775280898875, 'recall': 0.1111111111111111, 'f1-score': 0.07462686567164178, 'support': 45}</td>\n",
       "      <td>{'precision': 0.5647058823529412, 'recall': 0.37209302325581395, 'f1-score': 0.4485981308411215, 'support': 129}</td>\n",
       "      <td>{'precision': 0.058823529411764705, 'recall': 0.13157894736842105, 'f1-score': 0.08130081300813008, 'support': 76}</td>\n",
       "      <td>{'precision': 0.09375, 'recall': 0.09090909090909091, 'f1-score': 0.0923076923076923, 'support': 33}</td>\n",
       "      <td>{'precision': 0.17553191489361702, 'recall': 0.2332155477031802, 'f1-score': 0.20030349013657053, 'support': 283}</td>\n",
       "      <td>{'precision': 0.1933647967614012, 'recall': 0.17642304316110927, 'f1-score': 0.17420837545714643, 'support': 283}</td>\n",
       "      <td>{'precision': 0.29307239203697516, 'recall': 0.2332155477031802, 'f1-score': 0.24894835147879954, 'support': 283}</td>\n",
       "    </tr>\n",
       "    <tr>\n",
       "      <td>12</td>\n",
       "      <td>1.943000</td>\n",
       "      <td>1.926786</td>\n",
       "      <td>{'precision': 0.056818181818181816, 'recall': 0.1111111111111111, 'f1-score': 0.07518796992481201, 'support': 45}</td>\n",
       "      <td>{'precision': 0.5930232558139535, 'recall': 0.3953488372093023, 'f1-score': 0.4744186046511628, 'support': 129}</td>\n",
       "      <td>{'precision': 0.06060606060606061, 'recall': 0.13157894736842105, 'f1-score': 0.08298755186721991, 'support': 76}</td>\n",
       "      <td>{'precision': 0.1, 'recall': 0.09090909090909091, 'f1-score': 0.09523809523809525, 'support': 33}</td>\n",
       "      <td>{'precision': 0.18699186991869918, 'recall': 0.24381625441696114, 'f1-score': 0.2116564417177914, 'support': 283}</td>\n",
       "      <td>{'precision': 0.20261187455954896, 'recall': 0.18223699664948134, 'f1-score': 0.1819580554203225, 'support': 283}</td>\n",
       "      <td>{'precision': 0.3072893243387943, 'recall': 0.24381625441696114, 'f1-score': 0.26160201318509685, 'support': 283}</td>\n",
       "    </tr>\n",
       "    <tr>\n",
       "      <td>13</td>\n",
       "      <td>1.942800</td>\n",
       "      <td>1.921923</td>\n",
       "      <td>{'precision': 0.05813953488372093, 'recall': 0.1111111111111111, 'f1-score': 0.07633587786259542, 'support': 45}</td>\n",
       "      <td>{'precision': 0.5909090909090909, 'recall': 0.40310077519379844, 'f1-score': 0.47926267281105994, 'support': 129}</td>\n",
       "      <td>{'precision': 0.05625, 'recall': 0.11842105263157894, 'f1-score': 0.07627118644067796, 'support': 76}</td>\n",
       "      <td>{'precision': 0.10714285714285714, 'recall': 0.09090909090909091, 'f1-score': 0.09836065573770493, 'support': 33}</td>\n",
       "      <td>{'precision': 0.19060773480662985, 'recall': 0.24381625441696114, 'f1-score': 0.21395348837209302, 'support': 283}</td>\n",
       "      <td>{'precision': 0.20311037073391724, 'recall': 0.18088550746139487, 'f1-score': 0.18255759821300957, 'support': 283}</td>\n",
       "      <td>{'precision': 0.3061988200804045, 'recall': 0.24381625441696114, 'f1-score': 0.2625530427748386, 'support': 283}</td>\n",
       "    </tr>\n",
       "    <tr>\n",
       "      <td>14</td>\n",
       "      <td>1.933400</td>\n",
       "      <td>1.918900</td>\n",
       "      <td>{'precision': 0.05952380952380952, 'recall': 0.1111111111111111, 'f1-score': 0.07751937984496124, 'support': 45}</td>\n",
       "      <td>{'precision': 0.5934065934065934, 'recall': 0.4186046511627907, 'f1-score': 0.49090909090909096, 'support': 129}</td>\n",
       "      <td>{'precision': 0.05194805194805195, 'recall': 0.10526315789473684, 'f1-score': 0.06956521739130435, 'support': 76}</td>\n",
       "      <td>{'precision': 0.1111111111111111, 'recall': 0.09090909090909091, 'f1-score': 0.09999999999999999, 'support': 33}</td>\n",
       "      <td>{'precision': 0.19662921348314608, 'recall': 0.24734982332155478, 'f1-score': 0.21909233176838813, 'support': 283}</td>\n",
       "      <td>{'precision': 0.2039973914973915, 'recall': 0.1814720027694324, 'f1-score': 0.18449842203633915, 'support': 283}</td>\n",
       "      <td>{'precision': 0.3068648077482, 'recall': 0.24734982332155478, 'f1-score': 0.2664402874276859, 'support': 283}</td>\n",
       "    </tr>\n",
       "    <tr>\n",
       "      <td>15</td>\n",
       "      <td>1.932000</td>\n",
       "      <td>1.917747</td>\n",
       "      <td>{'precision': 0.060240963855421686, 'recall': 0.1111111111111111, 'f1-score': 0.078125, 'support': 45}</td>\n",
       "      <td>{'precision': 0.5934065934065934, 'recall': 0.4186046511627907, 'f1-score': 0.49090909090909096, 'support': 129}</td>\n",
       "      <td>{'precision': 0.05194805194805195, 'recall': 0.10526315789473684, 'f1-score': 0.06956521739130435, 'support': 76}</td>\n",
       "      <td>{'precision': 0.1111111111111111, 'recall': 0.09090909090909091, 'f1-score': 0.09999999999999999, 'support': 33}</td>\n",
       "      <td>{'precision': 0.19718309859154928, 'recall': 0.24734982332155478, 'f1-score': 0.219435736677116, 'support': 283}</td>\n",
       "      <td>{'precision': 0.20417668008029455, 'recall': 0.1814720027694324, 'f1-score': 0.18464982707509883, 'support': 283}</td>\n",
       "      <td>{'precision': 0.3069788428892691, 'recall': 0.24734982332155478, 'f1-score': 0.26653658745233877, 'support': 283}</td>\n",
       "    </tr>\n",
       "  </tbody>\n",
       "</table><p>"
      ],
      "text/plain": [
       "<IPython.core.display.HTML object>"
      ]
     },
     "metadata": {},
     "output_type": "display_data"
    },
    {
     "name": "stdout",
     "output_type": "stream",
     "text": [
      "Training complete.\n",
      "\n",
      "Saving model...\n",
      "Model saved.\n",
      "\n",
      "Training complete and model saved.\n",
      "\n",
      "Evaluating model...\n"
     ]
    },
    {
     "data": {
      "text/html": [
       "\n",
       "    <div>\n",
       "      \n",
       "      <progress value='1' max='1' style='width:300px; height:20px; vertical-align: middle;'></progress>\n",
       "      [1/1 : < :]\n",
       "    </div>\n",
       "    "
      ],
      "text/plain": [
       "<IPython.core.display.HTML object>"
      ]
     },
     "metadata": {},
     "output_type": "display_data"
    },
    {
     "name": "stdout",
     "output_type": "stream",
     "text": [
      "\n",
      "Evaluation complete.\n",
      "\n",
      "Eval Loss: 1.9177\n",
      "Per-Entity Performance:\n",
      "  • LOC        | P:   6.0%  R:  11.1%  F1:   7.8%  (Support: 45)\n",
      "  • PHONE      | P:  59.3%  R:  41.9%  F1:  49.1%  (Support: 129)\n",
      "  • PRICE      | P:   5.2%  R:  10.5%  F1:   7.0%  (Support: 76)\n",
      "  • PRODUCT    | P:  11.1%  R:   9.1%  F1:  10.0%  (Support: 33)\n",
      "  • micro avg  | P:  19.7%  R:  24.7%  F1:  21.9%  (Support: 283)\n",
      "  • macro avg  | P:  20.4%  R:  18.1%  F1:  18.5%  (Support: 283)\n",
      "  • weighted avg | P:  30.7%  R:  24.7%  F1:  26.7%  (Support: 283)\n",
      "\n",
      "📦 Runtime Info:\n",
      "  - Runtime: 0.12s\n",
      "  - Samples/sec: 69.6\n",
      "  - Epoch: 15.0\n"
     ]
    },
    {
     "data": {
      "text/plain": [
       "{'eval_loss': 1.917747139930725,\n",
       " 'eval_LOC': {'precision': 0.060240963855421686,\n",
       "  'recall': 0.1111111111111111,\n",
       "  'f1-score': 0.078125,\n",
       "  'support': 45},\n",
       " 'eval_PHONE': {'precision': 0.5934065934065934,\n",
       "  'recall': 0.4186046511627907,\n",
       "  'f1-score': 0.49090909090909096,\n",
       "  'support': 129},\n",
       " 'eval_PRICE': {'precision': 0.05194805194805195,\n",
       "  'recall': 0.10526315789473684,\n",
       "  'f1-score': 0.06956521739130435,\n",
       "  'support': 76},\n",
       " 'eval_PRODUCT': {'precision': 0.1111111111111111,\n",
       "  'recall': 0.09090909090909091,\n",
       "  'f1-score': 0.09999999999999999,\n",
       "  'support': 33},\n",
       " 'eval_micro avg': {'precision': 0.19718309859154928,\n",
       "  'recall': 0.24734982332155478,\n",
       "  'f1-score': 0.219435736677116,\n",
       "  'support': 283},\n",
       " 'eval_macro avg': {'precision': 0.20417668008029455,\n",
       "  'recall': 0.1814720027694324,\n",
       "  'f1-score': 0.18464982707509883,\n",
       "  'support': 283},\n",
       " 'eval_weighted avg': {'precision': 0.3069788428892691,\n",
       "  'recall': 0.24734982332155478,\n",
       "  'f1-score': 0.26653658745233877,\n",
       "  'support': 283},\n",
       " 'eval_runtime': 0.115,\n",
       " 'eval_samples_per_second': 69.568,\n",
       " 'eval_steps_per_second': 8.696,\n",
       " 'epoch': 15.0}"
      ]
     },
     "execution_count": 3,
     "metadata": {},
     "output_type": "execute_result"
    }
   ],
   "source": [
    "# Define paths and model\n",
    "conll_path = os.path.join(os.path.dirname(os.getcwd()), 'data', 'ner_amharic_conll.txt')\n",
    "output_dir = os.path.join(os.path.dirname(os.getcwd()), 'models', 'bert')\n",
    "model_checkpoint= \"rasyosef/bert-tiny-amharic\"\n",
    "\n",
    "# Load trainer\n",
    "trainer = bert_Amharic_NER_fine_tuner(conll_path, model_checkpoint, output_dir)\n",
    "\n",
    "# Train model\n",
    "trainer.train()\n",
    "\n",
    "# Evaluate model\n",
    "trainer.evaluate()\n"
   ]
  }
 ],
 "metadata": {
  "kernelspec": {
   "display_name": ".amhvenv",
   "language": "python",
   "name": "python3"
  },
  "language_info": {
   "codemirror_mode": {
    "name": "ipython",
    "version": 3
   },
   "file_extension": ".py",
   "mimetype": "text/x-python",
   "name": "python",
   "nbconvert_exporter": "python",
   "pygments_lexer": "ipython3",
   "version": "3.13.3"
  }
 },
 "nbformat": 4,
 "nbformat_minor": 5
}
