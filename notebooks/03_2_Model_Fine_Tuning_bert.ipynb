{
 "cells": [
  {
   "cell_type": "markdown",
   "id": "ebb62378",
   "metadata": {},
   "source": [
    "# **Import Modules and Libraries**"
   ]
  },
  {
   "cell_type": "markdown",
   "id": "4674a12a",
   "metadata": {},
   "source": [
    "## *python*"
   ]
  },
  {
   "cell_type": "code",
   "execution_count": null,
   "id": "db8fd40b",
   "metadata": {},
   "outputs": [],
   "source": [
    "import os\n",
    "import sys"
   ]
  },
  {
   "cell_type": "markdown",
   "id": "3943c426",
   "metadata": {},
   "source": [
    "## *custom*"
   ]
  },
  {
   "cell_type": "code",
   "execution_count": null,
   "id": "b0f254bf",
   "metadata": {},
   "outputs": [],
   "source": [
    "#import customised modules\n",
    "\n",
    "#define path\n",
    "sys.path.append(os.path.abspath(os.path.join('..')))\n",
    "\n",
    "##import relevant modules\n",
    "try:\n",
    "    from scripts._03_2_fine_tuning_bert import bertAmharicNERFineTuner\n",
    "\n",
    "except ImportError:\n",
    "    print('Could not import module from `scripts/`.')"
   ]
  },
  {
   "cell_type": "markdown",
   "id": "d40892af",
   "metadata": {},
   "source": [
    "# **bert-base-multilingual-cased-ner-hrl**"
   ]
  },
  {
   "cell_type": "code",
   "execution_count": 3,
   "id": "d870616e",
   "metadata": {},
   "outputs": [
    {
     "name": "stdout",
     "output_type": "stream",
     "text": [
      "Initialising bert_Amharic_NER_fine_tuner...\n",
      "\n",
      "Initialisation complete.\n"
     ]
    }
   ],
   "source": [
    "# Define paths and model\n",
    "conll_path = os.path.join(os.path.dirname(os.getcwd()), 'data', 'ner_amharic_conll.txt')\n",
    "output_dir = os.path.join(os.path.dirname(os.getcwd()), 'models', 'bert')\n",
    "model_checkpoint= \"rasyosef/bert-medium-amharic-finetuned-ner\"\n",
    "\n",
    "# Load trainer\n",
    "trainer = bertAmharicNERFineTuner(conll_path, model_checkpoint, output_dir)\n"
   ]
  },
  {
   "cell_type": "code",
   "execution_count": 4,
   "id": "33196f5f",
   "metadata": {},
   "outputs": [
    {
     "name": "stdout",
     "output_type": "stream",
     "text": [
      "\n",
      "Loading and preparing data...\n",
      "\n",
      "Loading data from ..\\data\\ner_amharic_conll.txt...\n",
      "\n",
      "Loaded 40 examples.\n",
      "\n",
      "Data loaded and processed.\n",
      "\n",
      "Dataset created and split into train/test.\n"
     ]
    },
    {
     "data": {
      "application/vnd.jupyter.widget-view+json": {
       "model_id": "271bacc3bfa7493b9919a775fc43e7ed",
       "version_major": 2,
       "version_minor": 0
      },
      "text/plain": [
       "Map:   0%|          | 0/32 [00:00<?, ? examples/s]"
      ]
     },
     "metadata": {},
     "output_type": "display_data"
    },
    {
     "data": {
      "application/vnd.jupyter.widget-view+json": {
       "model_id": "b313d971fe4a46e28e3a7ffa59cd2cf5",
       "version_major": 2,
       "version_minor": 0
      },
      "text/plain": [
       "Map:   0%|          | 0/8 [00:00<?, ? examples/s]"
      ]
     },
     "metadata": {},
     "output_type": "display_data"
    },
    {
     "name": "stdout",
     "output_type": "stream",
     "text": [
      "\n",
      "Dataset tokenized and aligned.\n",
      "{'tokens': ['1', '2', 'ሊትር', 'ተነቃይ', 'ጆግ', 'የሃይል', 'መቆጣጠሪያ', 'ቴርሞስታት', 'ተገጥሞለታል', '1500', 'ሃይል', 'የሚጠቀም', '1800', 'ብር', '0944222324', '0904944848', 'ከ100200', 'ብር', 'ብቻ', 'ከፍለው', 'አዲስ', 'አበባ', 'ውስጥ', 'ካሉበት', 'እንልካለን', 'አድራሻችን', 'መገናኛ', 'ዘፍመሽ', 'ግራንድ', 'ሞል', '3ኛ', 'ፎቅ', 'ከሊፍት', 'ሲወርዱ', 'ወደ', 'ቀኝ', 'ታጥፈው', 'ቀጥታ', '376', 'በኪስዎ', 'ጥሬ', 'ገንዘብ', 'ካልያዙ', 'በሞባይል', 'ማስተላለፍ', 'ይችላሉ', 'ካሉበት', 'ሆነው', 'ለማዘዝ', 'ምርጫዎን', 'በዚህ', 'ይላኩልን', '1', '2'], 'labels': [-100, 7, 7, 7, 3, -100, 6, -100, 7, 7, 3, -100, -100, 7, -100, -100, -100, 2, -100, 7, 7, -100, 2, -100, 5, 1, -100, -100, -100, -100, -100, 1, -100, -100, -100, -100, -100, -100, 2, -100, 5, 5, 7, 0, 4, 4, 7, -100, 7, -100, -100, -100, 7, -100, 0, 4, -100, -100, 4, -100, 4, 4, 4, 7, -100, 7, -100, 0, 4, 4, -100, 4, 4, -100, 7, -100, -100, 7, 7, 7, -100, 7, -100, 7, 7, 7, -100, 7, 7, -100, 7, -100, 7, 7, -100, -100, 7, 7, -100], 'input_ids': [2, 21, 22, 21257, 11103, 11542, 2137, 5395, 23920, 19453, 1996, 26557, 24316, 9973, 5360, 5523, 13093, 19041, 5386, 11684, 21742, 5361, 10417, 9304, 9262, 12640, 5449, 5449, 21822, 21065, 22586, 12640, 5386, 5449, 5384, 5449, 23469, 23469, 19827, 10436, 9262, 9133, 27928, 9259, 9241, 9059, 12747, 9026, 9012, 5345, 5407, 9148, 15607, 9021, 11800, 18070, 5348, 5392, 11134, 9024, 18800, 17229, 17525, 18887, 9374, 15302, 18860, 9047, 14787, 18311, 9381, 15945, 15431, 5495, 16548, 5402, 5433, 16634, 9860, 9795, 10247, 12446, 14985, 20485, 10242, 12747, 9026, 10133, 9056, 13650, 9657, 10649, 9182, 15159, 9407, 5355, 21, 22, 3], 'token_type_ids': [0, 0, 0, 0, 0, 0, 0, 0, 0, 0, 0, 0, 0, 0, 0, 0, 0, 0, 0, 0, 0, 0, 0, 0, 0, 0, 0, 0, 0, 0, 0, 0, 0, 0, 0, 0, 0, 0, 0, 0, 0, 0, 0, 0, 0, 0, 0, 0, 0, 0, 0, 0, 0, 0, 0, 0, 0, 0, 0, 0, 0, 0, 0, 0, 0, 0, 0, 0, 0, 0, 0, 0, 0, 0, 0, 0, 0, 0, 0, 0, 0, 0, 0, 0, 0, 0, 0, 0, 0, 0, 0, 0, 0, 0, 0, 0, 0, 0, 0], 'attention_mask': [1, 1, 1, 1, 1, 1, 1, 1, 1, 1, 1, 1, 1, 1, 1, 1, 1, 1, 1, 1, 1, 1, 1, 1, 1, 1, 1, 1, 1, 1, 1, 1, 1, 1, 1, 1, 1, 1, 1, 1, 1, 1, 1, 1, 1, 1, 1, 1, 1, 1, 1, 1, 1, 1, 1, 1, 1, 1, 1, 1, 1, 1, 1, 1, 1, 1, 1, 1, 1, 1, 1, 1, 1, 1, 1, 1, 1, 1, 1, 1, 1, 1, 1, 1, 1, 1, 1, 1, 1, 1, 1, 1, 1, 1, 1, 1, 1, 1, 1], 'offset_mapping': [[0, 0], [0, 1], [0, 1], [0, 3], [0, 2], [2, 4], [0, 1], [1, 2], [0, 4], [0, 6], [0, 1], [1, 3], [3, 6], [0, 2], [2, 3], [3, 4], [4, 7], [0, 3], [3, 4], [0, 3], [0, 4], [4, 5], [0, 2], [2, 4], [0, 2], [0, 2], [2, 3], [3, 4], [4, 6], [6, 8], [8, 10], [0, 2], [2, 3], [3, 4], [4, 5], [5, 6], [6, 8], [8, 10], [0, 4], [4, 7], [0, 2], [0, 2], [0, 4], [0, 3], [0, 3], [0, 3], [0, 2], [2, 4], [0, 2], [2, 3], [3, 4], [4, 6], [0, 4], [4, 6], [0, 4], [0, 2], [2, 3], [3, 4], [0, 2], [2, 4], [0, 2], [0, 2], [0, 2], [0, 2], [2, 4], [0, 2], [2, 4], [0, 2], [0, 2], [0, 2], [2, 4], [0, 3], [0, 2], [2, 3], [0, 2], [2, 3], [3, 4], [0, 2], [0, 4], [0, 2], [2, 4], [0, 2], [2, 5], [0, 6], [0, 4], [0, 2], [2, 4], [0, 3], [0, 2], [2, 4], [0, 3], [3, 5], [0, 3], [0, 2], [2, 4], [4, 5], [0, 1], [0, 1], [0, 0]]}\n",
      "\n",
      "Label coverage: 1644/2920 (56.30%)\n",
      "\n",
      "Setting up Trainer...\n"
     ]
    },
    {
     "data": {
      "application/vnd.jupyter.widget-view+json": {
       "model_id": "c7086119a4384e3f88b8668b6315c83e",
       "version_major": 2,
       "version_minor": 0
      },
      "text/plain": [
       "config.json: 0.00B [00:00, ?B/s]"
      ]
     },
     "metadata": {},
     "output_type": "display_data"
    },
    {
     "data": {
      "application/vnd.jupyter.widget-view+json": {
       "model_id": "330696fa6f6b4d72b59eb58825b63801",
       "version_major": 2,
       "version_minor": 0
      },
      "text/plain": [
       "model.safetensors:   0%|          | 0.00/161M [00:00<?, ?B/s]"
      ]
     },
     "metadata": {},
     "output_type": "display_data"
    },
    {
     "name": "stderr",
     "output_type": "stream",
     "text": [
      "Some weights of BertForTokenClassification were not initialized from the model checkpoint at rasyosef/bert-medium-amharic-finetuned-ner and are newly initialized because the shapes did not match:\n",
      "- classifier.bias: found shape torch.Size([11]) in the checkpoint and torch.Size([8]) in the model instantiated\n",
      "- classifier.weight: found shape torch.Size([11, 512]) in the checkpoint and torch.Size([8, 512]) in the model instantiated\n",
      "You should probably TRAIN this model on a down-stream task to be able to use it for predictions and inference.\n"
     ]
    },
    {
     "name": "stdout",
     "output_type": "stream",
     "text": [
      "\n",
      "Model loaded and configured.\n",
      "\n",
      "Training arguments set.\n",
      "\n",
      "Trainer initialised.\n",
      "\n",
      "Starting training...\n"
     ]
    },
    {
     "data": {
      "text/html": [
       "\n",
       "    <div>\n",
       "      \n",
       "      <progress value='60' max='60' style='width:300px; height:20px; vertical-align: middle;'></progress>\n",
       "      [60/60 01:15, Epoch 15/15]\n",
       "    </div>\n",
       "    <table border=\"1\" class=\"dataframe\">\n",
       "  <thead>\n",
       " <tr style=\"text-align: left;\">\n",
       "      <th>Epoch</th>\n",
       "      <th>Training Loss</th>\n",
       "      <th>Validation Loss</th>\n",
       "      <th>Loc</th>\n",
       "      <th>Phone</th>\n",
       "      <th>Price</th>\n",
       "      <th>Product</th>\n",
       "      <th>Micro avg</th>\n",
       "      <th>Macro avg</th>\n",
       "      <th>Weighted avg</th>\n",
       "      <th>F1</th>\n",
       "      <th>F1 Product</th>\n",
       "    </tr>\n",
       "  </thead>\n",
       "  <tbody>\n",
       "    <tr>\n",
       "      <td>1</td>\n",
       "      <td>1.729200</td>\n",
       "      <td>1.499302</td>\n",
       "      <td>{'precision': 0.0, 'recall': 0.0, 'f1-score': 0.0, 'support': 23}</td>\n",
       "      <td>{'precision': 0.0, 'recall': 0.0, 'f1-score': 0.0, 'support': 18}</td>\n",
       "      <td>{'precision': 0.0, 'recall': 0.0, 'f1-score': 0.0, 'support': 33}</td>\n",
       "      <td>{'precision': 0.0, 'recall': 0.0, 'f1-score': 0.0, 'support': 21}</td>\n",
       "      <td>{'precision': 0.0, 'recall': 0.0, 'f1-score': 0.0, 'support': 95}</td>\n",
       "      <td>{'precision': 0.0, 'recall': 0.0, 'f1-score': 0.0, 'support': 95}</td>\n",
       "      <td>{'precision': 0.0, 'recall': 0.0, 'f1-score': 0.0, 'support': 95}</td>\n",
       "      <td>0.000000</td>\n",
       "      <td>0.000000</td>\n",
       "    </tr>\n",
       "    <tr>\n",
       "      <td>2</td>\n",
       "      <td>1.459700</td>\n",
       "      <td>1.340648</td>\n",
       "      <td>{'precision': 0.0, 'recall': 0.0, 'f1-score': 0.0, 'support': 23}</td>\n",
       "      <td>{'precision': 0.0, 'recall': 0.0, 'f1-score': 0.0, 'support': 18}</td>\n",
       "      <td>{'precision': 0.0, 'recall': 0.0, 'f1-score': 0.0, 'support': 33}</td>\n",
       "      <td>{'precision': 0.0, 'recall': 0.0, 'f1-score': 0.0, 'support': 21}</td>\n",
       "      <td>{'precision': 0.0, 'recall': 0.0, 'f1-score': 0.0, 'support': 95}</td>\n",
       "      <td>{'precision': 0.0, 'recall': 0.0, 'f1-score': 0.0, 'support': 95}</td>\n",
       "      <td>{'precision': 0.0, 'recall': 0.0, 'f1-score': 0.0, 'support': 95}</td>\n",
       "      <td>0.000000</td>\n",
       "      <td>0.000000</td>\n",
       "    </tr>\n",
       "    <tr>\n",
       "      <td>3</td>\n",
       "      <td>1.296600</td>\n",
       "      <td>1.243545</td>\n",
       "      <td>{'precision': 0.10526315789473684, 'recall': 0.08695652173913043, 'f1-score': 0.09523809523809525, 'support': 23}</td>\n",
       "      <td>{'precision': 0.0, 'recall': 0.0, 'f1-score': 0.0, 'support': 18}</td>\n",
       "      <td>{'precision': 0.0, 'recall': 0.0, 'f1-score': 0.0, 'support': 33}</td>\n",
       "      <td>{'precision': 0.0, 'recall': 0.0, 'f1-score': 0.0, 'support': 21}</td>\n",
       "      <td>{'precision': 0.10526315789473684, 'recall': 0.021052631578947368, 'f1-score': 0.03508771929824561, 'support': 95}</td>\n",
       "      <td>{'precision': 0.02631578947368421, 'recall': 0.021739130434782608, 'f1-score': 0.02380952380952381, 'support': 95}</td>\n",
       "      <td>{'precision': 0.025484764542936286, 'recall': 0.021052631578947368, 'f1-score': 0.02305764411027569, 'support': 95}</td>\n",
       "      <td>0.035088</td>\n",
       "      <td>0.000000</td>\n",
       "    </tr>\n",
       "    <tr>\n",
       "      <td>4</td>\n",
       "      <td>1.228600</td>\n",
       "      <td>1.167134</td>\n",
       "      <td>{'precision': 0.25, 'recall': 0.13043478260869565, 'f1-score': 0.1714285714285714, 'support': 23}</td>\n",
       "      <td>{'precision': 1.0, 'recall': 0.5, 'f1-score': 0.6666666666666666, 'support': 18}</td>\n",
       "      <td>{'precision': 0.0, 'recall': 0.0, 'f1-score': 0.0, 'support': 33}</td>\n",
       "      <td>{'precision': 0.0, 'recall': 0.0, 'f1-score': 0.0, 'support': 21}</td>\n",
       "      <td>{'precision': 0.5714285714285714, 'recall': 0.12631578947368421, 'f1-score': 0.20689655172413796, 'support': 95}</td>\n",
       "      <td>{'precision': 0.3125, 'recall': 0.15760869565217392, 'f1-score': 0.2095238095238095, 'support': 95}</td>\n",
       "      <td>{'precision': 0.25, 'recall': 0.12631578947368421, 'f1-score': 0.16781954887218045, 'support': 95}</td>\n",
       "      <td>0.206897</td>\n",
       "      <td>0.000000</td>\n",
       "    </tr>\n",
       "    <tr>\n",
       "      <td>5</td>\n",
       "      <td>1.133400</td>\n",
       "      <td>1.105877</td>\n",
       "      <td>{'precision': 0.07142857142857142, 'recall': 0.043478260869565216, 'f1-score': 0.05405405405405405, 'support': 23}</td>\n",
       "      <td>{'precision': 1.0, 'recall': 0.8333333333333334, 'f1-score': 0.9090909090909091, 'support': 18}</td>\n",
       "      <td>{'precision': 1.0, 'recall': 0.030303030303030304, 'f1-score': 0.05882352941176471, 'support': 33}</td>\n",
       "      <td>{'precision': 0.0, 'recall': 0.0, 'f1-score': 0.0, 'support': 21}</td>\n",
       "      <td>{'precision': 0.5666666666666667, 'recall': 0.17894736842105263, 'f1-score': 0.272, 'support': 95}</td>\n",
       "      <td>{'precision': 0.5178571428571428, 'recall': 0.2267786561264822, 'f1-score': 0.25549212313918196, 'support': 95}</td>\n",
       "      <td>{'precision': 0.5541353383458646, 'recall': 0.17894736842105263, 'f1-score': 0.20576901134176676, 'support': 95}</td>\n",
       "      <td>0.272000</td>\n",
       "      <td>0.000000</td>\n",
       "    </tr>\n",
       "    <tr>\n",
       "      <td>6</td>\n",
       "      <td>1.102500</td>\n",
       "      <td>1.050614</td>\n",
       "      <td>{'precision': 0.08333333333333333, 'recall': 0.043478260869565216, 'f1-score': 0.057142857142857134, 'support': 23}</td>\n",
       "      <td>{'precision': 0.9411764705882353, 'recall': 0.8888888888888888, 'f1-score': 0.9142857142857143, 'support': 18}</td>\n",
       "      <td>{'precision': 1.0, 'recall': 0.030303030303030304, 'f1-score': 0.05882352941176471, 'support': 33}</td>\n",
       "      <td>{'precision': 0.0, 'recall': 0.0, 'f1-score': 0.0, 'support': 21}</td>\n",
       "      <td>{'precision': 0.6, 'recall': 0.18947368421052632, 'f1-score': 0.288, 'support': 95}</td>\n",
       "      <td>{'precision': 0.5061274509803921, 'recall': 0.24066754501537108, 'f1-score': 0.257563025210084, 'support': 95}</td>\n",
       "      <td>{'precision': 0.5458720330237358, 'recall': 0.18947368421052632, 'f1-score': 0.20750110570544003, 'support': 95}</td>\n",
       "      <td>0.288000</td>\n",
       "      <td>0.000000</td>\n",
       "    </tr>\n",
       "    <tr>\n",
       "      <td>7</td>\n",
       "      <td>1.048200</td>\n",
       "      <td>1.004796</td>\n",
       "      <td>{'precision': 0.15384615384615385, 'recall': 0.08695652173913043, 'f1-score': 0.1111111111111111, 'support': 23}</td>\n",
       "      <td>{'precision': 0.8888888888888888, 'recall': 0.8888888888888888, 'f1-score': 0.8888888888888888, 'support': 18}</td>\n",
       "      <td>{'precision': 1.0, 'recall': 0.030303030303030304, 'f1-score': 0.05882352941176471, 'support': 33}</td>\n",
       "      <td>{'precision': 0.0, 'recall': 0.0, 'f1-score': 0.0, 'support': 21}</td>\n",
       "      <td>{'precision': 0.59375, 'recall': 0.2, 'f1-score': 0.2992125984251969, 'support': 95}</td>\n",
       "      <td>{'precision': 0.5106837606837606, 'recall': 0.2515371102327624, 'f1-score': 0.2647058823529412, 'support': 95}</td>\n",
       "      <td>{'precision': 0.5530364372469636, 'recall': 0.2, 'f1-score': 0.21575507395940835, 'support': 95}</td>\n",
       "      <td>0.299213</td>\n",
       "      <td>0.000000</td>\n",
       "    </tr>\n",
       "    <tr>\n",
       "      <td>8</td>\n",
       "      <td>1.009600</td>\n",
       "      <td>0.964660</td>\n",
       "      <td>{'precision': 0.09090909090909091, 'recall': 0.043478260869565216, 'f1-score': 0.0588235294117647, 'support': 23}</td>\n",
       "      <td>{'precision': 0.7727272727272727, 'recall': 0.9444444444444444, 'f1-score': 0.85, 'support': 18}</td>\n",
       "      <td>{'precision': 1.0, 'recall': 0.030303030303030304, 'f1-score': 0.05882352941176471, 'support': 33}</td>\n",
       "      <td>{'precision': 0.0, 'recall': 0.0, 'f1-score': 0.0, 'support': 21}</td>\n",
       "      <td>{'precision': 0.5588235294117647, 'recall': 0.2, 'f1-score': 0.29457364341085274, 'support': 95}</td>\n",
       "      <td>{'precision': 0.46590909090909094, 'recall': 0.25455643390425997, 'f1-score': 0.24191176470588235, 'support': 95}</td>\n",
       "      <td>{'precision': 0.5157894736842106, 'recall': 0.2, 'f1-score': 0.19572755417956655, 'support': 95}</td>\n",
       "      <td>0.294574</td>\n",
       "      <td>0.000000</td>\n",
       "    </tr>\n",
       "    <tr>\n",
       "      <td>9</td>\n",
       "      <td>0.955500</td>\n",
       "      <td>0.928844</td>\n",
       "      <td>{'precision': 0.15384615384615385, 'recall': 0.08695652173913043, 'f1-score': 0.1111111111111111, 'support': 23}</td>\n",
       "      <td>{'precision': 0.7391304347826086, 'recall': 0.9444444444444444, 'f1-score': 0.8292682926829269, 'support': 18}</td>\n",
       "      <td>{'precision': 1.0, 'recall': 0.030303030303030304, 'f1-score': 0.05882352941176471, 'support': 33}</td>\n",
       "      <td>{'precision': 0.0, 'recall': 0.0, 'f1-score': 0.0, 'support': 21}</td>\n",
       "      <td>{'precision': 0.5405405405405406, 'recall': 0.21052631578947367, 'f1-score': 0.30303030303030304, 'support': 95}</td>\n",
       "      <td>{'precision': 0.47324414715719065, 'recall': 0.26542599912165127, 'f1-score': 0.2498007333014507, 'support': 95}</td>\n",
       "      <td>{'precision': 0.5246611512057736, 'recall': 0.21052631578947367, 'f1-score': 0.20445853994143656, 'support': 95}</td>\n",
       "      <td>0.303030</td>\n",
       "      <td>0.000000</td>\n",
       "    </tr>\n",
       "    <tr>\n",
       "      <td>10</td>\n",
       "      <td>0.981000</td>\n",
       "      <td>0.902063</td>\n",
       "      <td>{'precision': 0.13333333333333333, 'recall': 0.08695652173913043, 'f1-score': 0.10526315789473685, 'support': 23}</td>\n",
       "      <td>{'precision': 0.75, 'recall': 1.0, 'f1-score': 0.8571428571428571, 'support': 18}</td>\n",
       "      <td>{'precision': 1.0, 'recall': 0.030303030303030304, 'f1-score': 0.05882352941176471, 'support': 33}</td>\n",
       "      <td>{'precision': 0.0, 'recall': 0.0, 'f1-score': 0.0, 'support': 21}</td>\n",
       "      <td>{'precision': 0.525, 'recall': 0.22105263157894736, 'f1-score': 0.31111111111111106, 'support': 95}</td>\n",
       "      <td>{'precision': 0.4708333333333333, 'recall': 0.27931488801054016, 'f1-score': 0.25530738611233966, 'support': 95}</td>\n",
       "      <td>{'precision': 0.5217543859649122, 'recall': 0.22105263157894736, 'f1-score': 0.208324216113038, 'support': 95}</td>\n",
       "      <td>0.311111</td>\n",
       "      <td>0.000000</td>\n",
       "    </tr>\n",
       "    <tr>\n",
       "      <td>11</td>\n",
       "      <td>0.918600</td>\n",
       "      <td>0.881730</td>\n",
       "      <td>{'precision': 0.14285714285714285, 'recall': 0.08695652173913043, 'f1-score': 0.1081081081081081, 'support': 23}</td>\n",
       "      <td>{'precision': 0.72, 'recall': 1.0, 'f1-score': 0.8372093023255813, 'support': 18}</td>\n",
       "      <td>{'precision': 0.3333333333333333, 'recall': 0.030303030303030304, 'f1-score': 0.05555555555555555, 'support': 33}</td>\n",
       "      <td>{'precision': 0.0, 'recall': 0.0, 'f1-score': 0.0, 'support': 21}</td>\n",
       "      <td>{'precision': 0.5, 'recall': 0.22105263157894736, 'f1-score': 0.3065693430656934, 'support': 95}</td>\n",
       "      <td>{'precision': 0.299047619047619, 'recall': 0.27931488801054016, 'f1-score': 0.25021824149731126, 'support': 95}</td>\n",
       "      <td>{'precision': 0.286796992481203, 'recall': 0.22105263157894736, 'f1-score': 0.20410091854400297, 'support': 95}</td>\n",
       "      <td>0.306569</td>\n",
       "      <td>0.000000</td>\n",
       "    </tr>\n",
       "    <tr>\n",
       "      <td>12</td>\n",
       "      <td>0.867400</td>\n",
       "      <td>0.866634</td>\n",
       "      <td>{'precision': 0.14285714285714285, 'recall': 0.08695652173913043, 'f1-score': 0.1081081081081081, 'support': 23}</td>\n",
       "      <td>{'precision': 0.72, 'recall': 1.0, 'f1-score': 0.8372093023255813, 'support': 18}</td>\n",
       "      <td>{'precision': 0.3333333333333333, 'recall': 0.030303030303030304, 'f1-score': 0.05555555555555555, 'support': 33}</td>\n",
       "      <td>{'precision': 0.0, 'recall': 0.0, 'f1-score': 0.0, 'support': 21}</td>\n",
       "      <td>{'precision': 0.5, 'recall': 0.22105263157894736, 'f1-score': 0.3065693430656934, 'support': 95}</td>\n",
       "      <td>{'precision': 0.299047619047619, 'recall': 0.27931488801054016, 'f1-score': 0.25021824149731126, 'support': 95}</td>\n",
       "      <td>{'precision': 0.286796992481203, 'recall': 0.22105263157894736, 'f1-score': 0.20410091854400297, 'support': 95}</td>\n",
       "      <td>0.306569</td>\n",
       "      <td>0.000000</td>\n",
       "    </tr>\n",
       "    <tr>\n",
       "      <td>13</td>\n",
       "      <td>0.856600</td>\n",
       "      <td>0.856499</td>\n",
       "      <td>{'precision': 0.14285714285714285, 'recall': 0.08695652173913043, 'f1-score': 0.1081081081081081, 'support': 23}</td>\n",
       "      <td>{'precision': 0.72, 'recall': 1.0, 'f1-score': 0.8372093023255813, 'support': 18}</td>\n",
       "      <td>{'precision': 0.25, 'recall': 0.030303030303030304, 'f1-score': 0.054054054054054064, 'support': 33}</td>\n",
       "      <td>{'precision': 0.0, 'recall': 0.0, 'f1-score': 0.0, 'support': 21}</td>\n",
       "      <td>{'precision': 0.4883720930232558, 'recall': 0.22105263157894736, 'f1-score': 0.3043478260869565, 'support': 95}</td>\n",
       "      <td>{'precision': 0.2782142857142857, 'recall': 0.27931488801054016, 'f1-score': 0.24984286612193587, 'support': 95}</td>\n",
       "      <td>{'precision': 0.2578496240601504, 'recall': 0.22105263157894736, 'f1-score': 0.20357934433821828, 'support': 95}</td>\n",
       "      <td>0.304348</td>\n",
       "      <td>0.000000</td>\n",
       "    </tr>\n",
       "    <tr>\n",
       "      <td>14</td>\n",
       "      <td>0.859900</td>\n",
       "      <td>0.850153</td>\n",
       "      <td>{'precision': 0.14285714285714285, 'recall': 0.08695652173913043, 'f1-score': 0.1081081081081081, 'support': 23}</td>\n",
       "      <td>{'precision': 0.72, 'recall': 1.0, 'f1-score': 0.8372093023255813, 'support': 18}</td>\n",
       "      <td>{'precision': 0.25, 'recall': 0.030303030303030304, 'f1-score': 0.054054054054054064, 'support': 33}</td>\n",
       "      <td>{'precision': 0.0, 'recall': 0.0, 'f1-score': 0.0, 'support': 21}</td>\n",
       "      <td>{'precision': 0.4883720930232558, 'recall': 0.22105263157894736, 'f1-score': 0.3043478260869565, 'support': 95}</td>\n",
       "      <td>{'precision': 0.2782142857142857, 'recall': 0.27931488801054016, 'f1-score': 0.24984286612193587, 'support': 95}</td>\n",
       "      <td>{'precision': 0.2578496240601504, 'recall': 0.22105263157894736, 'f1-score': 0.20357934433821828, 'support': 95}</td>\n",
       "      <td>0.304348</td>\n",
       "      <td>0.000000</td>\n",
       "    </tr>\n",
       "    <tr>\n",
       "      <td>15</td>\n",
       "      <td>0.852400</td>\n",
       "      <td>0.847669</td>\n",
       "      <td>{'precision': 0.14285714285714285, 'recall': 0.08695652173913043, 'f1-score': 0.1081081081081081, 'support': 23}</td>\n",
       "      <td>{'precision': 0.72, 'recall': 1.0, 'f1-score': 0.8372093023255813, 'support': 18}</td>\n",
       "      <td>{'precision': 0.25, 'recall': 0.030303030303030304, 'f1-score': 0.054054054054054064, 'support': 33}</td>\n",
       "      <td>{'precision': 0.0, 'recall': 0.0, 'f1-score': 0.0, 'support': 21}</td>\n",
       "      <td>{'precision': 0.4883720930232558, 'recall': 0.22105263157894736, 'f1-score': 0.3043478260869565, 'support': 95}</td>\n",
       "      <td>{'precision': 0.2782142857142857, 'recall': 0.27931488801054016, 'f1-score': 0.24984286612193587, 'support': 95}</td>\n",
       "      <td>{'precision': 0.2578496240601504, 'recall': 0.22105263157894736, 'f1-score': 0.20357934433821828, 'support': 95}</td>\n",
       "      <td>0.304348</td>\n",
       "      <td>0.000000</td>\n",
       "    </tr>\n",
       "  </tbody>\n",
       "</table><p>"
      ],
      "text/plain": [
       "<IPython.core.display.HTML object>"
      ]
     },
     "metadata": {},
     "output_type": "display_data"
    },
    {
     "name": "stdout",
     "output_type": "stream",
     "text": [
      "Training complete.\n",
      "\n",
      "Saving model...\n",
      "\n",
      "Model saved.\n",
      "\n",
      "Training complete and model saved.\n"
     ]
    }
   ],
   "source": [
    "# Train model\n",
    "trainer.train()\n"
   ]
  },
  {
   "cell_type": "code",
   "execution_count": 5,
   "id": "4e3360e8",
   "metadata": {},
   "outputs": [
    {
     "name": "stdout",
     "output_type": "stream",
     "text": [
      "\n",
      "Evaluating model...\n"
     ]
    },
    {
     "data": {
      "text/html": [
       "\n",
       "    <div>\n",
       "      \n",
       "      <progress value='1' max='1' style='width:300px; height:20px; vertical-align: middle;'></progress>\n",
       "      [1/1 : < :]\n",
       "    </div>\n",
       "    "
      ],
      "text/plain": [
       "<IPython.core.display.HTML object>"
      ]
     },
     "metadata": {},
     "output_type": "display_data"
    },
    {
     "name": "stdout",
     "output_type": "stream",
     "text": [
      "\n",
      "Evaluation complete.\n",
      "\n",
      "Eval Loss: 0.9021\n",
      "Per-Entity Performance:\n",
      "  • LOC        | P:  13.3%  R:   8.7%  F1:  10.5%  (Support: 23)\n",
      "  • PHONE      | P:  75.0%  R: 100.0%  F1:  85.7%  (Support: 18)\n",
      "  • PRICE      | P: 100.0%  R:   3.0%  F1:   5.9%  (Support: 33)\n",
      "  • PRODUCT    | P:   0.0%  R:   0.0%  F1:   0.0%  (Support: 21)\n",
      "  • micro avg  | P:  52.5%  R:  22.1%  F1:  31.1%  (Support: 95)\n",
      "  • macro avg  | P:  47.1%  R:  27.9%  F1:  25.5%  (Support: 95)\n",
      "  • weighted avg | P:  52.2%  R:  22.1%  F1:  20.8%  (Support: 95)\n",
      "\n",
      "**Runtime Info:**\n",
      "  - Runtime: 0.31s\n",
      "  - Samples/sec: 25.9\n",
      "  - Epoch: 15.0\n"
     ]
    },
    {
     "data": {
      "text/plain": [
       "{'eval_loss': 0.9020628333091736,\n",
       " 'eval_LOC': {'precision': 0.13333333333333333,\n",
       "  'recall': 0.08695652173913043,\n",
       "  'f1-score': 0.10526315789473685,\n",
       "  'support': 23},\n",
       " 'eval_PHONE': {'precision': 0.75,\n",
       "  'recall': 1.0,\n",
       "  'f1-score': 0.8571428571428571,\n",
       "  'support': 18},\n",
       " 'eval_PRICE': {'precision': 1.0,\n",
       "  'recall': 0.030303030303030304,\n",
       "  'f1-score': 0.05882352941176471,\n",
       "  'support': 33},\n",
       " 'eval_PRODUCT': {'precision': 0.0,\n",
       "  'recall': 0.0,\n",
       "  'f1-score': 0.0,\n",
       "  'support': 21},\n",
       " 'eval_micro avg': {'precision': 0.525,\n",
       "  'recall': 0.22105263157894736,\n",
       "  'f1-score': 0.31111111111111106,\n",
       "  'support': 95},\n",
       " 'eval_macro avg': {'precision': 0.4708333333333333,\n",
       "  'recall': 0.27931488801054016,\n",
       "  'f1-score': 0.25530738611233966,\n",
       "  'support': 95},\n",
       " 'eval_weighted avg': {'precision': 0.5217543859649122,\n",
       "  'recall': 0.22105263157894736,\n",
       "  'f1-score': 0.208324216113038,\n",
       "  'support': 95},\n",
       " 'eval_f1': 0.31111111111111106,\n",
       " 'eval_f1_PRODUCT': 0.0,\n",
       " 'eval_runtime': 0.3091,\n",
       " 'eval_samples_per_second': 25.885,\n",
       " 'eval_steps_per_second': 3.236,\n",
       " 'epoch': 15.0}"
      ]
     },
     "execution_count": 5,
     "metadata": {},
     "output_type": "execute_result"
    }
   ],
   "source": [
    "# Evaluate model\n",
    "trainer.evaluate()"
   ]
  }
 ],
 "metadata": {
  "kernelspec": {
   "display_name": ".amhvenv",
   "language": "python",
   "name": "python3"
  },
  "language_info": {
   "codemirror_mode": {
    "name": "ipython",
    "version": 3
   },
   "file_extension": ".py",
   "mimetype": "text/x-python",
   "name": "python",
   "nbconvert_exporter": "python",
   "pygments_lexer": "ipython3",
   "version": "3.13.3"
  }
 },
 "nbformat": 4,
 "nbformat_minor": 5
}
