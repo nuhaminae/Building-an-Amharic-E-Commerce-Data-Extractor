{
 "cells": [
  {
   "cell_type": "markdown",
   "id": "ebb62378",
   "metadata": {},
   "source": [
    "# **Import Modules and Libraries**"
   ]
  },
  {
   "cell_type": "markdown",
   "id": "4674a12a",
   "metadata": {},
   "source": [
    "## *python*"
   ]
  },
  {
   "cell_type": "code",
   "execution_count": 1,
   "id": "db8fd40b",
   "metadata": {},
   "outputs": [],
   "source": [
    "import os\n",
    "import sys"
   ]
  },
  {
   "cell_type": "markdown",
   "id": "3943c426",
   "metadata": {},
   "source": [
    "## *custom*"
   ]
  },
  {
   "cell_type": "code",
   "execution_count": 2,
   "id": "b0f254bf",
   "metadata": {},
   "outputs": [],
   "source": [
    "#import customised modules\n",
    "\n",
    "#define path\n",
    "sys.path.append(os.path.abspath(os.path.join('..')))\n",
    "\n",
    "##import relevant modules\n",
    "try:\n",
    "    from scripts._03_2_fine_tuning_bert import bert_Amharic_NER_fine_tuner\n",
    "\n",
    "except ImportError:\n",
    "    print('Could not import module from `scripts/`.')"
   ]
  },
  {
   "cell_type": "markdown",
   "id": "d40892af",
   "metadata": {},
   "source": [
    "# **bert-tiny-amharic**"
   ]
  },
  {
   "cell_type": "code",
   "execution_count": 3,
   "id": "d870616e",
   "metadata": {},
   "outputs": [
    {
     "name": "stdout",
     "output_type": "stream",
     "text": [
      "Initialising bert_Amharic_NER_fine_tuner...\n",
      "\n",
      "Initialisation complete.\n",
      "\n",
      "Loading and preparing data...\n",
      "\n",
      "Loading data from ..\\data\\ner_amharic_conll.txt...\n",
      "\n",
      "Loaded 40 examples.\n",
      "\n",
      "Data loaded and processed.\n",
      "\n",
      "Dataset created and split into train/test.\n"
     ]
    },
    {
     "data": {
      "application/vnd.jupyter.widget-view+json": {
       "model_id": "4f9ec6bbed1847be966caba9fc727fb2",
       "version_major": 2,
       "version_minor": 0
      },
      "text/plain": [
       "Map:   0%|          | 0/32 [00:00<?, ? examples/s]"
      ]
     },
     "metadata": {},
     "output_type": "display_data"
    },
    {
     "data": {
      "application/vnd.jupyter.widget-view+json": {
       "model_id": "e8a73cf0de04451fb50782dea6f442d7",
       "version_major": 2,
       "version_minor": 0
      },
      "text/plain": [
       "Map:   0%|          | 0/8 [00:00<?, ? examples/s]"
      ]
     },
     "metadata": {},
     "output_type": "display_data"
    },
    {
     "name": "stdout",
     "output_type": "stream",
     "text": [
      "\n",
      "Dataset tokenized and aligned.\n",
      "\n",
      "Setting up Trainer...\n"
     ]
    },
    {
     "name": "stderr",
     "output_type": "stream",
     "text": [
      "Some weights of BertForTokenClassification were not initialized from the model checkpoint at rasyosef/bert-tiny-amharic and are newly initialized: ['classifier.bias', 'classifier.weight']\n",
      "You should probably TRAIN this model on a down-stream task to be able to use it for predictions and inference.\n"
     ]
    },
    {
     "name": "stdout",
     "output_type": "stream",
     "text": [
      "\n",
      "Model loaded and configured.\n",
      "\n",
      "Training arguments set.\n",
      "\n",
      "Trainer initialised.\n",
      "\n",
      "Starting training...\n"
     ]
    },
    {
     "data": {
      "text/html": [
       "\n",
       "    <div>\n",
       "      \n",
       "      <progress value='60' max='60' style='width:300px; height:20px; vertical-align: middle;'></progress>\n",
       "      [60/60 00:10, Epoch 15/15]\n",
       "    </div>\n",
       "    <table border=\"1\" class=\"dataframe\">\n",
       "  <thead>\n",
       " <tr style=\"text-align: left;\">\n",
       "      <th>Epoch</th>\n",
       "      <th>Training Loss</th>\n",
       "      <th>Validation Loss</th>\n",
       "      <th>Loc</th>\n",
       "      <th>Phone</th>\n",
       "      <th>Price</th>\n",
       "      <th>Product</th>\n",
       "      <th>Micro avg</th>\n",
       "      <th>Macro avg</th>\n",
       "      <th>Weighted avg</th>\n",
       "    </tr>\n",
       "  </thead>\n",
       "  <tbody>\n",
       "    <tr>\n",
       "      <td>1</td>\n",
       "      <td>2.158200</td>\n",
       "      <td>2.147913</td>\n",
       "      <td>{'precision': 0.016483516483516484, 'recall': 0.09375, 'f1-score': 0.028037383177570097, 'support': 32}</td>\n",
       "      <td>{'precision': 0.014925373134328358, 'recall': 0.023255813953488372, 'f1-score': 0.01818181818181818, 'support': 129}</td>\n",
       "      <td>{'precision': 0.03571428571428571, 'recall': 0.0975609756097561, 'f1-score': 0.0522875816993464, 'support': 41}</td>\n",
       "      <td>{'precision': 0.06451612903225806, 'recall': 0.2857142857142857, 'f1-score': 0.10526315789473685, 'support': 35}</td>\n",
       "      <td>{'precision': 0.03076923076923077, 'recall': 0.08438818565400844, 'f1-score': 0.04509582863585118, 'support': 237}</td>\n",
       "      <td>{'precision': 0.032909826091097154, 'recall': 0.12507026881938255, 'f1-score': 0.05094248523836788, 'support': 237}</td>\n",
       "      <td>{'precision': 0.02605567887010815, 'recall': 0.08438818565400844, 'f1-score': 0.03827279402162777, 'support': 237}</td>\n",
       "    </tr>\n",
       "    <tr>\n",
       "      <td>2</td>\n",
       "      <td>2.140600</td>\n",
       "      <td>2.121709</td>\n",
       "      <td>{'precision': 0.011764705882352941, 'recall': 0.0625, 'f1-score': 0.019801980198019802, 'support': 32}</td>\n",
       "      <td>{'precision': 0.04, 'recall': 0.06976744186046512, 'f1-score': 0.05084745762711865, 'support': 129}</td>\n",
       "      <td>{'precision': 0.038834951456310676, 'recall': 0.0975609756097561, 'f1-score': 0.055555555555555546, 'support': 41}</td>\n",
       "      <td>{'precision': 0.06666666666666667, 'recall': 0.2857142857142857, 'f1-score': 0.10810810810810811, 'support': 35}</td>\n",
       "      <td>{'precision': 0.038580246913580245, 'recall': 0.10548523206751055, 'f1-score': 0.05649717514124294, 'support': 237}</td>\n",
       "      <td>{'precision': 0.039316581001332576, 'recall': 0.12888567579612673, 'f1-score': 0.058578275372200526, 'support': 237}</td>\n",
       "      <td>{'precision': 0.03992420646108593, 'recall': 0.10548523206751055, 'f1-score': 0.05592635848859283, 'support': 237}</td>\n",
       "    </tr>\n",
       "    <tr>\n",
       "      <td>3</td>\n",
       "      <td>2.112400</td>\n",
       "      <td>2.097813</td>\n",
       "      <td>{'precision': 0.012987012987012988, 'recall': 0.0625, 'f1-score': 0.021505376344086023, 'support': 32}</td>\n",
       "      <td>{'precision': 0.06666666666666667, 'recall': 0.13178294573643412, 'f1-score': 0.08854166666666667, 'support': 129}</td>\n",
       "      <td>{'precision': 0.039603960396039604, 'recall': 0.0975609756097561, 'f1-score': 0.056338028169014086, 'support': 41}</td>\n",
       "      <td>{'precision': 0.07246376811594203, 'recall': 0.2857142857142857, 'f1-score': 0.11560693641618498, 'support': 35}</td>\n",
       "      <td>{'precision': 0.05092592592592592, 'recall': 0.13924050632911392, 'f1-score': 0.07457627118644067, 'support': 237}</td>\n",
       "      <td>{'precision': 0.047930352041415325, 'recall': 0.14438955176511897, 'f1-score': 0.07049800189898794, 'support': 237}</td>\n",
       "      <td>{'precision': 0.05559315896995785, 'recall': 0.13924050632911392, 'f1-score': 0.07791624039032406, 'support': 237}</td>\n",
       "    </tr>\n",
       "    <tr>\n",
       "      <td>4</td>\n",
       "      <td>2.087700</td>\n",
       "      <td>2.076307</td>\n",
       "      <td>{'precision': 0.013793103448275862, 'recall': 0.0625, 'f1-score': 0.022598870056497175, 'support': 32}</td>\n",
       "      <td>{'precision': 0.13636363636363635, 'recall': 0.3023255813953488, 'f1-score': 0.18795180722891566, 'support': 129}</td>\n",
       "      <td>{'precision': 0.04040404040404041, 'recall': 0.0975609756097561, 'f1-score': 0.05714285714285715, 'support': 41}</td>\n",
       "      <td>{'precision': 0.07874015748031496, 'recall': 0.2857142857142857, 'f1-score': 0.1234567901234568, 'support': 35}</td>\n",
       "      <td>{'precision': 0.0837138508371385, 'recall': 0.2320675105485232, 'f1-score': 0.12304250559284116, 'support': 237}</td>\n",
       "      <td>{'precision': 0.0673252344240669, 'recall': 0.18702521067984765, 'f1-score': 0.09778758113793169, 'support': 237}</td>\n",
       "      <td>{'precision': 0.09470362687607847, 'recall': 0.2320675105485232, 'f1-score': 0.1334716952384648, 'support': 237}</td>\n",
       "    </tr>\n",
       "    <tr>\n",
       "      <td>5</td>\n",
       "      <td>2.066500</td>\n",
       "      <td>2.056942</td>\n",
       "      <td>{'precision': 0.015384615384615385, 'recall': 0.0625, 'f1-score': 0.02469135802469136, 'support': 32}</td>\n",
       "      <td>{'precision': 0.18333333333333332, 'recall': 0.4263565891472868, 'f1-score': 0.2564102564102564, 'support': 129}</td>\n",
       "      <td>{'precision': 0.011111111111111112, 'recall': 0.024390243902439025, 'f1-score': 0.015267175572519083, 'support': 41}</td>\n",
       "      <td>{'precision': 0.061946902654867256, 'recall': 0.2, 'f1-score': 0.0945945945945946, 'support': 35}</td>\n",
       "      <td>{'precision': 0.10268562401263823, 'recall': 0.2742616033755274, 'f1-score': 0.14942528735632182, 'support': 237}</td>\n",
       "      <td>{'precision': 0.06794399062098176, 'recall': 0.17831170826243148, 'f1-score': 0.09774084615051537, 'support': 237}</td>\n",
       "      <td>{'precision': 0.11293672928600675, 'recall': 0.2742616033755274, 'f1-score': 0.15950975334598014, 'support': 237}</td>\n",
       "    </tr>\n",
       "    <tr>\n",
       "      <td>6</td>\n",
       "      <td>2.057400</td>\n",
       "      <td>2.039566</td>\n",
       "      <td>{'precision': 0.016260162601626018, 'recall': 0.0625, 'f1-score': 0.025806451612903226, 'support': 32}</td>\n",
       "      <td>{'precision': 0.20454545454545456, 'recall': 0.4883720930232558, 'f1-score': 0.28832951945080093, 'support': 129}</td>\n",
       "      <td>{'precision': 0.0, 'recall': 0.0, 'f1-score': 0.0, 'support': 41}</td>\n",
       "      <td>{'precision': 0.06862745098039216, 'recall': 0.2, 'f1-score': 0.10218978102189781, 'support': 35}</td>\n",
       "      <td>{'precision': 0.11650485436893204, 'recall': 0.3037974683544304, 'f1-score': 0.16842105263157894, 'support': 237}</td>\n",
       "      <td>{'precision': 0.07235826703186818, 'recall': 0.18771802325581394, 'f1-score': 0.10408143802140049, 'support': 237}</td>\n",
       "      <td>{'precision': 0.12366518828662192, 'recall': 0.3037974683544304, 'f1-score': 0.17551458563937825, 'support': 237}</td>\n",
       "    </tr>\n",
       "    <tr>\n",
       "      <td>7</td>\n",
       "      <td>2.030300</td>\n",
       "      <td>2.024161</td>\n",
       "      <td>{'precision': 0.018691588785046728, 'recall': 0.0625, 'f1-score': 0.028776978417266185, 'support': 32}</td>\n",
       "      <td>{'precision': 0.2246153846153846, 'recall': 0.5658914728682171, 'f1-score': 0.3215859030837005, 'support': 129}</td>\n",
       "      <td>{'precision': 0.0, 'recall': 0.0, 'f1-score': 0.0, 'support': 41}</td>\n",
       "      <td>{'precision': 0.07777777777777778, 'recall': 0.2, 'f1-score': 0.112, 'support': 35}</td>\n",
       "      <td>{'precision': 0.13689482470784642, 'recall': 0.3459915611814346, 'f1-score': 0.19617224880382775, 'support': 237}</td>\n",
       "      <td>{'precision': 0.08027118779455228, 'recall': 0.20709786821705428, 'f1-score': 0.11559072037524167, 'support': 237}</td>\n",
       "      <td>{'precision': 0.1362689353532841, 'recall': 0.3459915611814346, 'f1-score': 0.1954660118445143, 'support': 237}</td>\n",
       "    </tr>\n",
       "    <tr>\n",
       "      <td>8</td>\n",
       "      <td>2.020500</td>\n",
       "      <td>2.010725</td>\n",
       "      <td>{'precision': 0.030612244897959183, 'recall': 0.09375, 'f1-score': 0.04615384615384615, 'support': 32}</td>\n",
       "      <td>{'precision': 0.23867069486404835, 'recall': 0.6124031007751938, 'f1-score': 0.34347826086956523, 'support': 129}</td>\n",
       "      <td>{'precision': 0.0, 'recall': 0.0, 'f1-score': 0.0, 'support': 41}</td>\n",
       "      <td>{'precision': 0.0875, 'recall': 0.2, 'f1-score': 0.1217391304347826, 'support': 35}</td>\n",
       "      <td>{'precision': 0.15424610051993068, 'recall': 0.3755274261603376, 'f1-score': 0.2186732186732187, 'support': 237}</td>\n",
       "      <td>{'precision': 0.08919573494050187, 'recall': 0.22653827519379843, 'f1-score': 0.1278428093645485, 'support': 237}</td>\n",
       "      <td>{'precision': 0.14696460537635836, 'recall': 0.3755274261603376, 'f1-score': 0.21116661727558814, 'support': 237}</td>\n",
       "    </tr>\n",
       "    <tr>\n",
       "      <td>9</td>\n",
       "      <td>2.007400</td>\n",
       "      <td>1.999095</td>\n",
       "      <td>{'precision': 0.031914893617021274, 'recall': 0.09375, 'f1-score': 0.04761904761904762, 'support': 32}</td>\n",
       "      <td>{'precision': 0.2620481927710843, 'recall': 0.6744186046511628, 'f1-score': 0.37744034707158347, 'support': 129}</td>\n",
       "      <td>{'precision': 0.0, 'recall': 0.0, 'f1-score': 0.0, 'support': 41}</td>\n",
       "      <td>{'precision': 0.1, 'recall': 0.2, 'f1-score': 0.13333333333333333, 'support': 35}</td>\n",
       "      <td>{'precision': 0.17446043165467626, 'recall': 0.4092827004219409, 'f1-score': 0.244640605296343, 'support': 237}</td>\n",
       "      <td>{'precision': 0.0984907715970264, 'recall': 0.2420421511627907, 'f1-score': 0.1395981820059911, 'support': 237}</td>\n",
       "      <td>{'precision': 0.16171094288276183, 'recall': 0.4092827004219409, 'f1-score': 0.23156236693126775, 'support': 237}</td>\n",
       "    </tr>\n",
       "    <tr>\n",
       "      <td>10</td>\n",
       "      <td>2.002200</td>\n",
       "      <td>1.989371</td>\n",
       "      <td>{'precision': 0.03296703296703297, 'recall': 0.09375, 'f1-score': 0.04878048780487806, 'support': 32}</td>\n",
       "      <td>{'precision': 0.27522935779816515, 'recall': 0.6976744186046512, 'f1-score': 0.39473684210526316, 'support': 129}</td>\n",
       "      <td>{'precision': 0.0, 'recall': 0.0, 'f1-score': 0.0, 'support': 41}</td>\n",
       "      <td>{'precision': 0.08695652173913043, 'recall': 0.17142857142857143, 'f1-score': 0.11538461538461538, 'support': 35}</td>\n",
       "      <td>{'precision': 0.18265682656826568, 'recall': 0.4177215189873418, 'f1-score': 0.25417201540436457, 'support': 237}</td>\n",
       "      <td>{'precision': 0.09878822812608214, 'recall': 0.24071324750830564, 'f1-score': 0.13972548632368914, 'support': 237}</td>\n",
       "      <td>{'precision': 0.1671013100075018, 'recall': 0.4177215189873418, 'f1-score': 0.23848307923964804, 'support': 237}</td>\n",
       "    </tr>\n",
       "    <tr>\n",
       "      <td>11</td>\n",
       "      <td>1.988800</td>\n",
       "      <td>1.981426</td>\n",
       "      <td>{'precision': 0.03614457831325301, 'recall': 0.09375, 'f1-score': 0.05217391304347825, 'support': 32}</td>\n",
       "      <td>{'precision': 0.28484848484848485, 'recall': 0.7286821705426356, 'f1-score': 0.4095860566448802, 'support': 129}</td>\n",
       "      <td>{'precision': 0.0, 'recall': 0.0, 'f1-score': 0.0, 'support': 41}</td>\n",
       "      <td>{'precision': 0.09090909090909091, 'recall': 0.17142857142857143, 'f1-score': 0.11881188118811882, 'support': 35}</td>\n",
       "      <td>{'precision': 0.1947069943289225, 'recall': 0.4345991561181435, 'f1-score': 0.2689295039164491, 'support': 237}</td>\n",
       "      <td>{'precision': 0.10297553851770719, 'recall': 0.24846518549280178, 'f1-score': 0.1451429627191193, 'support': 237}</td>\n",
       "      <td>{'precision': 0.17334978579450133, 'recall': 0.4345991561181435, 'f1-score': 0.2475298834015401, 'support': 237}</td>\n",
       "    </tr>\n",
       "    <tr>\n",
       "      <td>12</td>\n",
       "      <td>1.977500</td>\n",
       "      <td>1.975242</td>\n",
       "      <td>{'precision': 0.03896103896103896, 'recall': 0.09375, 'f1-score': 0.055045871559633024, 'support': 32}</td>\n",
       "      <td>{'precision': 0.2909090909090909, 'recall': 0.7441860465116279, 'f1-score': 0.4183006535947712, 'support': 129}</td>\n",
       "      <td>{'precision': 0.0, 'recall': 0.0, 'f1-score': 0.0, 'support': 41}</td>\n",
       "      <td>{'precision': 0.07936507936507936, 'recall': 0.14285714285714285, 'f1-score': 0.1020408163265306, 'support': 35}</td>\n",
       "      <td>{'precision': 0.20077220077220076, 'recall': 0.4388185654008439, 'f1-score': 0.27549668874172184, 'support': 237}</td>\n",
       "      <td>{'precision': 0.10230880230880231, 'recall': 0.24519829734219267, 'f1-score': 0.1438468353702337, 'support': 237}</td>\n",
       "      <td>{'precision': 0.17532406646330695, 'recall': 0.4388185654008439, 'f1-score': 0.25018430706777345, 'support': 237}</td>\n",
       "    </tr>\n",
       "    <tr>\n",
       "      <td>13</td>\n",
       "      <td>1.974400</td>\n",
       "      <td>1.970786</td>\n",
       "      <td>{'precision': 0.041666666666666664, 'recall': 0.09375, 'f1-score': 0.057692307692307696, 'support': 32}</td>\n",
       "      <td>{'precision': 0.2948328267477204, 'recall': 0.751937984496124, 'f1-score': 0.4235807860262008, 'support': 129}</td>\n",
       "      <td>{'precision': 0.0, 'recall': 0.0, 'f1-score': 0.0, 'support': 41}</td>\n",
       "      <td>{'precision': 0.078125, 'recall': 0.14285714285714285, 'f1-score': 0.101010101010101, 'support': 35}</td>\n",
       "      <td>{'precision': 0.206286836935167, 'recall': 0.4430379746835443, 'f1-score': 0.28150134048257375, 'support': 237}</td>\n",
       "      <td>{'precision': 0.10365612335359677, 'recall': 0.2471362818383167, 'f1-score': 0.1455707986821524, 'support': 237}</td>\n",
       "      <td>{'precision': 0.17764195351809817, 'recall': 0.4430379746835443, 'f1-score': 0.25326341256914464, 'support': 237}</td>\n",
       "    </tr>\n",
       "    <tr>\n",
       "      <td>14</td>\n",
       "      <td>1.973700</td>\n",
       "      <td>1.968019</td>\n",
       "      <td>{'precision': 0.04285714285714286, 'recall': 0.09375, 'f1-score': 0.05882352941176469, 'support': 32}</td>\n",
       "      <td>{'precision': 0.29573170731707316, 'recall': 0.751937984496124, 'f1-score': 0.42450765864332607, 'support': 129}</td>\n",
       "      <td>{'precision': 0.0, 'recall': 0.0, 'f1-score': 0.0, 'support': 41}</td>\n",
       "      <td>{'precision': 0.078125, 'recall': 0.14285714285714285, 'f1-score': 0.101010101010101, 'support': 35}</td>\n",
       "      <td>{'precision': 0.2075098814229249, 'recall': 0.4430379746835443, 'f1-score': 0.28263795423956933, 'support': 237}</td>\n",
       "      <td>{'precision': 0.104178462543554, 'recall': 0.2471362818383167, 'f1-score': 0.14608532226629795, 'support': 237}</td>\n",
       "      <td>{'precision': 0.17829195702671313, 'recall': 0.4430379746835443, 'f1-score': 0.2539206516519792, 'support': 237}</td>\n",
       "    </tr>\n",
       "    <tr>\n",
       "      <td>15</td>\n",
       "      <td>1.971500</td>\n",
       "      <td>1.966962</td>\n",
       "      <td>{'precision': 0.02857142857142857, 'recall': 0.0625, 'f1-score': 0.0392156862745098, 'support': 32}</td>\n",
       "      <td>{'precision': 0.29573170731707316, 'recall': 0.751937984496124, 'f1-score': 0.42450765864332607, 'support': 129}</td>\n",
       "      <td>{'precision': 0.0, 'recall': 0.0, 'f1-score': 0.0, 'support': 41}</td>\n",
       "      <td>{'precision': 0.08064516129032258, 'recall': 0.14285714285714285, 'f1-score': 0.10309278350515463, 'support': 35}</td>\n",
       "      <td>{'precision': 0.20675944333996024, 'recall': 0.4388185654008439, 'f1-score': 0.2810810810810811, 'support': 237}</td>\n",
       "      <td>{'precision': 0.10123707429470608, 'recall': 0.2393237818383167, 'f1-score': 0.1417040321057476, 'support': 237}</td>\n",
       "      <td>{'precision': 0.17673525992974445, 'recall': 0.4388185654008439, 'f1-score': 0.2515807483057122, 'support': 237}</td>\n",
       "    </tr>\n",
       "  </tbody>\n",
       "</table><p>"
      ],
      "text/plain": [
       "<IPython.core.display.HTML object>"
      ]
     },
     "metadata": {},
     "output_type": "display_data"
    },
    {
     "name": "stdout",
     "output_type": "stream",
     "text": [
      "Training complete.\n",
      "\n",
      "Saving model...\n",
      "Model saved.\n",
      "\n",
      "Training complete and model saved.\n",
      "\n",
      "Evaluating model...\n"
     ]
    },
    {
     "data": {
      "text/html": [
       "\n",
       "    <div>\n",
       "      \n",
       "      <progress value='1' max='1' style='width:300px; height:20px; vertical-align: middle;'></progress>\n",
       "      [1/1 : < :]\n",
       "    </div>\n",
       "    "
      ],
      "text/plain": [
       "<IPython.core.display.HTML object>"
      ]
     },
     "metadata": {},
     "output_type": "display_data"
    },
    {
     "name": "stdout",
     "output_type": "stream",
     "text": [
      "\n",
      "Evaluation complete.\n",
      "\n",
      "Eval Loss: 1.9670\n",
      "Per-Entity Performance:\n",
      "  • LOC        | P:   2.9%  R:   6.2%  F1:   3.9%  (Support: 32)\n",
      "  • PHONE      | P:  29.6%  R:  75.2%  F1:  42.5%  (Support: 129)\n",
      "  • PRICE      | P:   0.0%  R:   0.0%  F1:   0.0%  (Support: 41)\n",
      "  • PRODUCT    | P:   8.1%  R:  14.3%  F1:  10.3%  (Support: 35)\n",
      "  • micro avg  | P:  20.7%  R:  43.9%  F1:  28.1%  (Support: 237)\n",
      "  • macro avg  | P:  10.1%  R:  23.9%  F1:  14.2%  (Support: 237)\n",
      "  • weighted avg | P:  17.7%  R:  43.9%  F1:  25.2%  (Support: 237)\n",
      "\n",
      "📦 Runtime Info:\n",
      "  - Runtime: 0.03s\n",
      "  - Samples/sec: 237.3\n",
      "  - Epoch: 15.0\n"
     ]
    },
    {
     "data": {
      "text/plain": [
       "{'eval_loss': 1.966962456703186,\n",
       " 'eval_LOC': {'precision': 0.02857142857142857,\n",
       "  'recall': 0.0625,\n",
       "  'f1-score': 0.0392156862745098,\n",
       "  'support': 32},\n",
       " 'eval_PHONE': {'precision': 0.29573170731707316,\n",
       "  'recall': 0.751937984496124,\n",
       "  'f1-score': 0.42450765864332607,\n",
       "  'support': 129},\n",
       " 'eval_PRICE': {'precision': 0.0,\n",
       "  'recall': 0.0,\n",
       "  'f1-score': 0.0,\n",
       "  'support': 41},\n",
       " 'eval_PRODUCT': {'precision': 0.08064516129032258,\n",
       "  'recall': 0.14285714285714285,\n",
       "  'f1-score': 0.10309278350515463,\n",
       "  'support': 35},\n",
       " 'eval_micro avg': {'precision': 0.20675944333996024,\n",
       "  'recall': 0.4388185654008439,\n",
       "  'f1-score': 0.2810810810810811,\n",
       "  'support': 237},\n",
       " 'eval_macro avg': {'precision': 0.10123707429470608,\n",
       "  'recall': 0.2393237818383167,\n",
       "  'f1-score': 0.1417040321057476,\n",
       "  'support': 237},\n",
       " 'eval_weighted avg': {'precision': 0.17673525992974445,\n",
       "  'recall': 0.4388185654008439,\n",
       "  'f1-score': 0.2515807483057122,\n",
       "  'support': 237},\n",
       " 'eval_runtime': 0.0337,\n",
       " 'eval_samples_per_second': 237.283,\n",
       " 'eval_steps_per_second': 29.66,\n",
       " 'epoch': 15.0}"
      ]
     },
     "execution_count": 3,
     "metadata": {},
     "output_type": "execute_result"
    }
   ],
   "source": [
    "# Define paths and model\n",
    "conll_path = os.path.join(os.path.dirname(os.getcwd()), 'data', 'ner_amharic_conll.txt')\n",
    "output_dir = os.path.join(os.path.dirname(os.getcwd()), 'models', 'bert')\n",
    "model_checkpoint= \"rasyosef/bert-tiny-amharic\"\n",
    "\n",
    "# Load trainer\n",
    "trainer = bert_Amharic_NER_fine_tuner(conll_path, model_checkpoint, output_dir)\n",
    "\n",
    "# Train model\n",
    "trainer.train()\n",
    "\n",
    "# Evaluate model\n",
    "trainer.evaluate()\n"
   ]
  }
 ],
 "metadata": {
  "kernelspec": {
   "display_name": ".amhvenv",
   "language": "python",
   "name": "python3"
  },
  "language_info": {
   "codemirror_mode": {
    "name": "ipython",
    "version": 3
   },
   "file_extension": ".py",
   "mimetype": "text/x-python",
   "name": "python",
   "nbconvert_exporter": "python",
   "pygments_lexer": "ipython3",
   "version": "3.13.3"
  }
 },
 "nbformat": 4,
 "nbformat_minor": 5
}
