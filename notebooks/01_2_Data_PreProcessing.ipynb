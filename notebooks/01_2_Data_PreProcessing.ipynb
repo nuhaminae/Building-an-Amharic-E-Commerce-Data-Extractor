{
 "cells": [
  {
   "cell_type": "markdown",
   "id": "e4a70cd9",
   "metadata": {},
   "source": [
    "# **Import Modules and Libraries**"
   ]
  },
  {
   "cell_type": "markdown",
   "id": "77283d39",
   "metadata": {},
   "source": [
    "## *python*"
   ]
  },
  {
   "cell_type": "code",
   "execution_count": 1,
   "id": "eeae5853",
   "metadata": {},
   "outputs": [],
   "source": [
    "import os\n",
    "import sys"
   ]
  },
  {
   "cell_type": "markdown",
   "id": "504bdbe4",
   "metadata": {},
   "source": [
    "## *custom*"
   ]
  },
  {
   "cell_type": "code",
   "execution_count": 2,
   "id": "fce285a6",
   "metadata": {},
   "outputs": [],
   "source": [
    "#import customised modules\n",
    "\n",
    "#define path\n",
    "sys.path.append(os.path.abspath(os.path.join('..')))\n",
    "\n",
    "##import relevant modules\n",
    "try:\n",
    "    from scripts._01_3_preprocess_and_clean import preprocess_and_clean\n",
    "\n",
    "except ImportError:\n",
    "    print('Could not import module from `scripts/`.')"
   ]
  },
  {
   "cell_type": "markdown",
   "id": "c351864a",
   "metadata": {},
   "source": [
    "# **Preprocess Data**"
   ]
  },
  {
   "cell_type": "code",
   "execution_count": 3,
   "id": "a709d38c",
   "metadata": {},
   "outputs": [],
   "source": [
    "# Define DataFrame path\n",
    "df_path = os.path.join(os.path.dirname(os.getcwd()), 'data/telegram_data.csv')\n",
    "output_folder = os.path.join(os.path.dirname(os.getcwd()), 'data')"
   ]
  },
  {
   "cell_type": "code",
   "execution_count": 4,
   "id": "cefc0987",
   "metadata": {},
   "outputs": [
    {
     "name": "stdout",
     "output_type": "stream",
     "text": [
      "DataFrame loaded successfully from ..\\data\\telegram_data.csv\n",
      "\n",
      "DataFrame head:\n"
     ]
    },
    {
     "data": {
      "application/vnd.microsoft.datawrangler.viewer.v0+json": {
       "columns": [
        {
         "name": "index",
         "rawType": "int64",
         "type": "integer"
        },
        {
         "name": "Channel Title",
         "rawType": "object",
         "type": "string"
        },
        {
         "name": "Channel Username",
         "rawType": "object",
         "type": "string"
        },
        {
         "name": "ID",
         "rawType": "int64",
         "type": "integer"
        },
        {
         "name": "Message",
         "rawType": "object",
         "type": "unknown"
        },
        {
         "name": "Date",
         "rawType": "object",
         "type": "string"
        },
        {
         "name": "Views",
         "rawType": "int64",
         "type": "integer"
        }
       ],
       "ref": "37d2a2a8-a2b2-48a9-8f73-f984b5a375ab",
       "rows": [
        [
         "0",
         "አዳማ ገበያ - Adama gebeya",
         "@gebeyaadama",
         "4505",
         "HIGH PRESSURE WATER GUN HEAD SUIT💧💦",
         "2025-06-25 12:02:08+00:00",
         "404"
        ],
        [
         "1",
         "አዳማ ገበያ - Adama gebeya",
         "@gebeyaadama",
         "4504",
         "🚔🚍ለመኪናዎ ማጠቢያ🚗🚚   🌴🌳አትክልት ለማጠጣት🪴🌾 እና ለሌሎችም አገልግሎት የሚሆን \n\n💧💦HIGH PRESSURE WATER GUN HEAD SUIT💧💦\n\n✅ ለተሽከርካሪ ማጠብ ብቻ ሳይሆን አበቦችን ለማጠጣት ፣ ወለሎችን ለማጽዳት እና ግድግዳዎችን ለማጠብ ጭምር ያገለግላል ፡፡\n\n➡️ እስከ 15 ሜትር ድረስ በሀይል\nመርጨት የሚችል እና ቆሻሻን በቀላሉ የሚያጸዳ\n\n➡️ አጠቃቀሙ ቀላል የሆነ ሊስተካከል የሚችል ኖዜል/ 🔄የ360 ዲግሪ ሽክርክሪት ዲዛይን የውሃ ፍሰት ያለው💯\n\nዋጋ👉1200 ብር\n\n📞 +251911762201\n      +251972824252\n\nበቴሌግራም ለማዘዝ 👉@GebeyaAdama21\n       \n            📌አዳማ ፖስታ ቤት  ሶሬቲ ሞል ምድር ላይ ሱ.ቁ 33\n\n📌አዲስአበባ መገናኛ ከ ዋአች ህንፃ ፊትለፊት ኪኔሬት ሞል 3ተኛ ፎቅ 305\n  \n\n📌📌📌 ክፍለሀገር ለምትኖሩ በፖስታ ቤት (ems) እንልካለን።\n\nይሄንን በመጫን የቤተሰባችን አባል ይሁኑ\n          👇🏼👇🏼👇🏼\n\nhttps://t.me/richsfashion\n\n📌ያሉበት ድረስ በራሳችን ትራንስፖርት እናደርሳለን።",
         "2025-06-25 12:02:04+00:00",
         "385"
        ],
        [
         "2",
         "አዳማ ገበያ - Adama gebeya",
         "@gebeyaadama",
         "4503",
         "kitchen stiker",
         "2025-06-21 11:55:54+00:00",
         "1601"
        ],
        [
         "3",
         "አዳማ ገበያ - Adama gebeya",
         "@gebeyaadama",
         "4502",
         null,
         "2025-06-21 11:55:51+00:00",
         "1537"
        ],
        [
         "4",
         "አዳማ ገበያ - Adama gebeya",
         "@gebeyaadama",
         "4501",
         null,
         "2025-06-21 11:55:51+00:00",
         "1541"
        ]
       ],
       "shape": {
        "columns": 6,
        "rows": 5
       }
      },
      "text/html": [
       "<div>\n",
       "<style scoped>\n",
       "    .dataframe tbody tr th:only-of-type {\n",
       "        vertical-align: middle;\n",
       "    }\n",
       "\n",
       "    .dataframe tbody tr th {\n",
       "        vertical-align: top;\n",
       "    }\n",
       "\n",
       "    .dataframe thead th {\n",
       "        text-align: right;\n",
       "    }\n",
       "</style>\n",
       "<table border=\"1\" class=\"dataframe\">\n",
       "  <thead>\n",
       "    <tr style=\"text-align: right;\">\n",
       "      <th></th>\n",
       "      <th>Channel Title</th>\n",
       "      <th>Channel Username</th>\n",
       "      <th>ID</th>\n",
       "      <th>Message</th>\n",
       "      <th>Date</th>\n",
       "      <th>Views</th>\n",
       "    </tr>\n",
       "  </thead>\n",
       "  <tbody>\n",
       "    <tr>\n",
       "      <th>0</th>\n",
       "      <td>አዳማ ገበያ - Adama gebeya</td>\n",
       "      <td>@gebeyaadama</td>\n",
       "      <td>4505</td>\n",
       "      <td>HIGH PRESSURE WATER GUN HEAD SUIT💧💦</td>\n",
       "      <td>2025-06-25 12:02:08+00:00</td>\n",
       "      <td>404</td>\n",
       "    </tr>\n",
       "    <tr>\n",
       "      <th>1</th>\n",
       "      <td>አዳማ ገበያ - Adama gebeya</td>\n",
       "      <td>@gebeyaadama</td>\n",
       "      <td>4504</td>\n",
       "      <td>🚔🚍ለመኪናዎ ማጠቢያ🚗🚚   🌴🌳አትክልት ለማጠጣት🪴🌾 እና ለሌሎችም አገልግ...</td>\n",
       "      <td>2025-06-25 12:02:04+00:00</td>\n",
       "      <td>385</td>\n",
       "    </tr>\n",
       "    <tr>\n",
       "      <th>2</th>\n",
       "      <td>አዳማ ገበያ - Adama gebeya</td>\n",
       "      <td>@gebeyaadama</td>\n",
       "      <td>4503</td>\n",
       "      <td>kitchen stiker</td>\n",
       "      <td>2025-06-21 11:55:54+00:00</td>\n",
       "      <td>1601</td>\n",
       "    </tr>\n",
       "    <tr>\n",
       "      <th>3</th>\n",
       "      <td>አዳማ ገበያ - Adama gebeya</td>\n",
       "      <td>@gebeyaadama</td>\n",
       "      <td>4502</td>\n",
       "      <td>NaN</td>\n",
       "      <td>2025-06-21 11:55:51+00:00</td>\n",
       "      <td>1537</td>\n",
       "    </tr>\n",
       "    <tr>\n",
       "      <th>4</th>\n",
       "      <td>አዳማ ገበያ - Adama gebeya</td>\n",
       "      <td>@gebeyaadama</td>\n",
       "      <td>4501</td>\n",
       "      <td>NaN</td>\n",
       "      <td>2025-06-21 11:55:51+00:00</td>\n",
       "      <td>1541</td>\n",
       "    </tr>\n",
       "  </tbody>\n",
       "</table>\n",
       "</div>"
      ],
      "text/plain": [
       "            Channel Title Channel Username    ID  \\\n",
       "0  አዳማ ገበያ - Adama gebeya     @gebeyaadama  4505   \n",
       "1  አዳማ ገበያ - Adama gebeya     @gebeyaadama  4504   \n",
       "2  አዳማ ገበያ - Adama gebeya     @gebeyaadama  4503   \n",
       "3  አዳማ ገበያ - Adama gebeya     @gebeyaadama  4502   \n",
       "4  አዳማ ገበያ - Adama gebeya     @gebeyaadama  4501   \n",
       "\n",
       "                                             Message  \\\n",
       "0                HIGH PRESSURE WATER GUN HEAD SUIT💧💦   \n",
       "1  🚔🚍ለመኪናዎ ማጠቢያ🚗🚚   🌴🌳አትክልት ለማጠጣት🪴🌾 እና ለሌሎችም አገልግ...   \n",
       "2                                     kitchen stiker   \n",
       "3                                                NaN   \n",
       "4                                                NaN   \n",
       "\n",
       "                        Date  Views  \n",
       "0  2025-06-25 12:02:08+00:00    404  \n",
       "1  2025-06-25 12:02:04+00:00    385  \n",
       "2  2025-06-21 11:55:54+00:00   1601  \n",
       "3  2025-06-21 11:55:51+00:00   1537  \n",
       "4  2025-06-21 11:55:51+00:00   1541  "
      ]
     },
     "metadata": {},
     "output_type": "display_data"
    },
    {
     "name": "stdout",
     "output_type": "stream",
     "text": [
      "\n",
      "DataFrame shape:\n"
     ]
    },
    {
     "data": {
      "text/plain": [
       "(21541, 6)"
      ]
     },
     "metadata": {},
     "output_type": "display_data"
    }
   ],
   "source": [
    "# Load data\n",
    "preprocessor = preprocess_and_clean(df_path, output_folder)"
   ]
  },
  {
   "cell_type": "code",
   "execution_count": 5,
   "id": "b6a18677",
   "metadata": {},
   "outputs": [
    {
     "name": "stdout",
     "output_type": "stream",
     "text": [
      "\n",
      "Phone number separated by space are handled.\n",
      "\n",
      "Prefixes are handled.\n",
      "\n",
      "Emojis and non Geʽez characters in 'Message' column are handeled.\n",
      "\n",
      "Empty rows where 'Message' column is empty and or has just numeric values are dropped.\n",
      "\n",
      "DataFrame head:\n"
     ]
    },
    {
     "data": {
      "application/vnd.microsoft.datawrangler.viewer.v0+json": {
       "columns": [
        {
         "name": "index",
         "rawType": "int64",
         "type": "integer"
        },
        {
         "name": "Channel Title",
         "rawType": "object",
         "type": "string"
        },
        {
         "name": "Channel Username",
         "rawType": "object",
         "type": "string"
        },
        {
         "name": "ID",
         "rawType": "int64",
         "type": "integer"
        },
        {
         "name": "Message",
         "rawType": "object",
         "type": "string"
        },
        {
         "name": "Date",
         "rawType": "object",
         "type": "string"
        },
        {
         "name": "Views",
         "rawType": "int64",
         "type": "integer"
        }
       ],
       "ref": "24ff2f1a-156d-49a2-a076-e98589c098dc",
       "rows": [
        [
         "0",
         "አዳማ ገበያ - Adama gebeya",
         "@gebeyaadama",
         "4504",
         "ለመኪናዎ ማጠቢያ አትክልት ለማጠጣት እና ለሌሎችም አገልግሎት የሚሆን ለተሽከርካሪ ማጠብ ብቻ ሳይሆን አበቦችን ለማጠጣት ወለሎችን ለማጽዳት እና ግድግዳዎችን ለማጠብ ጭምር ያገለግላል እስከ 15 ሜትር ድረስ በሀይል መርጨት የሚችል እና ቆሻሻን በቀላሉ የሚያጸዳ አጠቃቀሙ ቀላል የሆነ ሊስተካከል የሚችል ኖዜል የ360 ዲግሪ ሽክርክሪት ዲዛይን የውሃ ፍሰት ያለው ዋጋ 1200 ብር 251911762201 251972824252 በቴሌግራም ለማዘዝ 21 አዳማ ፖስታ ቤት ሶሬቲ ሞል ምድር ላይ ሱ ቁ 33 አዲስአበባ መገናኛ ከዋአች ህንፃ ፊትለፊት ኪኔሬት ሞል 3ተኛ ፎቅ 305 ክፍለሀገር ለምትኖሩ በፖስታ ቤት እንልካለን ይሄንን በመጫን የቤተሰባችን አባል ይሁኑ ያሉበት ድረስ በራሳችን ትራንስፖርት እናደርሳለን",
         "2025-06-25 12:02:04+00:00",
         "385"
        ],
        [
         "1",
         "አዳማ ገበያ - Adama gebeya",
         "@gebeyaadama",
         "4497",
         "ኪችንዎን በቅጽበት ውብ ማድረግ ይፈልጋሉ ለኪችንዎ ግርማ ሞገስ ሀርቪ ስቲከር ለመሳቢያ ለካቢኔ ለኩሽና ለስላሳ የእንጨት ገጽና ግድግዳ ላይ የሚለጠፍ ማስጌጫ በራሱ የሚጣበቅ ውሃ የማያሳልፍ ሙቀትን እና እርጥበትን የሚቋቋም ለማፅዳት ቀላል የሆነ አንጸባራቂ 605 ያለው ከለር ዋጋ 5 1200 ብር 0903038388 አድራሻችን አዳማ ፖስታ ቤት ሶሬቲ ሞል ምድር ላይ ሱ ቁ 33 አዲስአበባ መገናኛ ከዋአች ህንፃ ፊትለፊት ኪኔሬት ሞል 3ተኛ ፎቅ 302 ብዛት መውሰድ ለምትፈልጉ በቅናሽ እናስረክባለን ቴሌግራም 21",
         "2025-06-21 11:55:50+00:00",
         "1312"
        ],
        [
         "2",
         "አዳማ ገበያ - Adama gebeya",
         "@gebeyaadama",
         "4492",
         "የማያንሸራትት ዋጋ 650ብር 0910500664 0988981322 0911762201 0911762201 አድራሻችን አዳማ ፖስታ ቤት ሶሬቲ ሞል ምድር ላይ ሱ ቁ 33 አዲስአበባ መገናኛ ከዋአች ህንፃ ፊትለፊት ኪኔሬት ሞል 3ተኛ ፎቅ 305 ብዛት መውሰድ ለምትፈልጉ በቅናሽ እናስረክባለን ቴሌግራም 21",
         "2025-06-17 11:33:43+00:00",
         "2062"
        ],
        [
         "3",
         "አዳማ ገበያ - Adama gebeya",
         "@gebeyaadama",
         "4490",
         "የቆርቆሮ እና የሮቶ መለጠፊያ",
         "2025-06-16 12:50:45+00:00",
         "2077"
        ],
        [
         "4",
         "አዳማ ገበያ - Adama gebeya",
         "@gebeyaadama",
         "4489",
         "አንደኛ ደረጃ የጎማ ላስትሮ 5 ሜትር ይረዝማል ማንኛውንም ነገር በከፍተኛ ደረጃ ያጣብቃል የተቀደዱ የተበሱ የፍሳሽ ፒቪሲ ቱቦዎችን የውሃ ታንከር ሮቶ ባልዲ በርሜል እና የቤት ቆርቆሮ ዴክራ ጣራዎችን ይደፍናል ቅናሽ አርገናል እስከ 120 ድረስ ከፍተኛ ሙቀት እና እስከ 40 ቅዝቃዜ ይቋቋማል አንዴ የተጠቀሙበት ለ30 አመት ይቆያል ዋጋ 900 ብር ብቻ 0903038388 በቴሌግራም ለማዘዝ 21 አድራሻችን አዳማ ፖስታ ቤት ሶሬቲ ሞል ምድር ላይ ሱ ቁ 33 አዲስአበባ መገናኛ ከዋአች ህንፃ ፊትለፊት ኪኔሬት ሞል 3ተኛ ፎቅ 302 ክፍለሀገር ለምትኖሩ በፖስታ ቤት እንልካለን ይሄንን በመጫን የቤተሰባችን አባል ይሁኑ ያሉበት ድረስ በራሳችን ትራንስፖርት በነፃ እናደርሳለን",
         "2025-06-16 12:50:41+00:00",
         "1909"
        ]
       ],
       "shape": {
        "columns": 6,
        "rows": 5
       }
      },
      "text/html": [
       "<div>\n",
       "<style scoped>\n",
       "    .dataframe tbody tr th:only-of-type {\n",
       "        vertical-align: middle;\n",
       "    }\n",
       "\n",
       "    .dataframe tbody tr th {\n",
       "        vertical-align: top;\n",
       "    }\n",
       "\n",
       "    .dataframe thead th {\n",
       "        text-align: right;\n",
       "    }\n",
       "</style>\n",
       "<table border=\"1\" class=\"dataframe\">\n",
       "  <thead>\n",
       "    <tr style=\"text-align: right;\">\n",
       "      <th></th>\n",
       "      <th>Channel Title</th>\n",
       "      <th>Channel Username</th>\n",
       "      <th>ID</th>\n",
       "      <th>Message</th>\n",
       "      <th>Date</th>\n",
       "      <th>Views</th>\n",
       "    </tr>\n",
       "  </thead>\n",
       "  <tbody>\n",
       "    <tr>\n",
       "      <th>0</th>\n",
       "      <td>አዳማ ገበያ - Adama gebeya</td>\n",
       "      <td>@gebeyaadama</td>\n",
       "      <td>4504</td>\n",
       "      <td>ለመኪናዎ ማጠቢያ አትክልት ለማጠጣት እና ለሌሎችም አገልግሎት የሚሆን ለተ...</td>\n",
       "      <td>2025-06-25 12:02:04+00:00</td>\n",
       "      <td>385</td>\n",
       "    </tr>\n",
       "    <tr>\n",
       "      <th>1</th>\n",
       "      <td>አዳማ ገበያ - Adama gebeya</td>\n",
       "      <td>@gebeyaadama</td>\n",
       "      <td>4497</td>\n",
       "      <td>ኪችንዎን በቅጽበት ውብ ማድረግ ይፈልጋሉ ለኪችንዎ ግርማ ሞገስ ሀርቪ ስቲ...</td>\n",
       "      <td>2025-06-21 11:55:50+00:00</td>\n",
       "      <td>1312</td>\n",
       "    </tr>\n",
       "    <tr>\n",
       "      <th>2</th>\n",
       "      <td>አዳማ ገበያ - Adama gebeya</td>\n",
       "      <td>@gebeyaadama</td>\n",
       "      <td>4492</td>\n",
       "      <td>የማያንሸራትት ዋጋ 650ብር 0910500664 0988981322 091176...</td>\n",
       "      <td>2025-06-17 11:33:43+00:00</td>\n",
       "      <td>2062</td>\n",
       "    </tr>\n",
       "    <tr>\n",
       "      <th>3</th>\n",
       "      <td>አዳማ ገበያ - Adama gebeya</td>\n",
       "      <td>@gebeyaadama</td>\n",
       "      <td>4490</td>\n",
       "      <td>የቆርቆሮ እና የሮቶ መለጠፊያ</td>\n",
       "      <td>2025-06-16 12:50:45+00:00</td>\n",
       "      <td>2077</td>\n",
       "    </tr>\n",
       "    <tr>\n",
       "      <th>4</th>\n",
       "      <td>አዳማ ገበያ - Adama gebeya</td>\n",
       "      <td>@gebeyaadama</td>\n",
       "      <td>4489</td>\n",
       "      <td>አንደኛ ደረጃ የጎማ ላስትሮ 5 ሜትር ይረዝማል ማንኛውንም ነገር በከፍተኛ...</td>\n",
       "      <td>2025-06-16 12:50:41+00:00</td>\n",
       "      <td>1909</td>\n",
       "    </tr>\n",
       "  </tbody>\n",
       "</table>\n",
       "</div>"
      ],
      "text/plain": [
       "            Channel Title Channel Username    ID  \\\n",
       "0  አዳማ ገበያ - Adama gebeya     @gebeyaadama  4504   \n",
       "1  አዳማ ገበያ - Adama gebeya     @gebeyaadama  4497   \n",
       "2  አዳማ ገበያ - Adama gebeya     @gebeyaadama  4492   \n",
       "3  አዳማ ገበያ - Adama gebeya     @gebeyaadama  4490   \n",
       "4  አዳማ ገበያ - Adama gebeya     @gebeyaadama  4489   \n",
       "\n",
       "                                             Message  \\\n",
       "0  ለመኪናዎ ማጠቢያ አትክልት ለማጠጣት እና ለሌሎችም አገልግሎት የሚሆን ለተ...   \n",
       "1  ኪችንዎን በቅጽበት ውብ ማድረግ ይፈልጋሉ ለኪችንዎ ግርማ ሞገስ ሀርቪ ስቲ...   \n",
       "2  የማያንሸራትት ዋጋ 650ብር 0910500664 0988981322 091176...   \n",
       "3                                 የቆርቆሮ እና የሮቶ መለጠፊያ   \n",
       "4  አንደኛ ደረጃ የጎማ ላስትሮ 5 ሜትር ይረዝማል ማንኛውንም ነገር በከፍተኛ...   \n",
       "\n",
       "                        Date  Views  \n",
       "0  2025-06-25 12:02:04+00:00    385  \n",
       "1  2025-06-21 11:55:50+00:00   1312  \n",
       "2  2025-06-17 11:33:43+00:00   2062  \n",
       "3  2025-06-16 12:50:45+00:00   2077  \n",
       "4  2025-06-16 12:50:41+00:00   1909  "
      ]
     },
     "metadata": {},
     "output_type": "display_data"
    },
    {
     "name": "stdout",
     "output_type": "stream",
     "text": [
      "\n",
      "DataFrame shape:\n"
     ]
    },
    {
     "data": {
      "text/plain": [
       "(14721, 6)"
      ]
     },
     "metadata": {},
     "output_type": "display_data"
    },
    {
     "name": "stdout",
     "output_type": "stream",
     "text": [
      "\n",
      "DataFrame Info:\n",
      "<class 'pandas.core.frame.DataFrame'>\n",
      "RangeIndex: 14721 entries, 0 to 14720\n",
      "Data columns (total 6 columns):\n",
      " #   Column            Non-Null Count  Dtype \n",
      "---  ------            --------------  ----- \n",
      " 0   Channel Title     14721 non-null  object\n",
      " 1   Channel Username  14721 non-null  object\n",
      " 2   ID                14721 non-null  int64 \n",
      " 3   Message           14721 non-null  object\n",
      " 4   Date              14721 non-null  object\n",
      " 5   Views             14721 non-null  int64 \n",
      "dtypes: int64(2), object(4)\n",
      "memory usage: 690.2+ KB\n",
      "\n",
      "Prrocessed DataFrame Saved to: ..\\data\\processed_telegram_data.csv\n"
     ]
    }
   ],
   "source": [
    "# Preprocess data\n",
    "processed= preprocessor.clean_df()"
   ]
  }
 ],
 "metadata": {
  "kernelspec": {
   "display_name": ".amhvenv",
   "language": "python",
   "name": "python3"
  },
  "language_info": {
   "codemirror_mode": {
    "name": "ipython",
    "version": 3
   },
   "file_extension": ".py",
   "mimetype": "text/x-python",
   "name": "python",
   "nbconvert_exporter": "python",
   "pygments_lexer": "ipython3",
   "version": "3.13.3"
  }
 },
 "nbformat": 4,
 "nbformat_minor": 5
}
