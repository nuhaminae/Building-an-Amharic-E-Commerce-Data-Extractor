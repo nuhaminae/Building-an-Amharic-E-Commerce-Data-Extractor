{
 "cells": [
  {
   "cell_type": "markdown",
   "id": "91ad2502",
   "metadata": {},
   "source": [
    "# **Import Modules and Libraries**"
   ]
  },
  {
   "cell_type": "markdown",
   "id": "3f1b66b6",
   "metadata": {},
   "source": [
    "## *python*"
   ]
  },
  {
   "cell_type": "code",
   "execution_count": 1,
   "id": "556a7c00",
   "metadata": {},
   "outputs": [],
   "source": [
    "import os,sys\n",
    "import pandas as pd                       "
   ]
  },
  {
   "cell_type": "markdown",
   "id": "38aa832f",
   "metadata": {},
   "source": [
    "## *custom*"
   ]
  },
  {
   "cell_type": "code",
   "execution_count": null,
   "id": "e50abba5",
   "metadata": {},
   "outputs": [],
   "source": [
    "#import customised modules\n",
    "\n",
    "#define path\n",
    "sys.path.append(os.path.abspath(os.path.join('..')))\n",
    "\n",
    "##import relevant modules\n",
    "try:\n",
    "    from scripts._05_1_enrich_csv import EnrichCSVwithNER\n",
    "    \n",
    "except ImportError:\n",
    "    print('Could not import module from `scripts/`.')"
   ]
  },
  {
   "cell_type": "markdown",
   "id": "05c3dbee",
   "metadata": {},
   "source": [
    "# **Enrich CSV**"
   ]
  },
  {
   "cell_type": "code",
   "execution_count": 3,
   "id": "068d79a5",
   "metadata": {},
   "outputs": [],
   "source": [
    "# Define path\n",
    "conll_path = os.path.join(os.path.dirname(os.getcwd()), 'data', 'ner_amharic_conll.txt')\n",
    "output_dir = os.path.join(os.path.dirname(os.getcwd()), 'models', 'afroxlmr')\n",
    "csv_path = os.path.join(os.path.dirname(os.getcwd()), 'data', 'processed_telegram_data.csv')\n",
    "output_path = os.path.join(os.path.dirname(os.getcwd()), 'data', 'enriched_telegram_data.csv')"
   ]
  },
  {
   "cell_type": "code",
   "execution_count": 4,
   "id": "e5ec3174",
   "metadata": {},
   "outputs": [
    {
     "name": "stdout",
     "output_type": "stream",
     "text": [
      "\n",
      "Initialising NER Enricher...\n",
      "Initialising afroxlmrAmharicNERFineTuner...\n",
      "\n",
      "Initialisation complete.\n",
      "\n",
      "NER model config loaded with labels:{0: 'B-LOC', 1: 'B-PHONE', 2: 'B-PRICE', 3: 'B-PRODUCT', 4: 'I-LOC', 5: 'I-PRICE', 6: 'I-PRODUCT', 7: 'O'}\n"
     ]
    }
   ],
   "source": [
    "enricher = EnrichCSVwithNER(output_dir = output_dir, conll_path = conll_path, \n",
    "                            csv_path = csv_path, output_path = output_path)"
   ]
  },
  {
   "cell_type": "code",
   "execution_count": 5,
   "id": "dee8ed2e",
   "metadata": {},
   "outputs": [
    {
     "name": "stdout",
     "output_type": "stream",
     "text": [
      "\n",
      "Verifying paths...\n",
      "\n",
      "Starting enrichment process...\n",
      "\n",
      "Processed 500 rows...\n",
      "\n",
      "Processed 1000 rows...\n",
      "\n",
      "Processed 1500 rows...\n",
      "\n",
      "Processed 2000 rows...\n",
      "\n",
      "Processed 2500 rows...\n",
      "\n",
      "Processed 3000 rows...\n",
      "\n",
      "Processed 3500 rows...\n",
      "\n",
      "Processed 4000 rows...\n",
      "\n",
      "Processed 4500 rows...\n",
      "\n",
      "Processed 5000 rows...\n",
      "\n",
      "Processed 5500 rows...\n",
      "\n",
      "Processed 6000 rows...\n",
      "\n",
      "Processed 6500 rows...\n",
      "\n",
      "Processed 7000 rows...\n",
      "\n",
      "Processed 7500 rows...\n",
      "\n",
      "Processed 8000 rows...\n",
      "\n",
      "Processed 8500 rows...\n",
      "\n",
      "Processed 9000 rows...\n",
      "\n",
      "Processed 9500 rows...\n",
      "\n",
      "Processed 10000 rows...\n",
      "\n",
      "Processed 10500 rows...\n",
      "\n",
      "Processed 11000 rows...\n",
      "\n",
      "Processed 11500 rows...\n",
      "\n",
      "Processed 12000 rows...\n",
      "\n",
      "Processed 12500 rows...\n",
      "\n",
      "Processed 13000 rows...\n",
      "\n",
      "Processed 13500 rows...\n",
      "\n",
      "Enriched CSV saved to: ..\\data\\enriched_telegram_data.csv\n"
     ]
    }
   ],
   "source": [
    "enricher.enrich_csv()"
   ]
  },
  {
   "cell_type": "code",
   "execution_count": 6,
   "id": "0c0ea85d",
   "metadata": {},
   "outputs": [
    {
     "data": {
      "application/vnd.microsoft.datawrangler.viewer.v0+json": {
       "columns": [
        {
         "name": "index",
         "rawType": "int64",
         "type": "integer"
        },
        {
         "name": "Channel Title",
         "rawType": "object",
         "type": "string"
        },
        {
         "name": "Channel Username",
         "rawType": "object",
         "type": "string"
        },
        {
         "name": "ID",
         "rawType": "int64",
         "type": "integer"
        },
        {
         "name": "Message",
         "rawType": "object",
         "type": "string"
        },
        {
         "name": "Date",
         "rawType": "object",
         "type": "string"
        },
        {
         "name": "Views",
         "rawType": "int64",
         "type": "integer"
        },
        {
         "name": "NER_Products",
         "rawType": "object",
         "type": "unknown"
        },
        {
         "name": "NER_Prices",
         "rawType": "object",
         "type": "unknown"
        }
       ],
       "ref": "52675f00-7928-4361-b47c-3980393d5653",
       "rows": [
        [
         "0",
         "አዳማ ገበያ - Adama gebeya",
         "@gebeyaadama",
         "4504",
         "ለመኪናዎ ማጠቢያ አትክልት ለማጠጣት እና ለሌሎችም አገልግሎት የሚሆን ለተሽከርካሪ ማጠብ ብቻ ሳይሆን አበቦችን ለማጠጣት ወለሎችን ለማጽዳት እና ግድግዳዎችን ለማጠብ ጭምር ያገለግላል እስከ 15 ሜትር ድረስ በሀይል መርጨት የሚችል እና ቆሻሻን በቀላሉ የሚያጸዳ አጠቃቀሙ ቀላል የሆነ ሊስተካከል የሚችል ኖዜል የ360 ዲግሪ ሽክርክሪት ዲዛይን የውሃ ፍሰት ያለው ዋጋ 1200 ብር 251911762201 251972824252 በቴሌግራም ለማዘዝ 21 አዳማ ፖስታ ቤት ሶሬቲ ሞል ምድር ላይ ሱ ቁ 33 አዲስአበባ መገናኛ ከዋአች ህንፃ ፊትለፊት ኪኔሬት ሞል 3ተኛ ፎቅ 305 ክፍለሀገር ለምትኖሩ በፖስታ ቤት እንልካለን ይሄንን በመጫን የቤተሰባችን አባል ይሁኑ ያሉበት ድረስ በራሳችን ትራንስፖርት እናደርሳለን",
         "2025-06-25 12:02:04+00:00",
         "385",
         ", ኖ",
         "ዋጋ, 1200"
        ],
        [
         "1",
         "አዳማ ገበያ - Adama gebeya",
         "@gebeyaadama",
         "4497",
         "ኪችንዎን በቅጽበት ውብ ማድረግ ይፈልጋሉ ለኪችንዎ ግርማ ሞገስ ሀርቪ ስቲከር ለመሳቢያ ለካቢኔ ለኩሽና ለስላሳ የእንጨት ገጽና ግድግዳ ላይ የሚለጠፍ ማስጌጫ በራሱ የሚጣበቅ ውሃ የማያሳልፍ ሙቀትን እና እርጥበትን የሚቋቋም ለማፅዳት ቀላል የሆነ አንጸባራቂ 605 ያለው ከለር ዋጋ 5 1200 ብር 0903038388 አድራሻችን አዳማ ፖስታ ቤት ሶሬቲ ሞል ምድር ላይ ሱ ቁ 33 አዲስአበባ መገናኛ ከዋአች ህንፃ ፊትለፊት ኪኔሬት ሞል 3ተኛ ፎቅ 302 ብዛት መውሰድ ለምትፈልጉ በቅናሽ እናስረክባለን ቴሌግራም 21",
         "2025-06-21 11:55:50+00:00",
         "1312",
         "ር, ስቲ, ሳ, ኩ, ከ, ለ",
         "5"
        ],
        [
         "2",
         "አዳማ ገበያ - Adama gebeya",
         "@gebeyaadama",
         "4492",
         "የማያንሸራትት ዋጋ 650ብር 0910500664 0988981322 0911762201 0911762201 አድራሻችን አዳማ ፖስታ ቤት ሶሬቲ ሞል ምድር ላይ ሱ ቁ 33 አዲስአበባ መገናኛ ከዋአች ህንፃ ፊትለፊት ኪኔሬት ሞል 3ተኛ ፎቅ 305 ብዛት መውሰድ ለምትፈልጉ በቅናሽ እናስረክባለን ቴሌግራም 21",
         "2025-06-17 11:33:43+00:00",
         "2062",
         null,
         "650"
        ],
        [
         "3",
         "አዳማ ገበያ - Adama gebeya",
         "@gebeyaadama",
         "4490",
         "የቆርቆሮ እና የሮቶ መለጠፊያ",
         "2025-06-16 12:50:45+00:00",
         "2077",
         "ቆር, ሮ",
         null
        ],
        [
         "4",
         "አዳማ ገበያ - Adama gebeya",
         "@gebeyaadama",
         "4489",
         "አንደኛ ደረጃ የጎማ ላስትሮ 5 ሜትር ይረዝማል ማንኛውንም ነገር በከፍተኛ ደረጃ ያጣብቃል የተቀደዱ የተበሱ የፍሳሽ ፒቪሲ ቱቦዎችን የውሃ ታንከር ሮቶ ባልዲ በርሜል እና የቤት ቆርቆሮ ዴክራ ጣራዎችን ይደፍናል ቅናሽ አርገናል እስከ 120 ድረስ ከፍተኛ ሙቀት እና እስከ 40 ቅዝቃዜ ይቋቋማል አንዴ የተጠቀሙበት ለ30 አመት ይቆያል ዋጋ 900 ብር ብቻ 0903038388 በቴሌግራም ለማዘዝ 21 አድራሻችን አዳማ ፖስታ ቤት ሶሬቲ ሞል ምድር ላይ ሱ ቁ 33 አዲስአበባ መገናኛ ከዋአች ህንፃ ፊትለፊት ኪኔሬት ሞል 3ተኛ ፎቅ 302 ክፍለሀገር ለምትኖሩ በፖስታ ቤት እንልካለን ይሄንን በመጫን የቤተሰባችን አባል ይሁኑ ያሉበት ድረስ በራሳችን ትራንስፖርት በነፃ እናደርሳለን",
         "2025-06-16 12:50:41+00:00",
         "1909",
         "የጎ, ማ, ስት, ፍሳሽ, ፒ, ቱዎችን, , ታንከር, ሮ, ዲ, ሜ, , ቆር, ዴ, ጣ",
         null
        ]
       ],
       "shape": {
        "columns": 8,
        "rows": 5
       }
      },
      "text/html": [
       "<div>\n",
       "<style scoped>\n",
       "    .dataframe tbody tr th:only-of-type {\n",
       "        vertical-align: middle;\n",
       "    }\n",
       "\n",
       "    .dataframe tbody tr th {\n",
       "        vertical-align: top;\n",
       "    }\n",
       "\n",
       "    .dataframe thead th {\n",
       "        text-align: right;\n",
       "    }\n",
       "</style>\n",
       "<table border=\"1\" class=\"dataframe\">\n",
       "  <thead>\n",
       "    <tr style=\"text-align: right;\">\n",
       "      <th></th>\n",
       "      <th>Channel Title</th>\n",
       "      <th>Channel Username</th>\n",
       "      <th>ID</th>\n",
       "      <th>Message</th>\n",
       "      <th>Date</th>\n",
       "      <th>Views</th>\n",
       "      <th>NER_Products</th>\n",
       "      <th>NER_Prices</th>\n",
       "    </tr>\n",
       "  </thead>\n",
       "  <tbody>\n",
       "    <tr>\n",
       "      <th>0</th>\n",
       "      <td>አዳማ ገበያ - Adama gebeya</td>\n",
       "      <td>@gebeyaadama</td>\n",
       "      <td>4504</td>\n",
       "      <td>ለመኪናዎ ማጠቢያ አትክልት ለማጠጣት እና ለሌሎችም አገልግሎት የሚሆን ለተ...</td>\n",
       "      <td>2025-06-25 12:02:04+00:00</td>\n",
       "      <td>385</td>\n",
       "      <td>, ኖ</td>\n",
       "      <td>ዋጋ, 1200</td>\n",
       "    </tr>\n",
       "    <tr>\n",
       "      <th>1</th>\n",
       "      <td>አዳማ ገበያ - Adama gebeya</td>\n",
       "      <td>@gebeyaadama</td>\n",
       "      <td>4497</td>\n",
       "      <td>ኪችንዎን በቅጽበት ውብ ማድረግ ይፈልጋሉ ለኪችንዎ ግርማ ሞገስ ሀርቪ ስቲ...</td>\n",
       "      <td>2025-06-21 11:55:50+00:00</td>\n",
       "      <td>1312</td>\n",
       "      <td>ር, ስቲ, ሳ, ኩ, ከ, ለ</td>\n",
       "      <td>5</td>\n",
       "    </tr>\n",
       "    <tr>\n",
       "      <th>2</th>\n",
       "      <td>አዳማ ገበያ - Adama gebeya</td>\n",
       "      <td>@gebeyaadama</td>\n",
       "      <td>4492</td>\n",
       "      <td>የማያንሸራትት ዋጋ 650ብር 0910500664 0988981322 091176...</td>\n",
       "      <td>2025-06-17 11:33:43+00:00</td>\n",
       "      <td>2062</td>\n",
       "      <td>NaN</td>\n",
       "      <td>650</td>\n",
       "    </tr>\n",
       "    <tr>\n",
       "      <th>3</th>\n",
       "      <td>አዳማ ገበያ - Adama gebeya</td>\n",
       "      <td>@gebeyaadama</td>\n",
       "      <td>4490</td>\n",
       "      <td>የቆርቆሮ እና የሮቶ መለጠፊያ</td>\n",
       "      <td>2025-06-16 12:50:45+00:00</td>\n",
       "      <td>2077</td>\n",
       "      <td>ቆር, ሮ</td>\n",
       "      <td>NaN</td>\n",
       "    </tr>\n",
       "    <tr>\n",
       "      <th>4</th>\n",
       "      <td>አዳማ ገበያ - Adama gebeya</td>\n",
       "      <td>@gebeyaadama</td>\n",
       "      <td>4489</td>\n",
       "      <td>አንደኛ ደረጃ የጎማ ላስትሮ 5 ሜትር ይረዝማል ማንኛውንም ነገር በከፍተኛ...</td>\n",
       "      <td>2025-06-16 12:50:41+00:00</td>\n",
       "      <td>1909</td>\n",
       "      <td>የጎ, ማ, ስት, ፍሳሽ, ፒ, ቱዎችን, , ታንከር, ሮ, ዲ, ሜ, , ቆር...</td>\n",
       "      <td>NaN</td>\n",
       "    </tr>\n",
       "  </tbody>\n",
       "</table>\n",
       "</div>"
      ],
      "text/plain": [
       "            Channel Title Channel Username    ID  \\\n",
       "0  አዳማ ገበያ - Adama gebeya     @gebeyaadama  4504   \n",
       "1  አዳማ ገበያ - Adama gebeya     @gebeyaadama  4497   \n",
       "2  አዳማ ገበያ - Adama gebeya     @gebeyaadama  4492   \n",
       "3  አዳማ ገበያ - Adama gebeya     @gebeyaadama  4490   \n",
       "4  አዳማ ገበያ - Adama gebeya     @gebeyaadama  4489   \n",
       "\n",
       "                                             Message  \\\n",
       "0  ለመኪናዎ ማጠቢያ አትክልት ለማጠጣት እና ለሌሎችም አገልግሎት የሚሆን ለተ...   \n",
       "1  ኪችንዎን በቅጽበት ውብ ማድረግ ይፈልጋሉ ለኪችንዎ ግርማ ሞገስ ሀርቪ ስቲ...   \n",
       "2  የማያንሸራትት ዋጋ 650ብር 0910500664 0988981322 091176...   \n",
       "3                                 የቆርቆሮ እና የሮቶ መለጠፊያ   \n",
       "4  አንደኛ ደረጃ የጎማ ላስትሮ 5 ሜትር ይረዝማል ማንኛውንም ነገር በከፍተኛ...   \n",
       "\n",
       "                        Date  Views  \\\n",
       "0  2025-06-25 12:02:04+00:00    385   \n",
       "1  2025-06-21 11:55:50+00:00   1312   \n",
       "2  2025-06-17 11:33:43+00:00   2062   \n",
       "3  2025-06-16 12:50:45+00:00   2077   \n",
       "4  2025-06-16 12:50:41+00:00   1909   \n",
       "\n",
       "                                        NER_Products NER_Prices  \n",
       "0                                                , ኖ   ዋጋ, 1200  \n",
       "1                                  ር, ስቲ, ሳ, ኩ, ከ, ለ          5  \n",
       "2                                                NaN        650  \n",
       "3                                              ቆር, ሮ        NaN  \n",
       "4  የጎ, ማ, ስት, ፍሳሽ, ፒ, ቱዎችን, , ታንከር, ሮ, ዲ, ሜ, , ቆር...        NaN  "
      ]
     },
     "execution_count": 6,
     "metadata": {},
     "output_type": "execute_result"
    }
   ],
   "source": [
    "# Show enriched DataFrame head\n",
    "enriched_csv = pd.read_csv(output_path)\n",
    "enriched_csv.head()"
   ]
  }
 ],
 "metadata": {
  "kernelspec": {
   "display_name": ".amhvenv",
   "language": "python",
   "name": "python3"
  },
  "language_info": {
   "codemirror_mode": {
    "name": "ipython",
    "version": 3
   },
   "file_extension": ".py",
   "mimetype": "text/x-python",
   "name": "python",
   "nbconvert_exporter": "python",
   "pygments_lexer": "ipython3",
   "version": "3.13.3"
  }
 },
 "nbformat": 4,
 "nbformat_minor": 5
}
