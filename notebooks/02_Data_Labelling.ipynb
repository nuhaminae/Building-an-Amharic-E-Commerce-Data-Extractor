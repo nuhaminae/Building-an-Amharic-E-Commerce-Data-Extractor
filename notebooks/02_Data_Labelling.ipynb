{
 "cells": [
  {
   "cell_type": "markdown",
   "id": "493debe9",
   "metadata": {},
   "source": [
    "# **Import Modules and Libraries**"
   ]
  },
  {
   "cell_type": "markdown",
   "id": "26ca8ff7",
   "metadata": {},
   "source": [
    "## *python*"
   ]
  },
  {
   "cell_type": "code",
   "execution_count": 1,
   "id": "a0213ef3",
   "metadata": {},
   "outputs": [],
   "source": [
    "import os\n",
    "import sys"
   ]
  },
  {
   "cell_type": "markdown",
   "id": "319a9922",
   "metadata": {},
   "source": [
    "## *custom*"
   ]
  },
  {
   "cell_type": "code",
   "execution_count": 2,
   "id": "e0123271",
   "metadata": {},
   "outputs": [],
   "source": [
    "#import customised modules\n",
    "\n",
    "#define path\n",
    "sys.path.append(os.path.abspath(os.path.join('..')))\n",
    "\n",
    "##import relevant modules\n",
    "try:\n",
    "    from scripts._02_label_data import label_data\n",
    "\n",
    "except ImportError:\n",
    "    print('Could not import module from `scripts/`.')"
   ]
  },
  {
   "cell_type": "markdown",
   "id": "fe1b5f7a",
   "metadata": {},
   "source": [
    "# **Load Data**"
   ]
  },
  {
   "cell_type": "code",
   "execution_count": 3,
   "id": "495d2ee6",
   "metadata": {},
   "outputs": [],
   "source": [
    "# Define DataFrame path\n",
    "df_path = os.path.join(os.path.dirname(os.getcwd()), 'data/processed_telegram_data.csv')\n",
    "output_folder = os.path.join(os.path.dirname(os.getcwd()), 'data')"
   ]
  },
  {
   "cell_type": "code",
   "execution_count": 4,
   "id": "6de0d498",
   "metadata": {},
   "outputs": [
    {
     "name": "stdout",
     "output_type": "stream",
     "text": [
      "Loaded DataFrame from ..\\data\\processed_telegram_data.csv\n"
     ]
    },
    {
     "data": {
      "application/vnd.microsoft.datawrangler.viewer.v0+json": {
       "columns": [
        {
         "name": "index",
         "rawType": "int64",
         "type": "integer"
        },
        {
         "name": "Channel Title",
         "rawType": "object",
         "type": "string"
        },
        {
         "name": "Channel Username",
         "rawType": "object",
         "type": "string"
        },
        {
         "name": "ID",
         "rawType": "int64",
         "type": "integer"
        },
        {
         "name": "Message",
         "rawType": "object",
         "type": "string"
        },
        {
         "name": "Date",
         "rawType": "object",
         "type": "string"
        },
        {
         "name": "Views",
         "rawType": "int64",
         "type": "integer"
        }
       ],
       "ref": "144ee01b-d1d2-4ed1-9049-1aab65d3d911",
       "rows": [
        [
         "0",
         "አዳማ ገበያ - Adama gebeya",
         "@gebeyaadama",
         "4504",
         "ለመኪናዎ ማጠቢያ አትክልት ለማጠጣት እና ለሌሎችም አገልግሎት የሚሆን ለተሽከርካሪ ማጠብ ብቻ ሳይሆን አበቦችን ለማጠጣት ወለሎችን ለማጽዳት እና ግድግዳዎችን ለማጠብ ጭምር ያገለግላል እስከ 15 ሜትር ድረስ በሀይል መርጨት የሚችል እና ቆሻሻን በቀላሉ የሚያጸዳ አጠቃቀሙ ቀላል የሆነ ሊስተካከል የሚችል ኖዜል የ360 ዲግሪ ሽክርክሪት ዲዛይን የውሃ ፍሰት ያለው ዋጋ 1200 ብር 251911762201 251972824252 በቴሌግራም ለማዘዝ 21 አዳማ ፖስታ ቤት ሶሬቲ ሞል ምድር ላይ ሱ ቁ 33 አዲስአበባ መገናኛ ከዋአች ህንፃ ፊትለፊት ኪኔሬት ሞል 3ተኛ ፎቅ 305 ክፍለሀገር ለምትኖሩ በፖስታ ቤት እንልካለን ይሄንን በመጫን የቤተሰባችን አባል ይሁኑ ያሉበት ድረስ በራሳችን ትራንስፖርት እናደርሳለን",
         "2025-06-25 12:02:04+00:00",
         "385"
        ],
        [
         "1",
         "አዳማ ገበያ - Adama gebeya",
         "@gebeyaadama",
         "4497",
         "ኪችንዎን በቅጽበት ውብ ማድረግ ይፈልጋሉ ለኪችንዎ ግርማ ሞገስ ሀርቪ ስቲከር ለመሳቢያ ለካቢኔ ለኩሽና ለስላሳ የእንጨት ገጽና ግድግዳ ላይ የሚለጠፍ ማስጌጫ በራሱ የሚጣበቅ ውሃ የማያሳልፍ ሙቀትን እና እርጥበትን የሚቋቋም ለማፅዳት ቀላል የሆነ አንጸባራቂ 605 ያለው ከለር ዋጋ 5 1200 ብር 0903038388 አድራሻችን አዳማ ፖስታ ቤት ሶሬቲ ሞል ምድር ላይ ሱ ቁ 33 አዲስአበባ መገናኛ ከዋአች ህንፃ ፊትለፊት ኪኔሬት ሞል 3ተኛ ፎቅ 302 ብዛት መውሰድ ለምትፈልጉ በቅናሽ እናስረክባለን ቴሌግራም 21",
         "2025-06-21 11:55:50+00:00",
         "1312"
        ],
        [
         "2",
         "አዳማ ገበያ - Adama gebeya",
         "@gebeyaadama",
         "4492",
         "የማያንሸራትት ዋጋ 650ብር 0910500664 0988981322 0911762201 0911762201 አድራሻችን አዳማ ፖስታ ቤት ሶሬቲ ሞል ምድር ላይ ሱ ቁ 33 አዲስአበባ መገናኛ ከዋአች ህንፃ ፊትለፊት ኪኔሬት ሞል 3ተኛ ፎቅ 305 ብዛት መውሰድ ለምትፈልጉ በቅናሽ እናስረክባለን ቴሌግራም 21",
         "2025-06-17 11:33:43+00:00",
         "2062"
        ],
        [
         "3",
         "አዳማ ገበያ - Adama gebeya",
         "@gebeyaadama",
         "4490",
         "የቆርቆሮ እና የሮቶ መለጠፊያ",
         "2025-06-16 12:50:45+00:00",
         "2077"
        ],
        [
         "4",
         "አዳማ ገበያ - Adama gebeya",
         "@gebeyaadama",
         "4489",
         "አንደኛ ደረጃ የጎማ ላስትሮ 5 ሜትር ይረዝማል ማንኛውንም ነገር በከፍተኛ ደረጃ ያጣብቃል የተቀደዱ የተበሱ የፍሳሽ ፒቪሲ ቱቦዎችን የውሃ ታንከር ሮቶ ባልዲ በርሜል እና የቤት ቆርቆሮ ዴክራ ጣራዎችን ይደፍናል ቅናሽ አርገናል እስከ 120 ድረስ ከፍተኛ ሙቀት እና እስከ 40 ቅዝቃዜ ይቋቋማል አንዴ የተጠቀሙበት ለ30 አመት ይቆያል ዋጋ 900 ብር ብቻ 0903038388 በቴሌግራም ለማዘዝ 21 አድራሻችን አዳማ ፖስታ ቤት ሶሬቲ ሞል ምድር ላይ ሱ ቁ 33 አዲስአበባ መገናኛ ከዋአች ህንፃ ፊትለፊት ኪኔሬት ሞል 3ተኛ ፎቅ 302 ክፍለሀገር ለምትኖሩ በፖስታ ቤት እንልካለን ይሄንን በመጫን የቤተሰባችን አባል ይሁኑ ያሉበት ድረስ በራሳችን ትራንስፖርት በነፃ እናደርሳለን",
         "2025-06-16 12:50:41+00:00",
         "1909"
        ]
       ],
       "shape": {
        "columns": 6,
        "rows": 5
       }
      },
      "text/html": [
       "<div>\n",
       "<style scoped>\n",
       "    .dataframe tbody tr th:only-of-type {\n",
       "        vertical-align: middle;\n",
       "    }\n",
       "\n",
       "    .dataframe tbody tr th {\n",
       "        vertical-align: top;\n",
       "    }\n",
       "\n",
       "    .dataframe thead th {\n",
       "        text-align: right;\n",
       "    }\n",
       "</style>\n",
       "<table border=\"1\" class=\"dataframe\">\n",
       "  <thead>\n",
       "    <tr style=\"text-align: right;\">\n",
       "      <th></th>\n",
       "      <th>Channel Title</th>\n",
       "      <th>Channel Username</th>\n",
       "      <th>ID</th>\n",
       "      <th>Message</th>\n",
       "      <th>Date</th>\n",
       "      <th>Views</th>\n",
       "    </tr>\n",
       "  </thead>\n",
       "  <tbody>\n",
       "    <tr>\n",
       "      <th>0</th>\n",
       "      <td>አዳማ ገበያ - Adama gebeya</td>\n",
       "      <td>@gebeyaadama</td>\n",
       "      <td>4504</td>\n",
       "      <td>ለመኪናዎ ማጠቢያ አትክልት ለማጠጣት እና ለሌሎችም አገልግሎት የሚሆን ለተ...</td>\n",
       "      <td>2025-06-25 12:02:04+00:00</td>\n",
       "      <td>385</td>\n",
       "    </tr>\n",
       "    <tr>\n",
       "      <th>1</th>\n",
       "      <td>አዳማ ገበያ - Adama gebeya</td>\n",
       "      <td>@gebeyaadama</td>\n",
       "      <td>4497</td>\n",
       "      <td>ኪችንዎን በቅጽበት ውብ ማድረግ ይፈልጋሉ ለኪችንዎ ግርማ ሞገስ ሀርቪ ስቲ...</td>\n",
       "      <td>2025-06-21 11:55:50+00:00</td>\n",
       "      <td>1312</td>\n",
       "    </tr>\n",
       "    <tr>\n",
       "      <th>2</th>\n",
       "      <td>አዳማ ገበያ - Adama gebeya</td>\n",
       "      <td>@gebeyaadama</td>\n",
       "      <td>4492</td>\n",
       "      <td>የማያንሸራትት ዋጋ 650ብር 0910500664 0988981322 091176...</td>\n",
       "      <td>2025-06-17 11:33:43+00:00</td>\n",
       "      <td>2062</td>\n",
       "    </tr>\n",
       "    <tr>\n",
       "      <th>3</th>\n",
       "      <td>አዳማ ገበያ - Adama gebeya</td>\n",
       "      <td>@gebeyaadama</td>\n",
       "      <td>4490</td>\n",
       "      <td>የቆርቆሮ እና የሮቶ መለጠፊያ</td>\n",
       "      <td>2025-06-16 12:50:45+00:00</td>\n",
       "      <td>2077</td>\n",
       "    </tr>\n",
       "    <tr>\n",
       "      <th>4</th>\n",
       "      <td>አዳማ ገበያ - Adama gebeya</td>\n",
       "      <td>@gebeyaadama</td>\n",
       "      <td>4489</td>\n",
       "      <td>አንደኛ ደረጃ የጎማ ላስትሮ 5 ሜትር ይረዝማል ማንኛውንም ነገር በከፍተኛ...</td>\n",
       "      <td>2025-06-16 12:50:41+00:00</td>\n",
       "      <td>1909</td>\n",
       "    </tr>\n",
       "  </tbody>\n",
       "</table>\n",
       "</div>"
      ],
      "text/plain": [
       "            Channel Title Channel Username    ID  \\\n",
       "0  አዳማ ገበያ - Adama gebeya     @gebeyaadama  4504   \n",
       "1  አዳማ ገበያ - Adama gebeya     @gebeyaadama  4497   \n",
       "2  አዳማ ገበያ - Adama gebeya     @gebeyaadama  4492   \n",
       "3  አዳማ ገበያ - Adama gebeya     @gebeyaadama  4490   \n",
       "4  አዳማ ገበያ - Adama gebeya     @gebeyaadama  4489   \n",
       "\n",
       "                                             Message  \\\n",
       "0  ለመኪናዎ ማጠቢያ አትክልት ለማጠጣት እና ለሌሎችም አገልግሎት የሚሆን ለተ...   \n",
       "1  ኪችንዎን በቅጽበት ውብ ማድረግ ይፈልጋሉ ለኪችንዎ ግርማ ሞገስ ሀርቪ ስቲ...   \n",
       "2  የማያንሸራትት ዋጋ 650ብር 0910500664 0988981322 091176...   \n",
       "3                                 የቆርቆሮ እና የሮቶ መለጠፊያ   \n",
       "4  አንደኛ ደረጃ የጎማ ላስትሮ 5 ሜትር ይረዝማል ማንኛውንም ነገር በከፍተኛ...   \n",
       "\n",
       "                        Date  Views  \n",
       "0  2025-06-25 12:02:04+00:00    385  \n",
       "1  2025-06-21 11:55:50+00:00   1312  \n",
       "2  2025-06-17 11:33:43+00:00   2062  \n",
       "3  2025-06-16 12:50:45+00:00   2077  \n",
       "4  2025-06-16 12:50:41+00:00   1909  "
      ]
     },
     "metadata": {},
     "output_type": "display_data"
    },
    {
     "data": {
      "text/plain": [
       "(14721, 6)"
      ]
     },
     "metadata": {},
     "output_type": "display_data"
    }
   ],
   "source": [
    "# Load data\n",
    "labeler = label_data(df_path, output_folder)"
   ]
  },
  {
   "cell_type": "markdown",
   "id": "a209bc9f",
   "metadata": {},
   "source": [
    "# **Label Data**"
   ]
  },
  {
   "cell_type": "code",
   "execution_count": 5,
   "id": "298fbb90",
   "metadata": {},
   "outputs": [
    {
     "name": "stdout",
     "output_type": "stream",
     "text": [
      "\n",
      "Heuristically labeled CoNLL saved to: ..\\data\\ner_amharic_conll.txt\n"
     ]
    }
   ],
   "source": [
    "labeler.generate_conll_sample()"
   ]
  }
 ],
 "metadata": {
  "kernelspec": {
   "display_name": ".amhvenv",
   "language": "python",
   "name": "python3"
  },
  "language_info": {
   "codemirror_mode": {
    "name": "ipython",
    "version": 3
   },
   "file_extension": ".py",
   "mimetype": "text/x-python",
   "name": "python",
   "nbconvert_exporter": "python",
   "pygments_lexer": "ipython3",
   "version": "3.13.3"
  }
 },
 "nbformat": 4,
 "nbformat_minor": 5
}
