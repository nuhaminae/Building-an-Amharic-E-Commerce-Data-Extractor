{
 "cells": [
  {
   "cell_type": "markdown",
   "id": "4623450b",
   "metadata": {},
   "source": [
    "# **Import Modules and Libraries**"
   ]
  },
  {
   "cell_type": "markdown",
   "id": "97f649a5",
   "metadata": {},
   "source": [
    "## *python*"
   ]
  },
  {
   "cell_type": "code",
   "execution_count": 1,
   "id": "231f2215",
   "metadata": {},
   "outputs": [],
   "source": [
    "import os\n",
    "import sys"
   ]
  },
  {
   "cell_type": "markdown",
   "id": "8aa32cd6",
   "metadata": {},
   "source": [
    "## *custom*"
   ]
  },
  {
   "cell_type": "code",
   "execution_count": 2,
   "id": "0e9de1a3",
   "metadata": {},
   "outputs": [],
   "source": [
    "#import customised modules\n",
    "\n",
    "#define path\n",
    "sys.path.append(os.path.abspath(os.path.join('..')))\n",
    "\n",
    "##import relevant modules\n",
    "try:\n",
    "    from scripts._01_1_telegram_scrapper import main\n",
    "    from scripts._01_2_merge_csvs import combine_csvs\n",
    "\n",
    "except ImportError:\n",
    "    print('Could not import module from `scripts/`.')"
   ]
  },
  {
   "cell_type": "markdown",
   "id": "1cb2c2c8",
   "metadata": {},
   "source": [
    "# **Scrap and Save Data**"
   ]
  },
  {
   "cell_type": "code",
   "execution_count": 3,
   "id": "c0f046db",
   "metadata": {},
   "outputs": [
    {
     "name": "stdout",
     "output_type": "stream",
     "text": [
      "\n",
      "Starting Telegram client...\n",
      "Signed in successfully as A; remember to not break the ToS or you will risk an account ban!\n",
      "\n",
      "Telegram client started.\n",
      "\n",
      "Scraping data from @gebeyaadama\n",
      "\n",
      "✓ Finished scraping @gebeyaadama\n",
      "\n",
      "Scraping data from @kuruwear\n",
      "\n",
      "✓ Finished scraping @kuruwear\n",
      "\n",
      "Scraping data from @Leyueqa\n",
      "\n",
      "✓ Finished scraping @Leyueqa\n",
      "\n",
      "Scraping data from @MerttEka\n",
      "\n",
      "✓ Finished scraping @MerttEka\n",
      "\n",
      "Scraping data from @qnashcom\n",
      "\n",
      "✓ Finished scraping @qnashcom\n",
      "\n",
      "Scraping data from @Shewabrand\n",
      "\n",
      "✓ Finished scraping @Shewabrand\n"
     ]
    }
   ],
   "source": [
    "#scrap data\n",
    "await main() "
   ]
  },
  {
   "cell_type": "code",
   "execution_count": 4,
   "id": "933669fe",
   "metadata": {},
   "outputs": [
    {
     "name": "stdout",
     "output_type": "stream",
     "text": [
      "✓ Combined 6 CSVs into ..\\data\\telegram_data.csv\n"
     ]
    }
   ],
   "source": [
    "# Combine CSVs\n",
    "# Define the directory with per-channel CSVs and destination of the concatanted DataFrame.\n",
    "csv_dir = os.path.abspath(os.path.join('..', 'data/raw'))\n",
    "data_dir = os.path.abspath(os.path.join('..', 'data'))\n",
    "\n",
    "combine_csvs (csv_dir, data_dir)"
   ]
  }
 ],
 "metadata": {
  "kernelspec": {
   "display_name": ".amhvenv",
   "language": "python",
   "name": "python3"
  },
  "language_info": {
   "codemirror_mode": {
    "name": "ipython",
    "version": 3
   },
   "file_extension": ".py",
   "mimetype": "text/x-python",
   "name": "python",
   "nbconvert_exporter": "python",
   "pygments_lexer": "ipython3",
   "version": "3.13.3"
  }
 },
 "nbformat": 4,
 "nbformat_minor": 5
}
