{
 "cells": [
  {
   "cell_type": "markdown",
   "id": "ea5a0401",
   "metadata": {},
   "source": [
    "# **Import Modules and Libraries**"
   ]
  },
  {
   "cell_type": "markdown",
   "id": "b3509880",
   "metadata": {},
   "source": [
    "## *python*"
   ]
  },
  {
   "cell_type": "code",
   "execution_count": 1,
   "id": "ef17ddb4",
   "metadata": {},
   "outputs": [],
   "source": [
    "import os,sys\n",
    "import pandas as pd                       "
   ]
  },
  {
   "cell_type": "markdown",
   "id": "355638d1",
   "metadata": {},
   "source": [
    "## *custom*"
   ]
  },
  {
   "cell_type": "code",
   "execution_count": 2,
   "id": "85eea430",
   "metadata": {},
   "outputs": [],
   "source": [
    "#import customised modules\n",
    "\n",
    "#define path\n",
    "sys.path.append(os.path.abspath(os.path.join('..')))\n",
    "\n",
    "##import relevant modules\n",
    "try:\n",
    "    from scripts._05_2_vendor_scorecard import VendorAnalyticsEngine\n",
    "    \n",
    "except ImportError:\n",
    "    print('Could not import module from `scripts/`.')"
   ]
  },
  {
   "cell_type": "markdown",
   "id": "10f491c1",
   "metadata": {},
   "source": [
    "# **Load Enriched CSV**"
   ]
  },
  {
   "cell_type": "code",
   "execution_count": 3,
   "id": "76fa7289",
   "metadata": {},
   "outputs": [],
   "source": [
    "# Define path\n",
    "df_path = os.path.join(os.path.dirname(os.getcwd()), 'data', 'enriched_telegram_data.csv')"
   ]
  },
  {
   "cell_type": "code",
   "execution_count": 4,
   "id": "4c18c6a9",
   "metadata": {},
   "outputs": [
    {
     "data": {
      "application/vnd.microsoft.datawrangler.viewer.v0+json": {
       "columns": [
        {
         "name": "index",
         "rawType": "int64",
         "type": "integer"
        },
        {
         "name": "Channel Title",
         "rawType": "object",
         "type": "string"
        },
        {
         "name": "Channel Username",
         "rawType": "object",
         "type": "string"
        },
        {
         "name": "ID",
         "rawType": "int64",
         "type": "integer"
        },
        {
         "name": "Message",
         "rawType": "object",
         "type": "string"
        },
        {
         "name": "Date",
         "rawType": "object",
         "type": "string"
        },
        {
         "name": "Views",
         "rawType": "int64",
         "type": "integer"
        },
        {
         "name": "NER_Products",
         "rawType": "object",
         "type": "unknown"
        },
        {
         "name": "NER_Prices",
         "rawType": "object",
         "type": "unknown"
        }
       ],
       "ref": "ebcc849d-6884-4cb3-9f52-5100d55ed08c",
       "rows": [
        [
         "0",
         "አዳማ ገበያ - Adama gebeya",
         "@gebeyaadama",
         "4504",
         "ለመኪናዎ ማጠቢያ አትክልት ለማጠጣት እና ለሌሎችም አገልግሎት የሚሆን ለተሽከርካሪ ማጠብ ብቻ ሳይሆን አበቦችን ለማጠጣት ወለሎችን ለማጽዳት እና ግድግዳዎችን ለማጠብ ጭምር ያገለግላል እስከ 15 ሜትር ድረስ በሀይል መርጨት የሚችል እና ቆሻሻን በቀላሉ የሚያጸዳ አጠቃቀሙ ቀላል የሆነ ሊስተካከል የሚችል ኖዜል የ360 ዲግሪ ሽክርክሪት ዲዛይን የውሃ ፍሰት ያለው ዋጋ 1200 ብር 251911762201 251972824252 በቴሌግራም ለማዘዝ 21 አዳማ ፖስታ ቤት ሶሬቲ ሞል ምድር ላይ ሱ ቁ 33 አዲስአበባ መገናኛ ከዋአች ህንፃ ፊትለፊት ኪኔሬት ሞል 3ተኛ ፎቅ 305 ክፍለሀገር ለምትኖሩ በፖስታ ቤት እንልካለን ይሄንን በመጫን የቤተሰባችን አባል ይሁኑ ያሉበት ድረስ በራሳችን ትራንስፖርት እናደርሳለን",
         "2025-06-25 12:02:04+00:00",
         "385",
         "['ኖ']",
         "['ዋጋ', '1200']"
        ],
        [
         "1",
         "አዳማ ገበያ - Adama gebeya",
         "@gebeyaadama",
         "4497",
         "ኪችንዎን በቅጽበት ውብ ማድረግ ይፈልጋሉ ለኪችንዎ ግርማ ሞገስ ሀርቪ ስቲከር ለመሳቢያ ለካቢኔ ለኩሽና ለስላሳ የእንጨት ገጽና ግድግዳ ላይ የሚለጠፍ ማስጌጫ በራሱ የሚጣበቅ ውሃ የማያሳልፍ ሙቀትን እና እርጥበትን የሚቋቋም ለማፅዳት ቀላል የሆነ አንጸባራቂ 605 ያለው ከለር ዋጋ 5 1200 ብር 0903038388 አድራሻችን አዳማ ፖስታ ቤት ሶሬቲ ሞል ምድር ላይ ሱ ቁ 33 አዲስአበባ መገናኛ ከዋአች ህንፃ ፊትለፊት ኪኔሬት ሞል 3ተኛ ፎቅ 302 ብዛት መውሰድ ለምትፈልጉ በቅናሽ እናስረክባለን ቴሌግራም 21",
         "2025-06-21 11:55:50+00:00",
         "1312",
         "['ር', 'ስቲ', 'ሳ', 'ኩ', 'ከ', 'ለ']",
         "['5']"
        ],
        [
         "2",
         "አዳማ ገበያ - Adama gebeya",
         "@gebeyaadama",
         "4492",
         "የማያንሸራትት ዋጋ 650ብር 0910500664 0988981322 0911762201 0911762201 አድራሻችን አዳማ ፖስታ ቤት ሶሬቲ ሞል ምድር ላይ ሱ ቁ 33 አዲስአበባ መገናኛ ከዋአች ህንፃ ፊትለፊት ኪኔሬት ሞል 3ተኛ ፎቅ 305 ብዛት መውሰድ ለምትፈልጉ በቅናሽ እናስረክባለን ቴሌግራም 21",
         "2025-06-17 11:33:43+00:00",
         "2062",
         "['nan']",
         "['650']"
        ],
        [
         "3",
         "አዳማ ገበያ - Adama gebeya",
         "@gebeyaadama",
         "4490",
         "የቆርቆሮ እና የሮቶ መለጠፊያ",
         "2025-06-16 12:50:45+00:00",
         "2077",
         "['ቆር', 'ሮ']",
         "['nan']"
        ],
        [
         "4",
         "አዳማ ገበያ - Adama gebeya",
         "@gebeyaadama",
         "4489",
         "አንደኛ ደረጃ የጎማ ላስትሮ 5 ሜትር ይረዝማል ማንኛውንም ነገር በከፍተኛ ደረጃ ያጣብቃል የተቀደዱ የተበሱ የፍሳሽ ፒቪሲ ቱቦዎችን የውሃ ታንከር ሮቶ ባልዲ በርሜል እና የቤት ቆርቆሮ ዴክራ ጣራዎችን ይደፍናል ቅናሽ አርገናል እስከ 120 ድረስ ከፍተኛ ሙቀት እና እስከ 40 ቅዝቃዜ ይቋቋማል አንዴ የተጠቀሙበት ለ30 አመት ይቆያል ዋጋ 900 ብር ብቻ 0903038388 በቴሌግራም ለማዘዝ 21 አድራሻችን አዳማ ፖስታ ቤት ሶሬቲ ሞል ምድር ላይ ሱ ቁ 33 አዲስአበባ መገናኛ ከዋአች ህንፃ ፊትለፊት ኪኔሬት ሞል 3ተኛ ፎቅ 302 ክፍለሀገር ለምትኖሩ በፖስታ ቤት እንልካለን ይሄንን በመጫን የቤተሰባችን አባል ይሁኑ ያሉበት ድረስ በራሳችን ትራንስፖርት በነፃ እናደርሳለን",
         "2025-06-16 12:50:41+00:00",
         "1909",
         "['የጎ', 'ማ', 'ስት', 'ፍሳሽ', 'ፒ', 'ቱዎችን', 'ታንከር', 'ሮ', 'ዲ', 'ሜ', 'ቆር', 'ዴ', 'ጣ']",
         "['nan']"
        ]
       ],
       "shape": {
        "columns": 8,
        "rows": 5
       }
      },
      "text/html": [
       "<div>\n",
       "<style scoped>\n",
       "    .dataframe tbody tr th:only-of-type {\n",
       "        vertical-align: middle;\n",
       "    }\n",
       "\n",
       "    .dataframe tbody tr th {\n",
       "        vertical-align: top;\n",
       "    }\n",
       "\n",
       "    .dataframe thead th {\n",
       "        text-align: right;\n",
       "    }\n",
       "</style>\n",
       "<table border=\"1\" class=\"dataframe\">\n",
       "  <thead>\n",
       "    <tr style=\"text-align: right;\">\n",
       "      <th></th>\n",
       "      <th>Channel Title</th>\n",
       "      <th>Channel Username</th>\n",
       "      <th>ID</th>\n",
       "      <th>Message</th>\n",
       "      <th>Date</th>\n",
       "      <th>Views</th>\n",
       "      <th>NER_Products</th>\n",
       "      <th>NER_Prices</th>\n",
       "    </tr>\n",
       "  </thead>\n",
       "  <tbody>\n",
       "    <tr>\n",
       "      <th>0</th>\n",
       "      <td>አዳማ ገበያ - Adama gebeya</td>\n",
       "      <td>@gebeyaadama</td>\n",
       "      <td>4504</td>\n",
       "      <td>ለመኪናዎ ማጠቢያ አትክልት ለማጠጣት እና ለሌሎችም አገልግሎት የሚሆን ለተ...</td>\n",
       "      <td>2025-06-25 12:02:04+00:00</td>\n",
       "      <td>385</td>\n",
       "      <td>[ኖ]</td>\n",
       "      <td>[ዋጋ, 1200]</td>\n",
       "    </tr>\n",
       "    <tr>\n",
       "      <th>1</th>\n",
       "      <td>አዳማ ገበያ - Adama gebeya</td>\n",
       "      <td>@gebeyaadama</td>\n",
       "      <td>4497</td>\n",
       "      <td>ኪችንዎን በቅጽበት ውብ ማድረግ ይፈልጋሉ ለኪችንዎ ግርማ ሞገስ ሀርቪ ስቲ...</td>\n",
       "      <td>2025-06-21 11:55:50+00:00</td>\n",
       "      <td>1312</td>\n",
       "      <td>[ር, ስቲ, ሳ, ኩ, ከ, ለ]</td>\n",
       "      <td>[5]</td>\n",
       "    </tr>\n",
       "    <tr>\n",
       "      <th>2</th>\n",
       "      <td>አዳማ ገበያ - Adama gebeya</td>\n",
       "      <td>@gebeyaadama</td>\n",
       "      <td>4492</td>\n",
       "      <td>የማያንሸራትት ዋጋ 650ብር 0910500664 0988981322 091176...</td>\n",
       "      <td>2025-06-17 11:33:43+00:00</td>\n",
       "      <td>2062</td>\n",
       "      <td>[nan]</td>\n",
       "      <td>[650]</td>\n",
       "    </tr>\n",
       "    <tr>\n",
       "      <th>3</th>\n",
       "      <td>አዳማ ገበያ - Adama gebeya</td>\n",
       "      <td>@gebeyaadama</td>\n",
       "      <td>4490</td>\n",
       "      <td>የቆርቆሮ እና የሮቶ መለጠፊያ</td>\n",
       "      <td>2025-06-16 12:50:45+00:00</td>\n",
       "      <td>2077</td>\n",
       "      <td>[ቆር, ሮ]</td>\n",
       "      <td>[nan]</td>\n",
       "    </tr>\n",
       "    <tr>\n",
       "      <th>4</th>\n",
       "      <td>አዳማ ገበያ - Adama gebeya</td>\n",
       "      <td>@gebeyaadama</td>\n",
       "      <td>4489</td>\n",
       "      <td>አንደኛ ደረጃ የጎማ ላስትሮ 5 ሜትር ይረዝማል ማንኛውንም ነገር በከፍተኛ...</td>\n",
       "      <td>2025-06-16 12:50:41+00:00</td>\n",
       "      <td>1909</td>\n",
       "      <td>[የጎ, ማ, ስት, ፍሳሽ, ፒ, ቱዎችን, ታንከር, ሮ, ዲ, ሜ, ቆር, ዴ...</td>\n",
       "      <td>[nan]</td>\n",
       "    </tr>\n",
       "  </tbody>\n",
       "</table>\n",
       "</div>"
      ],
      "text/plain": [
       "            Channel Title Channel Username    ID  \\\n",
       "0  አዳማ ገበያ - Adama gebeya     @gebeyaadama  4504   \n",
       "1  አዳማ ገበያ - Adama gebeya     @gebeyaadama  4497   \n",
       "2  አዳማ ገበያ - Adama gebeya     @gebeyaadama  4492   \n",
       "3  አዳማ ገበያ - Adama gebeya     @gebeyaadama  4490   \n",
       "4  አዳማ ገበያ - Adama gebeya     @gebeyaadama  4489   \n",
       "\n",
       "                                             Message  \\\n",
       "0  ለመኪናዎ ማጠቢያ አትክልት ለማጠጣት እና ለሌሎችም አገልግሎት የሚሆን ለተ...   \n",
       "1  ኪችንዎን በቅጽበት ውብ ማድረግ ይፈልጋሉ ለኪችንዎ ግርማ ሞገስ ሀርቪ ስቲ...   \n",
       "2  የማያንሸራትት ዋጋ 650ብር 0910500664 0988981322 091176...   \n",
       "3                                 የቆርቆሮ እና የሮቶ መለጠፊያ   \n",
       "4  አንደኛ ደረጃ የጎማ ላስትሮ 5 ሜትር ይረዝማል ማንኛውንም ነገር በከፍተኛ...   \n",
       "\n",
       "                        Date  Views  \\\n",
       "0  2025-06-25 12:02:04+00:00    385   \n",
       "1  2025-06-21 11:55:50+00:00   1312   \n",
       "2  2025-06-17 11:33:43+00:00   2062   \n",
       "3  2025-06-16 12:50:45+00:00   2077   \n",
       "4  2025-06-16 12:50:41+00:00   1909   \n",
       "\n",
       "                                        NER_Products  NER_Prices  \n",
       "0                                                [ኖ]  [ዋጋ, 1200]  \n",
       "1                                [ር, ስቲ, ሳ, ኩ, ከ, ለ]         [5]  \n",
       "2                                              [nan]       [650]  \n",
       "3                                            [ቆር, ሮ]       [nan]  \n",
       "4  [የጎ, ማ, ስት, ፍሳሽ, ፒ, ቱዎችን, ታንከር, ሮ, ዲ, ሜ, ቆር, ዴ...       [nan]  "
      ]
     },
     "execution_count": 4,
     "metadata": {},
     "output_type": "execute_result"
    }
   ],
   "source": [
    "# Load DataFrame and clean columns\n",
    "df = pd.read_csv (df_path)\n",
    "\n",
    "# Clean list-like columns using the static method\n",
    "df[\"NER_Products\"] = VendorAnalyticsEngine.clean_list_column(df[\"NER_Products\"])\n",
    "df[\"NER_Prices\"] = VendorAnalyticsEngine.clean_list_column(df[\"NER_Prices\"])\n",
    "\n",
    "# Print head\n",
    "df.head()"
   ]
  },
  {
   "cell_type": "code",
   "execution_count": 5,
   "id": "62f31e7f",
   "metadata": {},
   "outputs": [],
   "source": [
    "# Group vendors by channel name\n",
    "vendor_engines = []\n",
    "vendor_names = []\n",
    "\n",
    "for name, group in df.groupby(\"Channel Username\"):\n",
    "    posts = group.to_dict(\"records\")\n",
    "    engine = VendorAnalyticsEngine(posts)\n",
    "    vendor_engines.append(engine)\n",
    "    vendor_names.append(name)\n"
   ]
  },
  {
   "cell_type": "code",
   "execution_count": 6,
   "id": "ff0db57a",
   "metadata": {},
   "outputs": [
    {
     "name": "stdout",
     "output_type": "stream",
     "text": [
      "\n",
      "Leaderboard successfully saved to: ..\\data\\vendor_scorecard.csv\n",
      "\n",
      "Plot saved to: ..\\scorecard plot\n"
     ]
    },
    {
     "data": {
      "image/png": "[encoded data removed]",
      "text/plain": [
       "<Figure size 1200x600 with 1 Axes>"
      ]
     },
     "metadata": {},
     "output_type": "display_data"
    },
    {
     "data": {
      "application/vnd.microsoft.datawrangler.viewer.v0+json": {
       "columns": [
        {
         "name": "index",
         "rawType": "int64",
         "type": "integer"
        },
        {
         "name": "Vendor",
         "rawType": "object",
         "type": "string"
        },
        {
         "name": "Posts/Week",
         "rawType": "float64",
         "type": "float"
        },
        {
         "name": "Avg Views/Post",
         "rawType": "float64",
         "type": "float"
        },
        {
         "name": "Avg Price (ETB)",
         "rawType": "float64",
         "type": "float"
        },
        {
         "name": "Top Product",
         "rawType": "object",
         "type": "string"
        },
        {
         "name": "Top Price",
         "rawType": "object",
         "type": "string"
        },
        {
         "name": "Top Views",
         "rawType": "int64",
         "type": "integer"
        },
        {
         "name": "Lending Score",
         "rawType": "float64",
         "type": "float"
        }
       ],
       "ref": "2d2a59e5-86b4-4a6b-bbbc-a60f01e3fe09",
       "rows": [
        [
         "0",
         "@kuruwear",
         "3.1780821917808217",
         "5485.2155172413795",
         "351028.5",
         "ጫ",
         "2",
         "13161",
         "72949.26118327823"
        ],
        [
         "1",
         "@Leyueqa",
         "14.253968253968255",
         "42419.268374164814",
         "707.5477166276347",
         "የንዕ",
         "nan",
         "201645",
         "21355.419920884124"
        ],
        [
         "2",
         "@MerttEka",
         "14.943661971830986",
         "25443.007775683316",
         "17561.681177446102",
         "nan",
         "nan",
         "216507",
         "16238.323221922426"
        ],
        [
         "3",
         "@qnashcom",
         "15.0995670995671",
         "24789.553325688074",
         "422.35056713268267",
         "nan",
         "011",
         "236772",
         "12483.776646400443"
        ],
        [
         "4",
         "@gebeyaadama",
         "9.524017467248909",
         "4019.648784961027",
         "23181.89353400223",
         "ቻ",
         "nan",
         "17190",
         "6649.060304521134"
        ],
        [
         "5",
         "@Shewabrand",
         "7.394636015325671",
         "12861.886010362694",
         "133.4374331550802",
         "nan",
         "nan",
         "114819",
         "6459.848882616961"
        ]
       ],
       "shape": {
        "columns": 8,
        "rows": 6
       }
      },
      "text/html": [
       "<div>\n",
       "<style scoped>\n",
       "    .dataframe tbody tr th:only-of-type {\n",
       "        vertical-align: middle;\n",
       "    }\n",
       "\n",
       "    .dataframe tbody tr th {\n",
       "        vertical-align: top;\n",
       "    }\n",
       "\n",
       "    .dataframe thead th {\n",
       "        text-align: right;\n",
       "    }\n",
       "</style>\n",
       "<table border=\"1\" class=\"dataframe\">\n",
       "  <thead>\n",
       "    <tr style=\"text-align: right;\">\n",
       "      <th></th>\n",
       "      <th>Vendor</th>\n",
       "      <th>Posts/Week</th>\n",
       "      <th>Avg Views/Post</th>\n",
       "      <th>Avg Price (ETB)</th>\n",
       "      <th>Top Product</th>\n",
       "      <th>Top Price</th>\n",
       "      <th>Top Views</th>\n",
       "      <th>Lending Score</th>\n",
       "    </tr>\n",
       "  </thead>\n",
       "  <tbody>\n",
       "    <tr>\n",
       "      <th>0</th>\n",
       "      <td>@kuruwear</td>\n",
       "      <td>3.178082</td>\n",
       "      <td>5485.215517</td>\n",
       "      <td>351028.500000</td>\n",
       "      <td>ጫ</td>\n",
       "      <td>2</td>\n",
       "      <td>13161</td>\n",
       "      <td>72949.261183</td>\n",
       "    </tr>\n",
       "    <tr>\n",
       "      <th>1</th>\n",
       "      <td>@Leyueqa</td>\n",
       "      <td>14.253968</td>\n",
       "      <td>42419.268374</td>\n",
       "      <td>707.547717</td>\n",
       "      <td>የንዕ</td>\n",
       "      <td>nan</td>\n",
       "      <td>201645</td>\n",
       "      <td>21355.419921</td>\n",
       "    </tr>\n",
       "    <tr>\n",
       "      <th>2</th>\n",
       "      <td>@MerttEka</td>\n",
       "      <td>14.943662</td>\n",
       "      <td>25443.007776</td>\n",
       "      <td>17561.681177</td>\n",
       "      <td>nan</td>\n",
       "      <td>nan</td>\n",
       "      <td>216507</td>\n",
       "      <td>16238.323222</td>\n",
       "    </tr>\n",
       "    <tr>\n",
       "      <th>3</th>\n",
       "      <td>@qnashcom</td>\n",
       "      <td>15.099567</td>\n",
       "      <td>24789.553326</td>\n",
       "      <td>422.350567</td>\n",
       "      <td>nan</td>\n",
       "      <td>011</td>\n",
       "      <td>236772</td>\n",
       "      <td>12483.776646</td>\n",
       "    </tr>\n",
       "    <tr>\n",
       "      <th>4</th>\n",
       "      <td>@gebeyaadama</td>\n",
       "      <td>9.524017</td>\n",
       "      <td>4019.648785</td>\n",
       "      <td>23181.893534</td>\n",
       "      <td>ቻ</td>\n",
       "      <td>nan</td>\n",
       "      <td>17190</td>\n",
       "      <td>6649.060305</td>\n",
       "    </tr>\n",
       "    <tr>\n",
       "      <th>5</th>\n",
       "      <td>@Shewabrand</td>\n",
       "      <td>7.394636</td>\n",
       "      <td>12861.886010</td>\n",
       "      <td>133.437433</td>\n",
       "      <td>nan</td>\n",
       "      <td>nan</td>\n",
       "      <td>114819</td>\n",
       "      <td>6459.848883</td>\n",
       "    </tr>\n",
       "  </tbody>\n",
       "</table>\n",
       "</div>"
      ],
      "text/plain": [
       "         Vendor  Posts/Week  Avg Views/Post  Avg Price (ETB) Top Product  \\\n",
       "0     @kuruwear    3.178082     5485.215517    351028.500000           ጫ   \n",
       "1      @Leyueqa   14.253968    42419.268374       707.547717         የንዕ   \n",
       "2     @MerttEka   14.943662    25443.007776     17561.681177         nan   \n",
       "3     @qnashcom   15.099567    24789.553326       422.350567         nan   \n",
       "4  @gebeyaadama    9.524017     4019.648785     23181.893534           ቻ   \n",
       "5   @Shewabrand    7.394636    12861.886010       133.437433         nan   \n",
       "\n",
       "  Top Price  Top Views  Lending Score  \n",
       "0         2      13161   72949.261183  \n",
       "1       nan     201645   21355.419921  \n",
       "2       nan     216507   16238.323222  \n",
       "3       011     236772   12483.776646  \n",
       "4       nan      17190    6649.060305  \n",
       "5       nan     114819    6459.848883  "
      ]
     },
     "metadata": {},
     "output_type": "display_data"
    }
   ],
   "source": [
    "# Generate leaderboard\n",
    "\n",
    "leaderboard = VendorAnalyticsEngine.generate_leaderboard(\n",
    "    vendor_engines,\n",
    "    vendor_names=vendor_names,\n",
    "    visualise=True \n",
    ")\n",
    "display (leaderboard)\n"
   ]
  }
 ],
 "metadata": {
  "kernelspec": {
   "display_name": ".amhvenv",
   "language": "python",
   "name": "python3"
  },
  "language_info": {
   "codemirror_mode": {
    "name": "ipython",
    "version": 3
   },
   "file_extension": ".py",
   "mimetype": "text/x-python",
   "name": "python",
   "nbconvert_exporter": "python",
   "pygments_lexer": "ipython3",
   "version": "3.13.3"
  }
 },
 "nbformat": 4,
 "nbformat_minor": 5
}
