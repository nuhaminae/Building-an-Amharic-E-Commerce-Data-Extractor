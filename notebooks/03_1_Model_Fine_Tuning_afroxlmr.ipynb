{
 "cells": [
  {
   "cell_type": "markdown",
   "id": "74bdbf59",
   "metadata": {},
   "source": [
    "# **Import Modules and Libraries**"
   ]
  },
  {
   "cell_type": "markdown",
   "id": "31040dea",
   "metadata": {},
   "source": [
    "## *python*"
   ]
  },
  {
   "cell_type": "code",
   "execution_count": 1,
   "id": "bf10efca",
   "metadata": {},
   "outputs": [],
   "source": [
    "import os\n",
    "import sys"
   ]
  },
  {
   "cell_type": "markdown",
   "id": "5faa4098",
   "metadata": {},
   "source": [
    "## *custom*"
   ]
  },
  {
   "cell_type": "code",
   "execution_count": 2,
   "id": "639be25c",
   "metadata": {},
   "outputs": [],
   "source": [
    "#import customised modules\n",
    "\n",
    "#define path\n",
    "sys.path.append(os.path.abspath(os.path.join('..')))\n",
    "\n",
    "##import relevant modules\n",
    "try:\n",
    "    from scripts._03_1_fine_tuning_afroxlmr import afroxlmr_Amharic_NER_fine_tuner\n",
    "\n",
    "except ImportError:\n",
    "    print('Could not import module from `scripts/`.')"
   ]
  },
  {
   "cell_type": "markdown",
   "id": "c3250ec9",
   "metadata": {},
   "source": [
    "# **afroxlmr-large-ner-masakhaner-1.0_2.0**"
   ]
  },
  {
   "cell_type": "code",
   "execution_count": 3,
   "id": "8694d0a4",
   "metadata": {},
   "outputs": [
    {
     "name": "stdout",
     "output_type": "stream",
     "text": [
      "Initialising afroxlmr_Amharic_NER_fine_tuner...\n",
      "\n",
      "Initialisation complete.\n",
      "\n",
      "Loading and preparing data...\n",
      "\n",
      "Loading data from ..\\data\\ner_amharic_conll.txt...\n",
      "\n",
      "Loaded 40 examples.\n",
      "\n",
      "Data loaded and processed.\n",
      "\n",
      "Dataset created and split into train/test.\n"
     ]
    },
    {
     "data": {
      "application/vnd.jupyter.widget-view+json": {
       "model_id": "b958e9f4b3d34243b5c8e08362cf1310",
       "version_major": 2,
       "version_minor": 0
      },
      "text/plain": [
       "Map:   0%|          | 0/32 [00:00<?, ? examples/s]"
      ]
     },
     "metadata": {},
     "output_type": "display_data"
    },
    {
     "data": {
      "application/vnd.jupyter.widget-view+json": {
       "model_id": "7ad910a133a247128d2da2c9e975eecf",
       "version_major": 2,
       "version_minor": 0
      },
      "text/plain": [
       "Map:   0%|          | 0/8 [00:00<?, ? examples/s]"
      ]
     },
     "metadata": {},
     "output_type": "display_data"
    },
    {
     "name": "stdout",
     "output_type": "stream",
     "text": [
      "\n",
      "Dataset tokenized and aligned.\n",
      "\n",
      "Setting up Trainer...\n"
     ]
    },
    {
     "name": "stderr",
     "output_type": "stream",
     "text": [
      "Some weights of XLMRobertaForTokenClassification were not initialized from the model checkpoint at masakhane/afroxlmr-large-ner-masakhaner-1.0_2.0 and are newly initialized because the shapes did not match:\n",
      "- classifier.bias: found shape torch.Size([9]) in the checkpoint and torch.Size([8]) in the model instantiated\n",
      "- classifier.weight: found shape torch.Size([9, 1024]) in the checkpoint and torch.Size([8, 1024]) in the model instantiated\n",
      "You should probably TRAIN this model on a down-stream task to be able to use it for predictions and inference.\n"
     ]
    },
    {
     "name": "stdout",
     "output_type": "stream",
     "text": [
      "\n",
      "Model loaded and configured.\n",
      "\n",
      "Training arguments set.\n",
      "\n",
      "Trainer initialised.\n",
      "\n",
      "Starting training...\n"
     ]
    },
    {
     "data": {
      "text/html": [
       "\n",
       "    <div>\n",
       "      \n",
       "      <progress value='40' max='40' style='width:300px; height:20px; vertical-align: middle;'></progress>\n",
       "      [40/40 30:36, Epoch 10/10]\n",
       "    </div>\n",
       "    <table border=\"1\" class=\"dataframe\">\n",
       "  <thead>\n",
       " <tr style=\"text-align: left;\">\n",
       "      <th>Epoch</th>\n",
       "      <th>Training Loss</th>\n",
       "      <th>Validation Loss</th>\n",
       "      <th>Loc</th>\n",
       "      <th>Phone</th>\n",
       "      <th>Price</th>\n",
       "      <th>Product</th>\n",
       "      <th>Micro avg</th>\n",
       "      <th>Macro avg</th>\n",
       "      <th>Weighted avg</th>\n",
       "    </tr>\n",
       "  </thead>\n",
       "  <tbody>\n",
       "    <tr>\n",
       "      <td>1</td>\n",
       "      <td>1.792900</td>\n",
       "      <td>1.419934</td>\n",
       "      <td>{'precision': 0.07407407407407407, 'recall': 0.034482758620689655, 'f1-score': 0.047058823529411764, 'support': 58}</td>\n",
       "      <td>{'precision': 0.0, 'recall': 0.0, 'f1-score': 0.0, 'support': 86}</td>\n",
       "      <td>{'precision': 0.0, 'recall': 0.0, 'f1-score': 0.0, 'support': 74}</td>\n",
       "      <td>{'precision': 0.0, 'recall': 0.0, 'f1-score': 0.0, 'support': 51}</td>\n",
       "      <td>{'precision': 0.07142857142857142, 'recall': 0.007434944237918215, 'f1-score': 0.01346801346801347, 'support': 269}</td>\n",
       "      <td>{'precision': 0.018518518518518517, 'recall': 0.008620689655172414, 'f1-score': 0.011764705882352941, 'support': 269}</td>\n",
       "      <td>{'precision': 0.015971361696268758, 'recall': 0.007434944237918215, 'f1-score': 0.010146512136453095, 'support': 269}</td>\n",
       "    </tr>\n",
       "    <tr>\n",
       "      <td>2</td>\n",
       "      <td>1.356000</td>\n",
       "      <td>1.193841</td>\n",
       "      <td>{'precision': 0.05263157894736842, 'recall': 0.017241379310344827, 'f1-score': 0.025974025974025972, 'support': 58}</td>\n",
       "      <td>{'precision': 1.0, 'recall': 0.6976744186046512, 'f1-score': 0.8219178082191781, 'support': 86}</td>\n",
       "      <td>{'precision': 0.0, 'recall': 0.0, 'f1-score': 0.0, 'support': 74}</td>\n",
       "      <td>{'precision': 0.0, 'recall': 0.0, 'f1-score': 0.0, 'support': 51}</td>\n",
       "      <td>{'precision': 0.7721518987341772, 'recall': 0.22676579925650558, 'f1-score': 0.3505747126436782, 'support': 269}</td>\n",
       "      <td>{'precision': 0.2631578947368421, 'recall': 0.178728949478749, 'f1-score': 0.21197295854830103, 'support': 269}</td>\n",
       "      <td>{'precision': 0.3310506750146742, 'recall': 0.22676579925650558, 'f1-score': 0.26836960971502916, 'support': 269}</td>\n",
       "    </tr>\n",
       "    <tr>\n",
       "      <td>3</td>\n",
       "      <td>1.130100</td>\n",
       "      <td>1.049743</td>\n",
       "      <td>{'precision': 0.058823529411764705, 'recall': 0.017241379310344827, 'f1-score': 0.02666666666666667, 'support': 58}</td>\n",
       "      <td>{'precision': 0.9347826086956522, 'recall': 1.0, 'f1-score': 0.9662921348314606, 'support': 86}</td>\n",
       "      <td>{'precision': 0.47368421052631576, 'recall': 0.12162162162162163, 'f1-score': 0.1935483870967742, 'support': 74}</td>\n",
       "      <td>{'precision': 0.0, 'recall': 0.0, 'f1-score': 0.0, 'support': 51}</td>\n",
       "      <td>{'precision': 0.75, 'recall': 0.35687732342007433, 'f1-score': 0.48362720403022663, 'support': 269}</td>\n",
       "      <td>{'precision': 0.3668225871584332, 'recall': 0.2847157502329916, 'f1-score': 0.29662679714872536, 'support': 269}</td>\n",
       "      <td>{'precision': 0.4418427532812484, 'recall': 0.35687732342007433, 'f1-score': 0.36791959445105415, 'support': 269}</td>\n",
       "    </tr>\n",
       "    <tr>\n",
       "      <td>4</td>\n",
       "      <td>1.001800</td>\n",
       "      <td>0.962670</td>\n",
       "      <td>{'precision': 0.05555555555555555, 'recall': 0.017241379310344827, 'f1-score': 0.02631578947368421, 'support': 58}</td>\n",
       "      <td>{'precision': 1.0, 'recall': 1.0, 'f1-score': 1.0, 'support': 86}</td>\n",
       "      <td>{'precision': 0.5555555555555556, 'recall': 0.2702702702702703, 'f1-score': 0.36363636363636365, 'support': 74}</td>\n",
       "      <td>{'precision': 0.0, 'recall': 0.0, 'f1-score': 0.0, 'support': 51}</td>\n",
       "      <td>{'precision': 0.7642857142857142, 'recall': 0.39776951672862454, 'f1-score': 0.5232273838630807, 'support': 269}</td>\n",
       "      <td>{'precision': 0.4027777777777778, 'recall': 0.32187791239515373, 'f1-score': 0.34748803827751196, 'support': 269}</td>\n",
       "      <td>{'precision': 0.4845105328376704, 'recall': 0.39776951672862454, 'f1-score': 0.4254104338236602, 'support': 269}</td>\n",
       "    </tr>\n",
       "    <tr>\n",
       "      <td>5</td>\n",
       "      <td>0.895100</td>\n",
       "      <td>0.900815</td>\n",
       "      <td>{'precision': 0.2, 'recall': 0.06896551724137931, 'f1-score': 0.10256410256410257, 'support': 58}</td>\n",
       "      <td>{'precision': 1.0, 'recall': 1.0, 'f1-score': 1.0, 'support': 86}</td>\n",
       "      <td>{'precision': 0.6785714285714286, 'recall': 0.5135135135135135, 'f1-score': 0.5846153846153848, 'support': 74}</td>\n",
       "      <td>{'precision': 1.0, 'recall': 0.0196078431372549, 'f1-score': 0.038461538461538464, 'support': 51}</td>\n",
       "      <td>{'precision': 0.7914110429447853, 'recall': 0.4795539033457249, 'f1-score': 0.5972222222222222, 'support': 269}</td>\n",
       "      <td>{'precision': 0.7196428571428571, 'recall': 0.40052171847303686, 'f1-score': 0.4314102564102565, 'support': 269}</td>\n",
       "      <td>{'precision': 0.7390865639936272, 'recall': 0.4795539033457249, 'f1-score': 0.5099323229434753, 'support': 269}</td>\n",
       "    </tr>\n",
       "    <tr>\n",
       "      <td>6</td>\n",
       "      <td>0.851400</td>\n",
       "      <td>0.864112</td>\n",
       "      <td>{'precision': 0.5277777777777778, 'recall': 0.3275862068965517, 'f1-score': 0.40425531914893614, 'support': 58}</td>\n",
       "      <td>{'precision': 1.0, 'recall': 1.0, 'f1-score': 1.0, 'support': 86}</td>\n",
       "      <td>{'precision': 0.7058823529411765, 'recall': 0.6486486486486487, 'f1-score': 0.676056338028169, 'support': 74}</td>\n",
       "      <td>{'precision': 0.5, 'recall': 0.0392156862745098, 'f1-score': 0.07272727272727272, 'support': 51}</td>\n",
       "      <td>{'precision': 0.7989690721649485, 'recall': 0.5762081784386617, 'f1-score': 0.6695464362850971, 'support': 269}</td>\n",
       "      <td>{'precision': 0.6834150326797386, 'recall': 0.5038626354549275, 'f1-score': 0.5382597324760945, 'support': 269}</td>\n",
       "      <td>{'precision': 0.7224773428578372, 'recall': 0.5762081784386617, 'f1-score': 0.6066322246610175, 'support': 269}</td>\n",
       "    </tr>\n",
       "    <tr>\n",
       "      <td>7</td>\n",
       "      <td>0.801800</td>\n",
       "      <td>0.856911</td>\n",
       "      <td>{'precision': 0.575, 'recall': 0.39655172413793105, 'f1-score': 0.46938775510204084, 'support': 58}</td>\n",
       "      <td>{'precision': 1.0, 'recall': 1.0, 'f1-score': 1.0, 'support': 86}</td>\n",
       "      <td>{'precision': 0.8412698412698413, 'recall': 0.7162162162162162, 'f1-score': 0.7737226277372262, 'support': 74}</td>\n",
       "      <td>{'precision': 1.0, 'recall': 0.0392156862745098, 'f1-score': 0.07547169811320754, 'support': 51}</td>\n",
       "      <td>{'precision': 0.8586387434554974, 'recall': 0.6096654275092936, 'f1-score': 0.7130434782608696, 'support': 269}</td>\n",
       "      <td>{'precision': 0.8540674603174603, 'recall': 0.5379959066571642, 'f1-score': 0.5796455202381187, 'support': 269}</td>\n",
       "      <td>{'precision': 0.8646987667433764, 'recall': 0.6096654275092936, 'f1-score': 0.6480632745436681, 'support': 269}</td>\n",
       "    </tr>\n",
       "    <tr>\n",
       "      <td>8</td>\n",
       "      <td>0.772200</td>\n",
       "      <td>0.840119</td>\n",
       "      <td>{'precision': 0.5714285714285714, 'recall': 0.41379310344827586, 'f1-score': 0.48000000000000004, 'support': 58}</td>\n",
       "      <td>{'precision': 1.0, 'recall': 1.0, 'f1-score': 1.0, 'support': 86}</td>\n",
       "      <td>{'precision': 0.8709677419354839, 'recall': 0.7297297297297297, 'f1-score': 0.7941176470588235, 'support': 74}</td>\n",
       "      <td>{'precision': 0.5, 'recall': 0.058823529411764705, 'f1-score': 0.10526315789473684, 'support': 51}</td>\n",
       "      <td>{'precision': 0.8520408163265306, 'recall': 0.620817843866171, 'f1-score': 0.7182795698924731, 'support': 269}</td>\n",
       "      <td>{'precision': 0.7355990783410138, 'recall': 0.5505865906474425, 'f1-score': 0.59484520123839, 'support': 269}</td>\n",
       "      <td>{'precision': 0.7773028626248437, 'recall': 0.620817843866171, 'f1-score': 0.6616101373047751, 'support': 269}</td>\n",
       "    </tr>\n",
       "    <tr>\n",
       "      <td>9</td>\n",
       "      <td>0.754700</td>\n",
       "      <td>0.831450</td>\n",
       "      <td>{'precision': 0.5581395348837209, 'recall': 0.41379310344827586, 'f1-score': 0.4752475247524752, 'support': 58}</td>\n",
       "      <td>{'precision': 1.0, 'recall': 1.0, 'f1-score': 1.0, 'support': 86}</td>\n",
       "      <td>{'precision': 0.8833333333333333, 'recall': 0.7162162162162162, 'f1-score': 0.791044776119403, 'support': 74}</td>\n",
       "      <td>{'precision': 0.5294117647058824, 'recall': 0.17647058823529413, 'f1-score': 0.2647058823529412, 'support': 51}</td>\n",
       "      <td>{'precision': 0.8349514563106796, 'recall': 0.6394052044609665, 'f1-score': 0.7242105263157894, 'support': 269}</td>\n",
       "      <td>{'precision': 0.7427211582307341, 'recall': 0.5766199769749465, 'f1-score': 0.6327495458062049, 'support': 269}</td>\n",
       "      <td>{'precision': 0.7834154635313103, 'recall': 0.6394052044609665, 'f1-score': 0.6899690329683248, 'support': 269}</td>\n",
       "    </tr>\n",
       "    <tr>\n",
       "      <td>10</td>\n",
       "      <td>0.753700</td>\n",
       "      <td>0.828809</td>\n",
       "      <td>{'precision': 0.5581395348837209, 'recall': 0.41379310344827586, 'f1-score': 0.4752475247524752, 'support': 58}</td>\n",
       "      <td>{'precision': 1.0, 'recall': 1.0, 'f1-score': 1.0, 'support': 86}</td>\n",
       "      <td>{'precision': 0.8833333333333333, 'recall': 0.7162162162162162, 'f1-score': 0.791044776119403, 'support': 74}</td>\n",
       "      <td>{'precision': 0.45, 'recall': 0.17647058823529413, 'f1-score': 0.25352112676056343, 'support': 51}</td>\n",
       "      <td>{'precision': 0.8229665071770335, 'recall': 0.6394052044609665, 'f1-score': 0.7196652719665271, 'support': 269}</td>\n",
       "      <td>{'precision': 0.7228682170542636, 'recall': 0.5766199769749465, 'f1-score': 0.6299533569081105, 'support': 269}</td>\n",
       "      <td>{'precision': 0.7683597014495258, 'recall': 0.6394052044609665, 'f1-score': 0.687848503097651, 'support': 269}</td>\n",
       "    </tr>\n",
       "  </tbody>\n",
       "</table><p>"
      ],
      "text/plain": [
       "<IPython.core.display.HTML object>"
      ]
     },
     "metadata": {},
     "output_type": "display_data"
    },
    {
     "name": "stdout",
     "output_type": "stream",
     "text": [
      "Training complete.\n",
      "\n",
      "Saving model...\n",
      "Model saved.\n",
      "\n",
      "Training complete and model saved.\n",
      "\n",
      "Evaluating model...\n"
     ]
    },
    {
     "data": {
      "text/html": [
       "\n",
       "    <div>\n",
       "      \n",
       "      <progress value='1' max='1' style='width:300px; height:20px; vertical-align: middle;'></progress>\n",
       "      [1/1 : < :]\n",
       "    </div>\n",
       "    "
      ],
      "text/plain": [
       "<IPython.core.display.HTML object>"
      ]
     },
     "metadata": {},
     "output_type": "display_data"
    },
    {
     "name": "stdout",
     "output_type": "stream",
     "text": [
      "\n",
      "Evaluation complete.\n",
      "\n",
      "Eval Loss: 0.8288\n",
      "Per-Entity Performance:\n",
      "  • LOC        | P:  55.8%  R:  41.4%  F1:  47.5%  (Support: 58)\n",
      "  • PHONE      | P: 100.0%  R: 100.0%  F1: 100.0%  (Support: 86)\n",
      "  • PRICE      | P:  88.3%  R:  71.6%  F1:  79.1%  (Support: 74)\n",
      "  • PRODUCT    | P:  45.0%  R:  17.6%  F1:  25.4%  (Support: 51)\n",
      "  • micro avg  | P:  82.3%  R:  63.9%  F1:  72.0%  (Support: 269)\n",
      "  • macro avg  | P:  72.3%  R:  57.7%  F1:  63.0%  (Support: 269)\n",
      "  • weighted avg | P:  76.8%  R:  63.9%  F1:  68.8%  (Support: 269)\n",
      "\n",
      "📦 Runtime Info:\n",
      "  - Runtime: 4.38s\n",
      "  - Samples/sec: 1.8\n",
      "  - Epoch: 10.0\n"
     ]
    },
    {
     "data": {
      "text/plain": [
       "{'eval_loss': 0.8288091421127319,\n",
       " 'eval_LOC': {'precision': 0.5581395348837209,\n",
       "  'recall': 0.41379310344827586,\n",
       "  'f1-score': 0.4752475247524752,\n",
       "  'support': 58},\n",
       " 'eval_PHONE': {'precision': 1.0,\n",
       "  'recall': 1.0,\n",
       "  'f1-score': 1.0,\n",
       "  'support': 86},\n",
       " 'eval_PRICE': {'precision': 0.8833333333333333,\n",
       "  'recall': 0.7162162162162162,\n",
       "  'f1-score': 0.791044776119403,\n",
       "  'support': 74},\n",
       " 'eval_PRODUCT': {'precision': 0.45,\n",
       "  'recall': 0.17647058823529413,\n",
       "  'f1-score': 0.25352112676056343,\n",
       "  'support': 51},\n",
       " 'eval_micro avg': {'precision': 0.8229665071770335,\n",
       "  'recall': 0.6394052044609665,\n",
       "  'f1-score': 0.7196652719665271,\n",
       "  'support': 269},\n",
       " 'eval_macro avg': {'precision': 0.7228682170542636,\n",
       "  'recall': 0.5766199769749465,\n",
       "  'f1-score': 0.6299533569081105,\n",
       "  'support': 269},\n",
       " 'eval_weighted avg': {'precision': 0.7683597014495258,\n",
       "  'recall': 0.6394052044609665,\n",
       "  'f1-score': 0.687848503097651,\n",
       "  'support': 269},\n",
       " 'eval_runtime': 4.381,\n",
       " 'eval_samples_per_second': 1.826,\n",
       " 'eval_steps_per_second': 0.228,\n",
       " 'epoch': 10.0}"
      ]
     },
     "execution_count": 3,
     "metadata": {},
     "output_type": "execute_result"
    }
   ],
   "source": [
    "# Define paths and model\n",
    "conll_path = os.path.join(os.path.dirname(os.getcwd()), 'data', 'ner_amharic_conll.txt')\n",
    "output_dir = os.path.join(os.path.dirname(os.getcwd()), 'models', 'afroxlmr')\n",
    "model_checkpoint= \"masakhane/afroxlmr-large-ner-masakhaner-1.0_2.0\"\n",
    "\n",
    "# Load trainer\n",
    "trainer = afroxlmr_Amharic_NER_fine_tuner(conll_path, model_checkpoint, output_dir)\n",
    "\n",
    "# Train \n",
    "trainer.train()\n",
    "\n",
    "# Evaluate \n",
    "trainer.evaluate()"
   ]
  }
 ],
 "metadata": {
  "kernelspec": {
   "display_name": ".amhvenv",
   "language": "python",
   "name": "python3"
  },
  "language_info": {
   "codemirror_mode": {
    "name": "ipython",
    "version": 3
   },
   "file_extension": ".py",
   "mimetype": "text/x-python",
   "name": "python",
   "nbconvert_exporter": "python",
   "pygments_lexer": "ipython3",
   "version": "3.13.3"
  }
 },
 "nbformat": 4,
 "nbformat_minor": 5
}
