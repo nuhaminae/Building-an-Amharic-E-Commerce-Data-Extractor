{
 "cells": [
  {
   "cell_type": "markdown",
   "id": "74bdbf59",
   "metadata": {},
   "source": [
    "# **Import Modules and Libraries**"
   ]
  },
  {
   "cell_type": "markdown",
   "id": "31040dea",
   "metadata": {},
   "source": [
    "## *python*"
   ]
  },
  {
   "cell_type": "code",
   "execution_count": 1,
   "id": "bf10efca",
   "metadata": {},
   "outputs": [],
   "source": [
    "import os\n",
    "import sys"
   ]
  },
  {
   "cell_type": "markdown",
   "id": "5faa4098",
   "metadata": {},
   "source": [
    "## *custom*"
   ]
  },
  {
   "cell_type": "code",
   "execution_count": null,
   "id": "639be25c",
   "metadata": {},
   "outputs": [],
   "source": [
    "#import customised modules\n",
    "\n",
    "#define path\n",
    "sys.path.append(os.path.abspath(os.path.join('..')))\n",
    "\n",
    "##import relevant modules\n",
    "try:\n",
    "    from scripts._03_1_fine_tuning_afroxlmr import afroxlmrAmharicNERFineTuner\n",
    "\n",
    "except ImportError:\n",
    "    print('Could not import module from `scripts/`.')"
   ]
  },
  {
   "cell_type": "markdown",
   "id": "c3250ec9",
   "metadata": {},
   "source": [
    "# **afroxlmr-large-ner-masakhaner-1.0_2.0**"
   ]
  },
  {
   "cell_type": "code",
   "execution_count": null,
   "id": "44d01388",
   "metadata": {},
   "outputs": [
    {
     "name": "stdout",
     "output_type": "stream",
     "text": [
      "Initialising afroxlmr_Amharic_NER_fine_tuner...\n",
      "\n",
      "Initialisation complete.\n"
     ]
    }
   ],
   "source": [
    "# Define paths and model\n",
    "conll_path = os.path.join(os.path.dirname(os.getcwd()), 'data', 'ner_amharic_conll.txt')\n",
    "output_dir = os.path.join(os.path.dirname(os.getcwd()), 'models', 'afroxlmr')\n",
    "model_checkpoint= \"masakhane/afroxlmr-large-ner-masakhaner-1.0_2.0\"\n",
    "\n",
    "# Load trainer\n",
    "trainer = afroxlmrAmharicNERFineTuner(conll_path, model_checkpoint, output_dir)"
   ]
  },
  {
   "cell_type": "code",
   "execution_count": 4,
   "id": "8694d0a4",
   "metadata": {},
   "outputs": [
    {
     "name": "stdout",
     "output_type": "stream",
     "text": [
      "\n",
      "Loading and preparing data...\n",
      "\n",
      "Loading data from ..\\data\\ner_amharic_conll.txt...\n",
      "\n",
      "Loaded 40 examples.\n",
      "\n",
      "Data loaded and processed.\n",
      "\n",
      "Dataset created and split into train/test.\n"
     ]
    },
    {
     "data": {
      "application/vnd.jupyter.widget-view+json": {
       "model_id": "ad8be56db3f645d3b7933b095c692906",
       "version_major": 2,
       "version_minor": 0
      },
      "text/plain": [
       "Map:   0%|          | 0/32 [00:00<?, ? examples/s]"
      ]
     },
     "metadata": {},
     "output_type": "display_data"
    },
    {
     "data": {
      "application/vnd.jupyter.widget-view+json": {
       "model_id": "166887bc61044988a341665596ac0ce0",
       "version_major": 2,
       "version_minor": 0
      },
      "text/plain": [
       "Map:   0%|          | 0/8 [00:00<?, ? examples/s]"
      ]
     },
     "metadata": {},
     "output_type": "display_data"
    },
    {
     "name": "stdout",
     "output_type": "stream",
     "text": [
      "\n",
      "Dataset tokenized and aligned.\n",
      "{'tokens': ['1', '2', 'ሊትር', 'ተነቃይ', 'ጆግ', 'የሃይል', 'መቆጣጠሪያ', 'ቴርሞስታት', 'ተገጥሞለታል', '1500', 'ሃይል', 'የሚጠቀም', '1800', 'ብር', '0944222324', '0904944848', 'ከ100200', 'ብር', 'ብቻ', 'ከፍለው', 'አዲስ', 'አበባ', 'ውስጥ', 'ካሉበት', 'እንልካለን', 'አድራሻችን', 'መገናኛ', 'ዘፍመሽ', 'ግራንድ', 'ሞል', '3ኛ', 'ፎቅ', 'ከሊፍት', 'ሲወርዱ', 'ወደ', 'ቀኝ', 'ታጥፈው', 'ቀጥታ', '376', 'በኪስዎ', 'ጥሬ', 'ገንዘብ', 'ካልያዙ', 'በሞባይል', 'ማስተላለፍ', 'ይችላሉ', 'ካሉበት', 'ሆነው', 'ለማዘዝ', 'ምርጫዎን', 'በዚህ', 'ይላኩልን', '1', '2'], 'labels': [-100, 7, 7, 7, 7, 3, 3, 3, 6, 6, 6, 7, 7, 7, 7, 7, 7, 7, 3, 3, 3, 3, 3, 3, 7, 7, 7, 7, 7, 2, 7, 7, 7, 2, 5, 1, 1, 1, 1, 1, 1, 1, 1, 1, 2, 2, 2, 5, 5, 7, 7, 0, 4, 4, 7, 7, 7, 7, 7, 7, 7, 7, 0, 0, 0, 4, 4, 4, 4, 4, 4, 4, 4, 4, 4, 4, 4, 4, 4, 7, 7, 7, 7, 7, 7, 0, 4, 4, 4, 4, 4, 4, 4, 4, 4, 4, 7, 7, 7, 7, 7, 7, 7, 7, 7, 7, 7, 7, 7, 7, 7, 7, 7, 7, 7, 7, 7, 7, 7, 7, 7, 7, 7, 7, 7, -100], 'input_ids': [0, 106, 116, 10085, 116946, 148101, 6550, 3841, 6, 51961, 4799, 623, 99131, 2202, 167607, 6970, 6839, 20906, 6, 17680, 2010, 13357, 46945, 1437, 121620, 7080, 13357, 3008, 54667, 17551, 204458, 2627, 136758, 51374, 35648, 3894, 161041, 304, 3742, 2357, 3894, 7709, 203262, 195586, 1464, 3559, 5955, 35648, 15560, 82591, 13818, 21038, 19202, 5405, 227395, 4088, 15232, 2202, 6393, 37327, 140042, 23374, 2370, 60014, 9171, 19104, 4722, 6231, 9911, 6, 70317, 58947, 45694, 2202, 138, 9171, 6, 31531, 5653, 1464, 12354, 48064, 6021, 109178, 16802, 5156, 6, 203364, 23869, 7080, 59876, 6, 98890, 3348, 138, 11835, 728, 29654, 2095, 29597, 28663, 13199, 81649, 96768, 132795, 728, 182983, 49139, 184647, 94164, 227395, 4088, 104273, 13253, 9039, 7872, 66453, 152806, 22708, 2934, 4712, 9878, 48440, 106, 116, 2], 'attention_mask': [1, 1, 1, 1, 1, 1, 1, 1, 1, 1, 1, 1, 1, 1, 1, 1, 1, 1, 1, 1, 1, 1, 1, 1, 1, 1, 1, 1, 1, 1, 1, 1, 1, 1, 1, 1, 1, 1, 1, 1, 1, 1, 1, 1, 1, 1, 1, 1, 1, 1, 1, 1, 1, 1, 1, 1, 1, 1, 1, 1, 1, 1, 1, 1, 1, 1, 1, 1, 1, 1, 1, 1, 1, 1, 1, 1, 1, 1, 1, 1, 1, 1, 1, 1, 1, 1, 1, 1, 1, 1, 1, 1, 1, 1, 1, 1, 1, 1, 1, 1, 1, 1, 1, 1, 1, 1, 1, 1, 1, 1, 1, 1, 1, 1, 1, 1, 1, 1, 1, 1, 1, 1, 1, 1, 1, 1], 'offset_mapping': [[0, 0], [0, 1], [0, 1], [0, 1], [1, 3], [0, 2], [2, 3], [3, 4], [0, 1], [0, 1], [1, 2], [0, 1], [1, 3], [3, 4], [0, 2], [2, 3], [3, 4], [4, 6], [0, 1], [0, 1], [1, 2], [2, 3], [3, 5], [5, 6], [0, 2], [2, 3], [3, 4], [4, 5], [5, 7], [0, 4], [0, 3], [0, 2], [2, 5], [0, 4], [0, 2], [0, 2], [2, 5], [5, 6], [6, 8], [8, 10], [0, 2], [2, 4], [4, 7], [7, 10], [0, 1], [1, 4], [4, 7], [0, 2], [0, 2], [0, 2], [2, 4], [0, 3], [0, 3], [0, 3], [0, 2], [2, 4], [0, 2], [2, 3], [3, 4], [4, 6], [0, 4], [4, 6], [0, 1], [1, 3], [3, 4], [0, 1], [1, 2], [2, 3], [3, 4], [0, 1], [0, 2], [2, 4], [0, 1], [1, 2], [0, 1], [1, 2], [0, 1], [0, 1], [1, 2], [0, 1], [1, 2], [2, 4], [0, 1], [1, 3], [3, 4], [0, 2], [0, 1], [0, 2], [0, 1], [1, 2], [2, 4], [0, 1], [0, 2], [2, 3], [0, 1], [1, 3], [0, 1], [1, 2], [2, 3], [3, 4], [0, 1], [1, 2], [0, 4], [0, 2], [2, 4], [0, 1], [1, 5], [0, 2], [2, 6], [0, 4], [0, 2], [2, 4], [0, 3], [0, 2], [2, 3], [3, 4], [0, 3], [3, 5], [0, 3], [0, 1], [1, 2], [2, 3], [3, 5], [0, 1], [0, 1], [0, 0]]}\n",
      "\n",
      "Label coverage: 3748/3812 (98.32%)\n",
      "\n",
      "Setting up Trainer...\n"
     ]
    },
    {
     "name": "stderr",
     "output_type": "stream",
     "text": [
      "Some weights of XLMRobertaForTokenClassification were not initialized from the model checkpoint at masakhane/afroxlmr-large-ner-masakhaner-1.0_2.0 and are newly initialized because the shapes did not match:\n",
      "- classifier.bias: found shape torch.Size([9]) in the checkpoint and torch.Size([8]) in the model instantiated\n",
      "- classifier.weight: found shape torch.Size([9, 1024]) in the checkpoint and torch.Size([8, 1024]) in the model instantiated\n",
      "You should probably TRAIN this model on a down-stream task to be able to use it for predictions and inference.\n"
     ]
    },
    {
     "name": "stdout",
     "output_type": "stream",
     "text": [
      "\n",
      "Model loaded and configured.\n",
      "\n",
      "Training arguments set.\n",
      "\n",
      "Trainer initialised.\n",
      "\n",
      "Starting training...\n"
     ]
    },
    {
     "data": {
      "text/html": [
       "\n",
       "    <div>\n",
       "      \n",
       "      <progress value='60' max='60' style='width:300px; height:20px; vertical-align: middle;'></progress>\n",
       "      [60/60 45:58, Epoch 15/15]\n",
       "    </div>\n",
       "    <table border=\"1\" class=\"dataframe\">\n",
       "  <thead>\n",
       " <tr style=\"text-align: left;\">\n",
       "      <th>Epoch</th>\n",
       "      <th>Training Loss</th>\n",
       "      <th>Validation Loss</th>\n",
       "      <th>Loc</th>\n",
       "      <th>Phone</th>\n",
       "      <th>Price</th>\n",
       "      <th>Product</th>\n",
       "      <th>Micro avg</th>\n",
       "      <th>Macro avg</th>\n",
       "      <th>Weighted avg</th>\n",
       "      <th>F1</th>\n",
       "      <th>F1 Product</th>\n",
       "    </tr>\n",
       "  </thead>\n",
       "  <tbody>\n",
       "    <tr>\n",
       "      <td>1</td>\n",
       "      <td>1.630300</td>\n",
       "      <td>1.183006</td>\n",
       "      <td>{'precision': 0.15, 'recall': 0.05454545454545454, 'f1-score': 0.08, 'support': 55}</td>\n",
       "      <td>{'precision': 1.0, 'recall': 0.45348837209302323, 'f1-score': 0.624, 'support': 86}</td>\n",
       "      <td>{'precision': 0.0, 'recall': 0.0, 'f1-score': 0.0, 'support': 38}</td>\n",
       "      <td>{'precision': 0.0, 'recall': 0.0, 'f1-score': 0.0, 'support': 58}</td>\n",
       "      <td>{'precision': 0.5753424657534246, 'recall': 0.17721518987341772, 'f1-score': 0.2709677419354839, 'support': 237}</td>\n",
       "      <td>{'precision': 0.2875, 'recall': 0.12700845665961943, 'f1-score': 0.176, 'support': 237}</td>\n",
       "      <td>{'precision': 0.39767932489451474, 'recall': 0.17721518987341772, 'f1-score': 0.2449957805907173, 'support': 237}</td>\n",
       "      <td>0.270968</td>\n",
       "      <td>0.000000</td>\n",
       "    </tr>\n",
       "    <tr>\n",
       "      <td>2</td>\n",
       "      <td>1.130000</td>\n",
       "      <td>0.930704</td>\n",
       "      <td>{'precision': 0.041666666666666664, 'recall': 0.01818181818181818, 'f1-score': 0.025316455696202528, 'support': 55}</td>\n",
       "      <td>{'precision': 0.9239130434782609, 'recall': 0.9883720930232558, 'f1-score': 0.9550561797752809, 'support': 86}</td>\n",
       "      <td>{'precision': 0.0, 'recall': 0.0, 'f1-score': 0.0, 'support': 38}</td>\n",
       "      <td>{'precision': 0.0, 'recall': 0.0, 'f1-score': 0.0, 'support': 58}</td>\n",
       "      <td>{'precision': 0.7413793103448276, 'recall': 0.3628691983122363, 'f1-score': 0.48725212464589235, 'support': 237}</td>\n",
       "      <td>{'precision': 0.24139492753623187, 'recall': 0.25163847780126847, 'f1-score': 0.24509315886787086, 'support': 237}</td>\n",
       "      <td>{'precision': 0.34492906500336334, 'recall': 0.3628691983122363, 'f1-score': 0.3524355971475329, 'support': 237}</td>\n",
       "      <td>0.487252</td>\n",
       "      <td>0.000000</td>\n",
       "    </tr>\n",
       "    <tr>\n",
       "      <td>3</td>\n",
       "      <td>0.902200</td>\n",
       "      <td>0.782351</td>\n",
       "      <td>{'precision': 0.15384615384615385, 'recall': 0.07272727272727272, 'f1-score': 0.09876543209876543, 'support': 55}</td>\n",
       "      <td>{'precision': 0.7567567567567568, 'recall': 0.9767441860465116, 'f1-score': 0.8527918781725888, 'support': 86}</td>\n",
       "      <td>{'precision': 0.0, 'recall': 0.0, 'f1-score': 0.0, 'support': 38}</td>\n",
       "      <td>{'precision': 0.0, 'recall': 0.0, 'f1-score': 0.0, 'support': 58}</td>\n",
       "      <td>{'precision': 0.6285714285714286, 'recall': 0.37130801687763715, 'f1-score': 0.46684350132625996, 'support': 237}</td>\n",
       "      <td>{'precision': 0.22765072765072766, 'recall': 0.2623678646934461, 'f1-score': 0.23788932756783857, 'support': 237}</td>\n",
       "      <td>{'precision': 0.3103064115722344, 'recall': 0.37130801687763715, 'f1-score': 0.33237215311508334, 'support': 237}</td>\n",
       "      <td>0.466844</td>\n",
       "      <td>0.000000</td>\n",
       "    </tr>\n",
       "    <tr>\n",
       "      <td>4</td>\n",
       "      <td>0.766600</td>\n",
       "      <td>0.669634</td>\n",
       "      <td>{'precision': 0.2903225806451613, 'recall': 0.16363636363636364, 'f1-score': 0.20930232558139533, 'support': 55}</td>\n",
       "      <td>{'precision': 0.84, 'recall': 0.9767441860465116, 'f1-score': 0.9032258064516129, 'support': 86}</td>\n",
       "      <td>{'precision': 0.0, 'recall': 0.0, 'f1-score': 0.0, 'support': 38}</td>\n",
       "      <td>{'precision': 0.125, 'recall': 0.017241379310344827, 'f1-score': 0.0303030303030303, 'support': 58}</td>\n",
       "      <td>{'precision': 0.6527777777777778, 'recall': 0.39662447257383965, 'f1-score': 0.49343832020997375, 'support': 237}</td>\n",
       "      <td>{'precision': 0.31383064516129033, 'recall': 0.289405482248305, 'f1-score': 0.28570779058400964, 'support': 237}</td>\n",
       "      <td>{'precision': 0.402775282428202, 'recall': 0.39662447257383965, 'f1-score': 0.3837410253982751, 'support': 237}</td>\n",
       "      <td>0.493438</td>\n",
       "      <td>0.030303</td>\n",
       "    </tr>\n",
       "    <tr>\n",
       "      <td>5</td>\n",
       "      <td>0.609500</td>\n",
       "      <td>0.588543</td>\n",
       "      <td>{'precision': 0.4, 'recall': 0.21818181818181817, 'f1-score': 0.28235294117647064, 'support': 55}</td>\n",
       "      <td>{'precision': 0.9333333333333333, 'recall': 0.9767441860465116, 'f1-score': 0.9545454545454545, 'support': 86}</td>\n",
       "      <td>{'precision': 0.125, 'recall': 0.02631578947368421, 'f1-score': 0.043478260869565216, 'support': 38}</td>\n",
       "      <td>{'precision': 0.23076923076923078, 'recall': 0.20689655172413793, 'f1-score': 0.21818181818181817, 'support': 58}</td>\n",
       "      <td>{'precision': 0.6055555555555555, 'recall': 0.459915611814346, 'f1-score': 0.5227817745803357, 'support': 237}</td>\n",
       "      <td>{'precision': 0.4222756410256411, 'recall': 0.357034586356538, 'f1-score': 0.3746396186933271, 'support': 237}</td>\n",
       "      <td>{'precision': 0.5080222871362112, 'recall': 0.459915611814346, 'f1-score': 0.4722659925029701, 'support': 237}</td>\n",
       "      <td>0.522782</td>\n",
       "      <td>0.218182</td>\n",
       "    </tr>\n",
       "    <tr>\n",
       "      <td>6</td>\n",
       "      <td>0.526400</td>\n",
       "      <td>0.539794</td>\n",
       "      <td>{'precision': 0.4, 'recall': 0.21818181818181817, 'f1-score': 0.28235294117647064, 'support': 55}</td>\n",
       "      <td>{'precision': 0.9438202247191011, 'recall': 0.9767441860465116, 'f1-score': 0.9599999999999999, 'support': 86}</td>\n",
       "      <td>{'precision': 0.3333333333333333, 'recall': 0.07894736842105263, 'f1-score': 0.12765957446808512, 'support': 38}</td>\n",
       "      <td>{'precision': 0.2753623188405797, 'recall': 0.3275862068965517, 'f1-score': 0.2992125984251969, 'support': 58}</td>\n",
       "      <td>{'precision': 0.5989847715736041, 'recall': 0.4978902953586498, 'f1-score': 0.5437788018433181, 'support': 237}</td>\n",
       "      <td>{'precision': 0.48812896922325355, 'recall': 0.4003648948864835, 'f1-score': 0.41730627851743807, 'support': 237}</td>\n",
       "      <td>{'precision': 0.5561443902331772, 'recall': 0.4978902953586498, 'f1-score': 0.5075730223761794, 'support': 237}</td>\n",
       "      <td>0.543779</td>\n",
       "      <td>0.299213</td>\n",
       "    </tr>\n",
       "    <tr>\n",
       "      <td>7</td>\n",
       "      <td>0.437500</td>\n",
       "      <td>0.528380</td>\n",
       "      <td>{'precision': 0.46875, 'recall': 0.2727272727272727, 'f1-score': 0.3448275862068966, 'support': 55}</td>\n",
       "      <td>{'precision': 0.9545454545454546, 'recall': 0.9767441860465116, 'f1-score': 0.9655172413793104, 'support': 86}</td>\n",
       "      <td>{'precision': 0.5384615384615384, 'recall': 0.18421052631578946, 'f1-score': 0.2745098039215686, 'support': 38}</td>\n",
       "      <td>{'precision': 0.23333333333333334, 'recall': 0.1206896551724138, 'f1-score': 0.1590909090909091, 'support': 58}</td>\n",
       "      <td>{'precision': 0.6932515337423313, 'recall': 0.4767932489451477, 'f1-score': 0.565, 'support': 237}</td>\n",
       "      <td>{'precision': 0.5487725815850816, 'recall': 0.38859291006549684, 'f1-score': 0.43598638514967114, 'support': 237}</td>\n",
       "      <td>{'precision': 0.5985950670286113, 'recall': 0.4767932489451477, 'f1-score': 0.5133276171995457, 'support': 237}</td>\n",
       "      <td>0.565000</td>\n",
       "      <td>0.159091</td>\n",
       "    </tr>\n",
       "    <tr>\n",
       "      <td>8</td>\n",
       "      <td>0.406300</td>\n",
       "      <td>0.490505</td>\n",
       "      <td>{'precision': 0.5675675675675675, 'recall': 0.38181818181818183, 'f1-score': 0.4565217391304348, 'support': 55}</td>\n",
       "      <td>{'precision': 0.9545454545454546, 'recall': 0.9767441860465116, 'f1-score': 0.9655172413793104, 'support': 86}</td>\n",
       "      <td>{'precision': 0.5294117647058824, 'recall': 0.23684210526315788, 'f1-score': 0.3272727272727273, 'support': 38}</td>\n",
       "      <td>{'precision': 0.3125, 'recall': 0.25862068965517243, 'f1-score': 0.28301886792452835, 'support': 58}</td>\n",
       "      <td>{'precision': 0.6789473684210526, 'recall': 0.5443037974683544, 'f1-score': 0.6042154566744732, 'support': 237}</td>\n",
       "      <td>{'precision': 0.5910061967047261, 'recall': 0.46350629069575594, 'f1-score': 0.5080826439267502, 'support': 237}</td>\n",
       "      <td>{'precision': 0.6394505163120203, 'recall': 0.5443037974683544, 'f1-score': 0.5780364404505522, 'support': 237}</td>\n",
       "      <td>0.604215</td>\n",
       "      <td>0.283019</td>\n",
       "    </tr>\n",
       "    <tr>\n",
       "      <td>9</td>\n",
       "      <td>0.352900</td>\n",
       "      <td>0.461292</td>\n",
       "      <td>{'precision': 0.5675675675675675, 'recall': 0.38181818181818183, 'f1-score': 0.4565217391304348, 'support': 55}</td>\n",
       "      <td>{'precision': 0.9545454545454546, 'recall': 0.9767441860465116, 'f1-score': 0.9655172413793104, 'support': 86}</td>\n",
       "      <td>{'precision': 0.5555555555555556, 'recall': 0.2631578947368421, 'f1-score': 0.35714285714285715, 'support': 38}</td>\n",
       "      <td>{'precision': 0.2898550724637681, 'recall': 0.3448275862068966, 'f1-score': 0.3149606299212599, 'support': 58}</td>\n",
       "      <td>{'precision': 0.6367924528301887, 'recall': 0.569620253164557, 'f1-score': 0.601336302895323, 'support': 237}</td>\n",
       "      <td>{'precision': 0.5918809125330865, 'recall': 0.491636962202108, 'f1-score': 0.5235356168934655, 'support': 237}</td>\n",
       "      <td>{'precision': 0.6381005511440294, 'recall': 0.569620253164557, 'f1-score': 0.5906427152643724, 'support': 237}</td>\n",
       "      <td>0.601336</td>\n",
       "      <td>0.314961</td>\n",
       "    </tr>\n",
       "    <tr>\n",
       "      <td>10</td>\n",
       "      <td>0.325500</td>\n",
       "      <td>0.450269</td>\n",
       "      <td>{'precision': 0.5675675675675675, 'recall': 0.38181818181818183, 'f1-score': 0.4565217391304348, 'support': 55}</td>\n",
       "      <td>{'precision': 0.9545454545454546, 'recall': 0.9767441860465116, 'f1-score': 0.9655172413793104, 'support': 86}</td>\n",
       "      <td>{'precision': 0.5789473684210527, 'recall': 0.2894736842105263, 'f1-score': 0.3859649122807018, 'support': 38}</td>\n",
       "      <td>{'precision': 0.2638888888888889, 'recall': 0.3275862068965517, 'f1-score': 0.29230769230769227, 'support': 58}</td>\n",
       "      <td>{'precision': 0.625, 'recall': 0.569620253164557, 'f1-score': 0.5960264900662252, 'support': 237}</td>\n",
       "      <td>{'precision': 0.5912373198557409, 'recall': 0.4939055647429429, 'f1-score': 0.5250778962745348, 'support': 237}</td>\n",
       "      <td>{'precision': 0.6354965437243918, 'recall': 0.569620253164557, 'f1-score': 0.5897202161658541, 'support': 237}</td>\n",
       "      <td>0.596026</td>\n",
       "      <td>0.292308</td>\n",
       "    </tr>\n",
       "    <tr>\n",
       "      <td>11</td>\n",
       "      <td>0.279700</td>\n",
       "      <td>0.446679</td>\n",
       "      <td>{'precision': 0.5789473684210527, 'recall': 0.4, 'f1-score': 0.4731182795698925, 'support': 55}</td>\n",
       "      <td>{'precision': 0.9545454545454546, 'recall': 0.9767441860465116, 'f1-score': 0.9655172413793104, 'support': 86}</td>\n",
       "      <td>{'precision': 0.7, 'recall': 0.3684210526315789, 'f1-score': 0.48275862068965514, 'support': 38}</td>\n",
       "      <td>{'precision': 0.23529411764705882, 'recall': 0.27586206896551724, 'f1-score': 0.253968253968254, 'support': 58}</td>\n",
       "      <td>{'precision': 0.6355140186915887, 'recall': 0.5738396624472574, 'f1-score': 0.6031042128603105, 'support': 237}</td>\n",
       "      <td>{'precision': 0.6171967351533916, 'recall': 0.5052568269109019, 'f1-score': 0.543840598901778, 'support': 237}</td>\n",
       "      <td>{'precision': 0.6505488319729806, 'recall': 0.5738396624472574, 'f1-score': 0.5997087529592001, 'support': 237}</td>\n",
       "      <td>0.603104</td>\n",
       "      <td>0.253968</td>\n",
       "    </tr>\n",
       "    <tr>\n",
       "      <td>12</td>\n",
       "      <td>0.245500</td>\n",
       "      <td>0.437180</td>\n",
       "      <td>{'precision': 0.5789473684210527, 'recall': 0.4, 'f1-score': 0.4731182795698925, 'support': 55}</td>\n",
       "      <td>{'precision': 0.9655172413793104, 'recall': 0.9767441860465116, 'f1-score': 0.9710982658959537, 'support': 86}</td>\n",
       "      <td>{'precision': 0.7272727272727273, 'recall': 0.42105263157894735, 'f1-score': 0.5333333333333333, 'support': 38}</td>\n",
       "      <td>{'precision': 0.22388059701492538, 'recall': 0.25862068965517243, 'f1-score': 0.24, 'support': 58}</td>\n",
       "      <td>{'precision': 0.6401869158878505, 'recall': 0.5780590717299579, 'f1-score': 0.6075388026607539, 'support': 237}</td>\n",
       "      <td>{'precision': 0.6239044835220039, 'recall': 0.5141043768201579, 'f1-score': 0.5543874696997948, 'support': 237}</td>\n",
       "      <td>{'precision': 0.6561098155485564, 'recall': 0.5780590717299579, 'f1-score': 0.6064245692407711, 'support': 237}</td>\n",
       "      <td>0.607539</td>\n",
       "      <td>0.240000</td>\n",
       "    </tr>\n",
       "    <tr>\n",
       "      <td>13</td>\n",
       "      <td>0.242400</td>\n",
       "      <td>0.434826</td>\n",
       "      <td>{'precision': 0.5641025641025641, 'recall': 0.4, 'f1-score': 0.46808510638297873, 'support': 55}</td>\n",
       "      <td>{'precision': 0.9655172413793104, 'recall': 0.9767441860465116, 'f1-score': 0.9710982658959537, 'support': 86}</td>\n",
       "      <td>{'precision': 0.6956521739130435, 'recall': 0.42105263157894735, 'f1-score': 0.5245901639344263, 'support': 38}</td>\n",
       "      <td>{'precision': 0.2028985507246377, 'recall': 0.2413793103448276, 'f1-score': 0.22047244094488191, 'support': 58}</td>\n",
       "      <td>{'precision': 0.6238532110091743, 'recall': 0.5738396624472574, 'f1-score': 0.5978021978021979, 'support': 237}</td>\n",
       "      <td>{'precision': 0.6070426325298889, 'recall': 0.5097940319925716, 'f1-score': 0.5460614942895602, 'support': 237}</td>\n",
       "      <td>{'precision': 0.6424600098522631, 'recall': 0.5738396624472574, 'f1-score': 0.5990757785756421, 'support': 237}</td>\n",
       "      <td>0.597802</td>\n",
       "      <td>0.220472</td>\n",
       "    </tr>\n",
       "    <tr>\n",
       "      <td>14</td>\n",
       "      <td>0.231400</td>\n",
       "      <td>0.429556</td>\n",
       "      <td>{'precision': 0.575, 'recall': 0.41818181818181815, 'f1-score': 0.4842105263157894, 'support': 55}</td>\n",
       "      <td>{'precision': 0.9655172413793104, 'recall': 0.9767441860465116, 'f1-score': 0.9710982658959537, 'support': 86}</td>\n",
       "      <td>{'precision': 0.72, 'recall': 0.47368421052631576, 'f1-score': 0.5714285714285714, 'support': 38}</td>\n",
       "      <td>{'precision': 0.16901408450704225, 'recall': 0.20689655172413793, 'f1-score': 0.18604651162790697, 'support': 58}</td>\n",
       "      <td>{'precision': 0.6143497757847534, 'recall': 0.5780590717299579, 'f1-score': 0.5956521739130436, 'support': 237}</td>\n",
       "      <td>{'precision': 0.6073828314715881, 'recall': 0.5188766916196959, 'f1-score': 0.5531959688170554, 'support': 237}</td>\n",
       "      <td>{'precision': 0.6406004205064522, 'recall': 0.5780590717299579, 'f1-score': 0.601903009295885, 'support': 237}</td>\n",
       "      <td>0.595652</td>\n",
       "      <td>0.186047</td>\n",
       "    </tr>\n",
       "    <tr>\n",
       "      <td>15</td>\n",
       "      <td>0.222200</td>\n",
       "      <td>0.427345</td>\n",
       "      <td>{'precision': 0.575, 'recall': 0.41818181818181815, 'f1-score': 0.4842105263157894, 'support': 55}</td>\n",
       "      <td>{'precision': 0.9655172413793104, 'recall': 0.9767441860465116, 'f1-score': 0.9710982658959537, 'support': 86}</td>\n",
       "      <td>{'precision': 0.72, 'recall': 0.47368421052631576, 'f1-score': 0.5714285714285714, 'support': 38}</td>\n",
       "      <td>{'precision': 0.18055555555555555, 'recall': 0.22413793103448276, 'f1-score': 0.19999999999999998, 'support': 58}</td>\n",
       "      <td>{'precision': 0.6160714285714286, 'recall': 0.5822784810126582, 'f1-score': 0.5986984815618221, 'support': 237}</td>\n",
       "      <td>{'precision': 0.6102681992337164, 'recall': 0.523187036447282, 'f1-score': 0.5566843409100787, 'support': 237}</td>\n",
       "      <td>{'precision': 0.6434249155309829, 'recall': 0.5822784810126582, 'f1-score': 0.6053177870409543, 'support': 237}</td>\n",
       "      <td>0.598698</td>\n",
       "      <td>0.200000</td>\n",
       "    </tr>\n",
       "  </tbody>\n",
       "</table><p>"
      ],
      "text/plain": [
       "<IPython.core.display.HTML object>"
      ]
     },
     "metadata": {},
     "output_type": "display_data"
    },
    {
     "name": "stdout",
     "output_type": "stream",
     "text": [
      "Training complete.\n",
      "\n",
      "Saving model...\n",
      "\n",
      "Model saved.\n",
      "\n",
      "Training complete and model saved.\n"
     ]
    }
   ],
   "source": [
    "# Train \n",
    "trainer.train()"
   ]
  },
  {
   "cell_type": "code",
   "execution_count": 5,
   "id": "b0ea5602",
   "metadata": {},
   "outputs": [
    {
     "name": "stdout",
     "output_type": "stream",
     "text": [
      "\n",
      "Evaluating model...\n"
     ]
    },
    {
     "data": {
      "text/html": [
       "\n",
       "    <div>\n",
       "      \n",
       "      <progress value='1' max='1' style='width:300px; height:20px; vertical-align: middle;'></progress>\n",
       "      [1/1 : < :]\n",
       "    </div>\n",
       "    "
      ],
      "text/plain": [
       "<IPython.core.display.HTML object>"
      ]
     },
     "metadata": {},
     "output_type": "display_data"
    },
    {
     "name": "stdout",
     "output_type": "stream",
     "text": [
      "\n",
      "Evaluation complete.\n",
      "\n",
      "Eval Loss: 0.4372\n",
      "Per-Entity Performance:\n",
      "  • LOC        | P:  57.9%  R:  40.0%  F1:  47.3%  (Support: 55)\n",
      "  • PHONE      | P:  96.6%  R:  97.7%  F1:  97.1%  (Support: 86)\n",
      "  • PRICE      | P:  72.7%  R:  42.1%  F1:  53.3%  (Support: 38)\n",
      "  • PRODUCT    | P:  22.4%  R:  25.9%  F1:  24.0%  (Support: 58)\n",
      "  • micro avg  | P:  64.0%  R:  57.8%  F1:  60.8%  (Support: 237)\n",
      "  • macro avg  | P:  62.4%  R:  51.4%  F1:  55.4%  (Support: 237)\n",
      "  • weighted avg | P:  65.6%  R:  57.8%  F1:  60.6%  (Support: 237)\n",
      "\n",
      "**Runtime Info:**\n",
      "  - Runtime: 8.11s\n",
      "  - Samples/sec: 1.0\n",
      "  - Epoch: 15.0\n"
     ]
    },
    {
     "data": {
      "text/plain": [
       "{'eval_loss': 0.4371796250343323,\n",
       " 'eval_LOC': {'precision': 0.5789473684210527,\n",
       "  'recall': 0.4,\n",
       "  'f1-score': 0.4731182795698925,\n",
       "  'support': 55},\n",
       " 'eval_PHONE': {'precision': 0.9655172413793104,\n",
       "  'recall': 0.9767441860465116,\n",
       "  'f1-score': 0.9710982658959537,\n",
       "  'support': 86},\n",
       " 'eval_PRICE': {'precision': 0.7272727272727273,\n",
       "  'recall': 0.42105263157894735,\n",
       "  'f1-score': 0.5333333333333333,\n",
       "  'support': 38},\n",
       " 'eval_PRODUCT': {'precision': 0.22388059701492538,\n",
       "  'recall': 0.25862068965517243,\n",
       "  'f1-score': 0.24,\n",
       "  'support': 58},\n",
       " 'eval_micro avg': {'precision': 0.6401869158878505,\n",
       "  'recall': 0.5780590717299579,\n",
       "  'f1-score': 0.6075388026607539,\n",
       "  'support': 237},\n",
       " 'eval_macro avg': {'precision': 0.6239044835220039,\n",
       "  'recall': 0.5141043768201579,\n",
       "  'f1-score': 0.5543874696997948,\n",
       "  'support': 237},\n",
       " 'eval_weighted avg': {'precision': 0.6561098155485564,\n",
       "  'recall': 0.5780590717299579,\n",
       "  'f1-score': 0.6064245692407711,\n",
       "  'support': 237},\n",
       " 'eval_f1': 0.6075388026607539,\n",
       " 'eval_f1_PRODUCT': 0.24,\n",
       " 'eval_runtime': 8.1057,\n",
       " 'eval_samples_per_second': 0.987,\n",
       " 'eval_steps_per_second': 0.123,\n",
       " 'epoch': 15.0}"
      ]
     },
     "execution_count": 5,
     "metadata": {},
     "output_type": "execute_result"
    }
   ],
   "source": [
    "# Evaluate \n",
    "trainer.evaluate()"
   ]
  }
 ],
 "metadata": {
  "kernelspec": {
   "display_name": ".amhvenv",
   "language": "python",
   "name": "python3"
  },
  "language_info": {
   "codemirror_mode": {
    "name": "ipython",
    "version": 3
   },
   "file_extension": ".py",
   "mimetype": "text/x-python",
   "name": "python",
   "nbconvert_exporter": "python",
   "pygments_lexer": "ipython3",
   "version": "3.13.3"
  }
 },
 "nbformat": 4,
 "nbformat_minor": 5
}
