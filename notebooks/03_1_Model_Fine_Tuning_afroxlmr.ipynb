{
 "cells": [
  {
   "cell_type": "markdown",
   "id": "74bdbf59",
   "metadata": {},
   "source": [
    "# **Import Modules and Libraries**"
   ]
  },
  {
   "cell_type": "markdown",
   "id": "31040dea",
   "metadata": {},
   "source": [
    "## *python*"
   ]
  },
  {
   "cell_type": "code",
   "execution_count": 1,
   "id": "bf10efca",
   "metadata": {},
   "outputs": [],
   "source": [
    "import os\n",
    "import sys"
   ]
  },
  {
   "cell_type": "markdown",
   "id": "5faa4098",
   "metadata": {},
   "source": [
    "## *custom*"
   ]
  },
  {
   "cell_type": "code",
   "execution_count": 2,
   "id": "639be25c",
   "metadata": {},
   "outputs": [],
   "source": [
    "#import customised modules\n",
    "\n",
    "#define path\n",
    "sys.path.append(os.path.abspath(os.path.join('..')))\n",
    "\n",
    "##import relevant modules\n",
    "try:\n",
    "    from scripts._03_1_fine_tuning_afroxlmr import afroxlmr_Amharic_NER_fine_tuner\n",
    "\n",
    "except ImportError:\n",
    "    print('Could not import module from `scripts/`.')"
   ]
  },
  {
   "cell_type": "markdown",
   "id": "c3250ec9",
   "metadata": {},
   "source": [
    "# **afroxlmr-large-ner-masakhaner-1.0_2.0**"
   ]
  },
  {
   "cell_type": "code",
   "execution_count": 3,
   "id": "8694d0a4",
   "metadata": {},
   "outputs": [
    {
     "name": "stdout",
     "output_type": "stream",
     "text": [
      "Initialising afroxlmr_Amharic_NER_fine_tuner...\n",
      "\n",
      "Initialisation complete.\n",
      "\n",
      "Loading and preparing data...\n",
      "\n",
      "Loading data from ..\\data\\ner_amharic_conll.txt...\n",
      "\n",
      "Loaded 40 examples.\n",
      "\n",
      "Data loaded and processed.\n",
      "\n",
      "Dataset created and split into train/test.\n"
     ]
    },
    {
     "data": {
      "application/vnd.jupyter.widget-view+json": {
       "model_id": "e38d121701124f369790fd409bd0e070",
       "version_major": 2,
       "version_minor": 0
      },
      "text/plain": [
       "Map:   0%|          | 0/32 [00:00<?, ? examples/s]"
      ]
     },
     "metadata": {},
     "output_type": "display_data"
    },
    {
     "data": {
      "application/vnd.jupyter.widget-view+json": {
       "model_id": "a682aab94a1e41b28b21183a199f89a0",
       "version_major": 2,
       "version_minor": 0
      },
      "text/plain": [
       "Map:   0%|          | 0/8 [00:00<?, ? examples/s]"
      ]
     },
     "metadata": {},
     "output_type": "display_data"
    },
    {
     "name": "stdout",
     "output_type": "stream",
     "text": [
      "\n",
      "Dataset tokenized and aligned.\n",
      "\n",
      "Setting up Trainer...\n"
     ]
    },
    {
     "name": "stderr",
     "output_type": "stream",
     "text": [
      "Some weights of XLMRobertaForTokenClassification were not initialized from the model checkpoint at masakhane/afroxlmr-large-ner-masakhaner-1.0_2.0 and are newly initialized because the shapes did not match:\n",
      "- classifier.bias: found shape torch.Size([9]) in the checkpoint and torch.Size([8]) in the model instantiated\n",
      "- classifier.weight: found shape torch.Size([9, 1024]) in the checkpoint and torch.Size([8, 1024]) in the model instantiated\n",
      "You should probably TRAIN this model on a down-stream task to be able to use it for predictions and inference.\n"
     ]
    },
    {
     "name": "stdout",
     "output_type": "stream",
     "text": [
      "\n",
      "Model loaded and configured.\n",
      "\n",
      "Training arguments set.\n",
      "\n",
      "Trainer initialised.\n",
      "\n",
      "Starting training...\n"
     ]
    },
    {
     "data": {
      "text/html": [
       "\n",
       "    <div>\n",
       "      \n",
       "      <progress value='40' max='40' style='width:300px; height:20px; vertical-align: middle;'></progress>\n",
       "      [40/40 36:42, Epoch 10/10]\n",
       "    </div>\n",
       "    <table border=\"1\" class=\"dataframe\">\n",
       "  <thead>\n",
       " <tr style=\"text-align: left;\">\n",
       "      <th>Epoch</th>\n",
       "      <th>Training Loss</th>\n",
       "      <th>Validation Loss</th>\n",
       "      <th>Loc</th>\n",
       "      <th>Phone</th>\n",
       "      <th>Price</th>\n",
       "      <th>Product</th>\n",
       "      <th>Micro avg</th>\n",
       "      <th>Macro avg</th>\n",
       "      <th>Weighted avg</th>\n",
       "    </tr>\n",
       "  </thead>\n",
       "  <tbody>\n",
       "    <tr>\n",
       "      <td>1</td>\n",
       "      <td>2.043300</td>\n",
       "      <td>1.492823</td>\n",
       "      <td>{'precision': 0.0, 'recall': 0.0, 'f1-score': 0.0, 'support': 55}</td>\n",
       "      <td>{'precision': 1.0, 'recall': 0.03488372093023256, 'f1-score': 0.06741573033707865, 'support': 86}</td>\n",
       "      <td>{'precision': 0.0, 'recall': 0.0, 'f1-score': 0.0, 'support': 38}</td>\n",
       "      <td>{'precision': 0.0, 'recall': 0.0, 'f1-score': 0.0, 'support': 58}</td>\n",
       "      <td>{'precision': 0.3, 'recall': 0.012658227848101266, 'f1-score': 0.024291497975708502, 'support': 237}</td>\n",
       "      <td>{'precision': 0.25, 'recall': 0.00872093023255814, 'f1-score': 0.016853932584269662, 'support': 237}</td>\n",
       "      <td>{'precision': 0.3628691983122363, 'recall': 0.012658227848101266, 'f1-score': 0.024463092021049637, 'support': 237}</td>\n",
       "    </tr>\n",
       "    <tr>\n",
       "      <td>2</td>\n",
       "      <td>1.449300</td>\n",
       "      <td>1.251786</td>\n",
       "      <td>{'precision': 0.07407407407407407, 'recall': 0.03636363636363636, 'f1-score': 0.048780487804878044, 'support': 55}</td>\n",
       "      <td>{'precision': 0.9540229885057471, 'recall': 0.9651162790697675, 'f1-score': 0.9595375722543352, 'support': 86}</td>\n",
       "      <td>{'precision': 0.0, 'recall': 0.0, 'f1-score': 0.0, 'support': 38}</td>\n",
       "      <td>{'precision': 0.0, 'recall': 0.0, 'f1-score': 0.0, 'support': 58}</td>\n",
       "      <td>{'precision': 0.7024793388429752, 'recall': 0.35864978902953587, 'f1-score': 0.4748603351955307, 'support': 237}</td>\n",
       "      <td>{'precision': 0.2570242656449553, 'recall': 0.25036997885835094, 'f1-score': 0.2520795150148033, 'support': 237}</td>\n",
       "      <td>{'precision': 0.36337574297708153, 'recall': 0.35864978902953587, 'f1-score': 0.3595069959626208, 'support': 237}</td>\n",
       "    </tr>\n",
       "    <tr>\n",
       "      <td>3</td>\n",
       "      <td>1.222700</td>\n",
       "      <td>1.108650</td>\n",
       "      <td>{'precision': 0.13793103448275862, 'recall': 0.07272727272727272, 'f1-score': 0.09523809523809523, 'support': 55}</td>\n",
       "      <td>{'precision': 0.8958333333333334, 'recall': 1.0, 'f1-score': 0.945054945054945, 'support': 86}</td>\n",
       "      <td>{'precision': 0.0, 'recall': 0.0, 'f1-score': 0.0, 'support': 38}</td>\n",
       "      <td>{'precision': 0.0, 'recall': 0.0, 'f1-score': 0.0, 'support': 58}</td>\n",
       "      <td>{'precision': 0.6870229007633588, 'recall': 0.379746835443038, 'f1-score': 0.4891304347826087, 'support': 237}</td>\n",
       "      <td>{'precision': 0.258441091954023, 'recall': 0.2681818181818182, 'f1-score': 0.26007326007326004, 'support': 237}</td>\n",
       "      <td>{'precision': 0.35707963528784137, 'recall': 0.379746835443038, 'f1-score': 0.36503299794439037, 'support': 237}</td>\n",
       "    </tr>\n",
       "    <tr>\n",
       "      <td>4</td>\n",
       "      <td>1.092500</td>\n",
       "      <td>1.011914</td>\n",
       "      <td>{'precision': 0.21739130434782608, 'recall': 0.09090909090909091, 'f1-score': 0.12820512820512822, 'support': 55}</td>\n",
       "      <td>{'precision': 0.9239130434782609, 'recall': 0.9883720930232558, 'f1-score': 0.9550561797752809, 'support': 86}</td>\n",
       "      <td>{'precision': 0.5, 'recall': 0.02631578947368421, 'f1-score': 0.05, 'support': 38}</td>\n",
       "      <td>{'precision': 0.0, 'recall': 0.0, 'f1-score': 0.0, 'support': 58}</td>\n",
       "      <td>{'precision': 0.7777777777777778, 'recall': 0.38396624472573837, 'f1-score': 0.5141242937853108, 'support': 237}</td>\n",
       "      <td>{'precision': 0.41032608695652173, 'recall': 0.27639924335150773, 'f1-score': 0.2833153269951023, 'support': 237}</td>\n",
       "      <td>{'precision': 0.46587782058337923, 'recall': 0.38396624472573837, 'f1-score': 0.38432959287745244, 'support': 237}</td>\n",
       "    </tr>\n",
       "    <tr>\n",
       "      <td>5</td>\n",
       "      <td>0.979100</td>\n",
       "      <td>0.938298</td>\n",
       "      <td>{'precision': 0.3076923076923077, 'recall': 0.14545454545454545, 'f1-score': 0.19753086419753085, 'support': 55}</td>\n",
       "      <td>{'precision': 0.9438202247191011, 'recall': 0.9767441860465116, 'f1-score': 0.9599999999999999, 'support': 86}</td>\n",
       "      <td>{'precision': 0.1111111111111111, 'recall': 0.02631578947368421, 'f1-score': 0.0425531914893617, 'support': 38}</td>\n",
       "      <td>{'precision': 0.0, 'recall': 0.0, 'f1-score': 0.0, 'support': 58}</td>\n",
       "      <td>{'precision': 0.744, 'recall': 0.3924050632911392, 'f1-score': 0.5138121546961325, 'support': 237}</td>\n",
       "      <td>{'precision': 0.34065591088062996, 'recall': 0.28712863024368535, 'f1-score': 0.30002101392172315, 'support': 237}</td>\n",
       "      <td>{'precision': 0.43170395979384746, 'recall': 0.3924050632911392, 'f1-score': 0.4010178008753583, 'support': 237}</td>\n",
       "    </tr>\n",
       "    <tr>\n",
       "      <td>6</td>\n",
       "      <td>0.908900</td>\n",
       "      <td>0.896687</td>\n",
       "      <td>{'precision': 0.34375, 'recall': 0.2, 'f1-score': 0.25287356321839083, 'support': 55}</td>\n",
       "      <td>{'precision': 0.9444444444444444, 'recall': 0.9883720930232558, 'f1-score': 0.9659090909090908, 'support': 86}</td>\n",
       "      <td>{'precision': 0.3888888888888889, 'recall': 0.18421052631578946, 'f1-score': 0.25, 'support': 38}</td>\n",
       "      <td>{'precision': 0.5, 'recall': 0.034482758620689655, 'f1-score': 0.06451612903225806, 'support': 58}</td>\n",
       "      <td>{'precision': 0.7291666666666666, 'recall': 0.4430379746835443, 'f1-score': 0.5511811023622047, 'support': 237}</td>\n",
       "      <td>{'precision': 0.5442708333333333, 'recall': 0.3517663444899337, 'f1-score': 0.3833246957899349, 'support': 237}</td>\n",
       "      <td>{'precision': 0.6071993670886076, 'recall': 0.4430379746835443, 'f1-score': 0.46505554126187454, 'support': 237}</td>\n",
       "    </tr>\n",
       "    <tr>\n",
       "      <td>7</td>\n",
       "      <td>0.856700</td>\n",
       "      <td>0.874706</td>\n",
       "      <td>{'precision': 0.4117647058823529, 'recall': 0.2545454545454545, 'f1-score': 0.3146067415730337, 'support': 55}</td>\n",
       "      <td>{'precision': 0.9555555555555556, 'recall': 1.0, 'f1-score': 0.9772727272727273, 'support': 86}</td>\n",
       "      <td>{'precision': 0.5294117647058824, 'recall': 0.23684210526315788, 'f1-score': 0.3272727272727273, 'support': 38}</td>\n",
       "      <td>{'precision': 0.4, 'recall': 0.034482758620689655, 'f1-score': 0.06349206349206349, 'support': 58}</td>\n",
       "      <td>{'precision': 0.7602739726027398, 'recall': 0.46835443037974683, 'f1-score': 0.5796344647519583, 'support': 237}</td>\n",
       "      <td>{'precision': 0.5741830065359477, 'recall': 0.3814675796073255, 'f1-score': 0.420661064902638, 'support': 237}</td>\n",
       "      <td>{'precision': 0.6250737707178512, 'recall': 0.46835443037974683, 'f1-score': 0.4956444246872351, 'support': 237}</td>\n",
       "    </tr>\n",
       "    <tr>\n",
       "      <td>8</td>\n",
       "      <td>0.822200</td>\n",
       "      <td>0.858922</td>\n",
       "      <td>{'precision': 0.4594594594594595, 'recall': 0.3090909090909091, 'f1-score': 0.3695652173913044, 'support': 55}</td>\n",
       "      <td>{'precision': 0.9555555555555556, 'recall': 1.0, 'f1-score': 0.9772727272727273, 'support': 86}</td>\n",
       "      <td>{'precision': 0.5294117647058824, 'recall': 0.23684210526315788, 'f1-score': 0.3272727272727273, 'support': 38}</td>\n",
       "      <td>{'precision': 0.3076923076923077, 'recall': 0.06896551724137931, 'f1-score': 0.11267605633802817, 'support': 58}</td>\n",
       "      <td>{'precision': 0.7388535031847133, 'recall': 0.48945147679324896, 'f1-score': 0.5888324873096447, 'support': 237}</td>\n",
       "      <td>{'precision': 0.5630297718533013, 'recall': 0.40372463289886157, 'f1-score': 0.44669668206869684, 'support': 237}</td>\n",
       "      <td>{'precision': 0.6135521052870271, 'recall': 0.48945147679324896, 'f1-score': 0.5204350903204453, 'support': 237}</td>\n",
       "    </tr>\n",
       "    <tr>\n",
       "      <td>9</td>\n",
       "      <td>0.802300</td>\n",
       "      <td>0.845228</td>\n",
       "      <td>{'precision': 0.48717948717948717, 'recall': 0.34545454545454546, 'f1-score': 0.40425531914893614, 'support': 55}</td>\n",
       "      <td>{'precision': 0.9555555555555556, 'recall': 1.0, 'f1-score': 0.9772727272727273, 'support': 86}</td>\n",
       "      <td>{'precision': 0.5555555555555556, 'recall': 0.2631578947368421, 'f1-score': 0.35714285714285715, 'support': 38}</td>\n",
       "      <td>{'precision': 0.23529411764705882, 'recall': 0.13793103448275862, 'f1-score': 0.17391304347826086, 'support': 58}</td>\n",
       "      <td>{'precision': 0.6795580110497238, 'recall': 0.5189873417721519, 'f1-score': 0.5885167464114833, 'support': 237}</td>\n",
       "      <td>{'precision': 0.5583961789844143, 'recall': 0.43663586866853654, 'f1-score': 0.4781459867606954, 'support': 237}</td>\n",
       "      <td>{'precision': 0.6064591540391988, 'recall': 0.5189873417721519, 'f1-score': 0.5482611062945727, 'support': 237}</td>\n",
       "    </tr>\n",
       "    <tr>\n",
       "      <td>10</td>\n",
       "      <td>0.803600</td>\n",
       "      <td>0.840636</td>\n",
       "      <td>{'precision': 0.5121951219512195, 'recall': 0.38181818181818183, 'f1-score': 0.43750000000000006, 'support': 55}</td>\n",
       "      <td>{'precision': 0.9555555555555556, 'recall': 1.0, 'f1-score': 0.9772727272727273, 'support': 86}</td>\n",
       "      <td>{'precision': 0.5263157894736842, 'recall': 0.2631578947368421, 'f1-score': 0.35087719298245607, 'support': 38}</td>\n",
       "      <td>{'precision': 0.2857142857142857, 'recall': 0.20689655172413793, 'f1-score': 0.24000000000000002, 'support': 58}</td>\n",
       "      <td>{'precision': 0.671875, 'recall': 0.5443037974683544, 'f1-score': 0.6013986013986015, 'support': 237}</td>\n",
       "      <td>{'precision': 0.5699451881736862, 'recall': 0.46296815706979044, 'f1-score': 0.5014124800637959, 'support': 237}</td>\n",
       "      <td>{'precision': 0.6199153504494658, 'recall': 0.5443037974683544, 'f1-score': 0.5711446745940417, 'support': 237}</td>\n",
       "    </tr>\n",
       "  </tbody>\n",
       "</table><p>"
      ],
      "text/plain": [
       "<IPython.core.display.HTML object>"
      ]
     },
     "metadata": {},
     "output_type": "display_data"
    },
    {
     "name": "stdout",
     "output_type": "stream",
     "text": [
      "Training complete.\n",
      "\n",
      "Saving model...\n"
     ]
    },
    {
     "name": "stderr",
     "output_type": "stream",
     "text": [
      "c:\\Users\\nuhamin\\Documents\\kifiya\\week 4\\Building-an-Amharic-ECommerce-Data-Extractor\\scripts\\_03_1_fine_tuning_afroxlmr.py:211: SyntaxWarning: invalid escape sequence '\\R'\n",
      "  print(\"\\Runtime Info:\")\n"
     ]
    },
    {
     "ename": "SafetensorError",
     "evalue": "Error while serializing: IoError(Os { code: 1224, kind: Uncategorized, message: \"The requested operation cannot be performed on a file with a user-mapped section open.\" })",
     "output_type": "error",
     "traceback": [
      "\u001b[31m---------------------------------------------------------------------------\u001b[39m",
      "\u001b[31mSafetensorError\u001b[39m                           Traceback (most recent call last)",
      "\u001b[36mCell\u001b[39m\u001b[36m \u001b[39m\u001b[32mIn[3]\u001b[39m\u001b[32m, line 10\u001b[39m\n\u001b[32m      7\u001b[39m trainer = afroxlmr_Amharic_NER_fine_tuner(conll_path, model_checkpoint, output_dir)\n\u001b[32m      9\u001b[39m \u001b[38;5;66;03m# Train \u001b[39;00m\n\u001b[32m---> \u001b[39m\u001b[32m10\u001b[39m \u001b[43mtrainer\u001b[49m\u001b[43m.\u001b[49m\u001b[43mtrain\u001b[49m\u001b[43m(\u001b[49m\u001b[43m)\u001b[49m\n\u001b[32m     12\u001b[39m \u001b[38;5;66;03m# Evaluate \u001b[39;00m\n\u001b[32m     13\u001b[39m trainer.evaluate()\n",
      "\u001b[36mFile \u001b[39m\u001b[32mc:\\Users\\nuhamin\\Documents\\kifiya\\week 4\\Building-an-Amharic-ECommerce-Data-Extractor\\scripts\\_03_1_fine_tuning_afroxlmr.py:177\u001b[39m, in \u001b[36mafroxlmr_Amharic_NER_fine_tuner.train\u001b[39m\u001b[34m(self, epochs)\u001b[39m\n\u001b[32m    174\u001b[39m \u001b[38;5;28mprint\u001b[39m(\u001b[33m\"\u001b[39m\u001b[33mTraining complete.\u001b[39m\u001b[33m\"\u001b[39m)\n\u001b[32m    176\u001b[39m \u001b[38;5;28mprint\u001b[39m(\u001b[33m\"\u001b[39m\u001b[38;5;130;01m\\n\u001b[39;00m\u001b[33mSaving model...\u001b[39m\u001b[33m\"\u001b[39m)\n\u001b[32m--> \u001b[39m\u001b[32m177\u001b[39m \u001b[38;5;28;43mself\u001b[39;49m\u001b[43m.\u001b[49m\u001b[43mtrainer\u001b[49m\u001b[43m.\u001b[49m\u001b[43msave_model\u001b[49m\u001b[43m(\u001b[49m\u001b[38;5;28;43mself\u001b[39;49m\u001b[43m.\u001b[49m\u001b[43moutput_dir\u001b[49m\u001b[43m)\u001b[49m\n\u001b[32m    178\u001b[39m \u001b[38;5;28mself\u001b[39m.tokenizer.save_pretrained(\u001b[38;5;28mself\u001b[39m.output_dir)\n\u001b[32m    179\u001b[39m \u001b[38;5;28mprint\u001b[39m(\u001b[33m\"\u001b[39m\u001b[33mModel saved.\u001b[39m\u001b[33m\"\u001b[39m)\n",
      "\u001b[36mFile \u001b[39m\u001b[32mc:\\Users\\nuhamin\\Documents\\kifiya\\week 4\\Building-an-Amharic-ECommerce-Data-Extractor\\.amhvenv\\Lib\\site-packages\\transformers\\trainer.py:3911\u001b[39m, in \u001b[36mTrainer.save_model\u001b[39m\u001b[34m(self, output_dir, _internal_call)\u001b[39m\n\u001b[32m   3908\u001b[39m         \u001b[38;5;28mself\u001b[39m.model_wrapped.save_checkpoint(output_dir)\n\u001b[32m   3910\u001b[39m \u001b[38;5;28;01melif\u001b[39;00m \u001b[38;5;28mself\u001b[39m.args.should_save:\n\u001b[32m-> \u001b[39m\u001b[32m3911\u001b[39m     \u001b[38;5;28;43mself\u001b[39;49m\u001b[43m.\u001b[49m\u001b[43m_save\u001b[49m\u001b[43m(\u001b[49m\u001b[43moutput_dir\u001b[49m\u001b[43m)\u001b[49m\n\u001b[32m   3913\u001b[39m \u001b[38;5;66;03m# Push to the Hub when `save_model` is called by the user.\u001b[39;00m\n\u001b[32m   3914\u001b[39m \u001b[38;5;28;01mif\u001b[39;00m \u001b[38;5;28mself\u001b[39m.args.push_to_hub \u001b[38;5;129;01mand\u001b[39;00m \u001b[38;5;129;01mnot\u001b[39;00m _internal_call:\n",
      "\u001b[36mFile \u001b[39m\u001b[32mc:\\Users\\nuhamin\\Documents\\kifiya\\week 4\\Building-an-Amharic-ECommerce-Data-Extractor\\.amhvenv\\Lib\\site-packages\\transformers\\trainer.py:4015\u001b[39m, in \u001b[36mTrainer._save\u001b[39m\u001b[34m(self, output_dir, state_dict)\u001b[39m\n\u001b[32m   4013\u001b[39m             torch.save(state_dict, os.path.join(output_dir, WEIGHTS_NAME))\n\u001b[32m   4014\u001b[39m \u001b[38;5;28;01melse\u001b[39;00m:\n\u001b[32m-> \u001b[39m\u001b[32m4015\u001b[39m     \u001b[38;5;28;43mself\u001b[39;49m\u001b[43m.\u001b[49m\u001b[43mmodel\u001b[49m\u001b[43m.\u001b[49m\u001b[43msave_pretrained\u001b[49m\u001b[43m(\u001b[49m\n\u001b[32m   4016\u001b[39m \u001b[43m        \u001b[49m\u001b[43moutput_dir\u001b[49m\u001b[43m,\u001b[49m\u001b[43m \u001b[49m\u001b[43mstate_dict\u001b[49m\u001b[43m=\u001b[49m\u001b[43mstate_dict\u001b[49m\u001b[43m,\u001b[49m\u001b[43m \u001b[49m\u001b[43msafe_serialization\u001b[49m\u001b[43m=\u001b[49m\u001b[38;5;28;43mself\u001b[39;49m\u001b[43m.\u001b[49m\u001b[43margs\u001b[49m\u001b[43m.\u001b[49m\u001b[43msave_safetensors\u001b[49m\n\u001b[32m   4017\u001b[39m \u001b[43m    \u001b[49m\u001b[43m)\u001b[49m\n\u001b[32m   4019\u001b[39m \u001b[38;5;28;01mif\u001b[39;00m \u001b[38;5;28mself\u001b[39m.processing_class \u001b[38;5;129;01mis\u001b[39;00m \u001b[38;5;129;01mnot\u001b[39;00m \u001b[38;5;28;01mNone\u001b[39;00m:\n\u001b[32m   4020\u001b[39m     \u001b[38;5;28mself\u001b[39m.processing_class.save_pretrained(output_dir)\n",
      "\u001b[36mFile \u001b[39m\u001b[32mc:\\Users\\nuhamin\\Documents\\kifiya\\week 4\\Building-an-Amharic-ECommerce-Data-Extractor\\.amhvenv\\Lib\\site-packages\\transformers\\modeling_utils.py:3717\u001b[39m, in \u001b[36mPreTrainedModel.save_pretrained\u001b[39m\u001b[34m(self, save_directory, is_main_process, state_dict, save_function, push_to_hub, max_shard_size, safe_serialization, variant, token, save_peft_format, **kwargs)\u001b[39m\n\u001b[32m   3712\u001b[39m     gc.collect()\n\u001b[32m   3714\u001b[39m \u001b[38;5;28;01mif\u001b[39;00m safe_serialization:\n\u001b[32m   3715\u001b[39m     \u001b[38;5;66;03m# At some point we will need to deal better with save_function (used for TPU and other distributed\u001b[39;00m\n\u001b[32m   3716\u001b[39m     \u001b[38;5;66;03m# joyfulness), but for now this enough.\u001b[39;00m\n\u001b[32m-> \u001b[39m\u001b[32m3717\u001b[39m     \u001b[43msafe_save_file\u001b[49m\u001b[43m(\u001b[49m\u001b[43mshard\u001b[49m\u001b[43m,\u001b[49m\u001b[43m \u001b[49m\u001b[43mos\u001b[49m\u001b[43m.\u001b[49m\u001b[43mpath\u001b[49m\u001b[43m.\u001b[49m\u001b[43mjoin\u001b[49m\u001b[43m(\u001b[49m\u001b[43msave_directory\u001b[49m\u001b[43m,\u001b[49m\u001b[43m \u001b[49m\u001b[43mshard_file\u001b[49m\u001b[43m)\u001b[49m\u001b[43m,\u001b[49m\u001b[43m \u001b[49m\u001b[43mmetadata\u001b[49m\u001b[43m=\u001b[49m\u001b[43m{\u001b[49m\u001b[33;43m\"\u001b[39;49m\u001b[33;43mformat\u001b[39;49m\u001b[33;43m\"\u001b[39;49m\u001b[43m:\u001b[49m\u001b[43m \u001b[49m\u001b[33;43m\"\u001b[39;49m\u001b[33;43mpt\u001b[39;49m\u001b[33;43m\"\u001b[39;49m\u001b[43m}\u001b[49m\u001b[43m)\u001b[49m\n\u001b[32m   3718\u001b[39m \u001b[38;5;28;01melse\u001b[39;00m:\n\u001b[32m   3719\u001b[39m     save_function(shard, os.path.join(save_directory, shard_file))\n",
      "\u001b[36mFile \u001b[39m\u001b[32mc:\\Users\\nuhamin\\Documents\\kifiya\\week 4\\Building-an-Amharic-ECommerce-Data-Extractor\\.amhvenv\\Lib\\site-packages\\safetensors\\torch.py:286\u001b[39m, in \u001b[36msave_file\u001b[39m\u001b[34m(tensors, filename, metadata)\u001b[39m\n\u001b[32m    255\u001b[39m \u001b[38;5;28;01mdef\u001b[39;00m\u001b[38;5;250m \u001b[39m\u001b[34msave_file\u001b[39m(\n\u001b[32m    256\u001b[39m     tensors: Dict[\u001b[38;5;28mstr\u001b[39m, torch.Tensor],\n\u001b[32m    257\u001b[39m     filename: Union[\u001b[38;5;28mstr\u001b[39m, os.PathLike],\n\u001b[32m    258\u001b[39m     metadata: Optional[Dict[\u001b[38;5;28mstr\u001b[39m, \u001b[38;5;28mstr\u001b[39m]] = \u001b[38;5;28;01mNone\u001b[39;00m,\n\u001b[32m    259\u001b[39m ):\n\u001b[32m    260\u001b[39m \u001b[38;5;250m    \u001b[39m\u001b[33;03m\"\"\"\u001b[39;00m\n\u001b[32m    261\u001b[39m \u001b[33;03m    Saves a dictionary of tensors into raw bytes in safetensors format.\u001b[39;00m\n\u001b[32m    262\u001b[39m \n\u001b[32m   (...)\u001b[39m\u001b[32m    284\u001b[39m \u001b[33;03m    ```\u001b[39;00m\n\u001b[32m    285\u001b[39m \u001b[33;03m    \"\"\"\u001b[39;00m\n\u001b[32m--> \u001b[39m\u001b[32m286\u001b[39m     \u001b[43mserialize_file\u001b[49m\u001b[43m(\u001b[49m\u001b[43m_flatten\u001b[49m\u001b[43m(\u001b[49m\u001b[43mtensors\u001b[49m\u001b[43m)\u001b[49m\u001b[43m,\u001b[49m\u001b[43m \u001b[49m\u001b[43mfilename\u001b[49m\u001b[43m,\u001b[49m\u001b[43m \u001b[49m\u001b[43mmetadata\u001b[49m\u001b[43m=\u001b[49m\u001b[43mmetadata\u001b[49m\u001b[43m)\u001b[49m\n",
      "\u001b[31mSafetensorError\u001b[39m: Error while serializing: IoError(Os { code: 1224, kind: Uncategorized, message: \"The requested operation cannot be performed on a file with a user-mapped section open.\" })"
     ]
    }
   ],
   "source": [
    "# Define paths and model\n",
    "conll_path = os.path.join(os.path.dirname(os.getcwd()), 'data', 'ner_amharic_conll.txt')\n",
    "output_dir = os.path.join(os.path.dirname(os.getcwd()), 'models', 'afroxlmr')\n",
    "model_checkpoint= \"masakhane/afroxlmr-large-ner-masakhaner-1.0_2.0\"\n",
    "\n",
    "# Load trainer\n",
    "trainer = afroxlmr_Amharic_NER_fine_tuner(conll_path, model_checkpoint, output_dir)\n",
    "\n",
    "# Train \n",
    "trainer.train()"
   ]
  },
  {
   "cell_type": "code",
   "execution_count": 4,
   "id": "b0ea5602",
   "metadata": {},
   "outputs": [
    {
     "name": "stdout",
     "output_type": "stream",
     "text": [
      "\n",
      "Evaluating model...\n"
     ]
    },
    {
     "data": {
      "text/html": [
       "\n",
       "    <div>\n",
       "      \n",
       "      <progress value='1' max='1' style='width:300px; height:20px; vertical-align: middle;'></progress>\n",
       "      [1/1 : < :]\n",
       "    </div>\n",
       "    "
      ],
      "text/plain": [
       "<IPython.core.display.HTML object>"
      ]
     },
     "metadata": {},
     "output_type": "display_data"
    },
    {
     "name": "stdout",
     "output_type": "stream",
     "text": [
      "\n",
      "Evaluation complete.\n",
      "\n",
      "Eval Loss: 0.8406\n",
      "Per-Entity Performance:\n",
      "  • LOC        | P:  51.2%  R:  38.2%  F1:  43.8%  (Support: 55)\n",
      "  • PHONE      | P:  95.6%  R: 100.0%  F1:  97.7%  (Support: 86)\n",
      "  • PRICE      | P:  52.6%  R:  26.3%  F1:  35.1%  (Support: 38)\n",
      "  • PRODUCT    | P:  28.6%  R:  20.7%  F1:  24.0%  (Support: 58)\n",
      "  • micro avg  | P:  67.2%  R:  54.4%  F1:  60.1%  (Support: 237)\n",
      "  • macro avg  | P:  57.0%  R:  46.3%  F1:  50.1%  (Support: 237)\n",
      "  • weighted avg | P:  62.0%  R:  54.4%  F1:  57.1%  (Support: 237)\n",
      "\n",
      "📦 Runtime Info:\n",
      "  - Runtime: 32.67s\n",
      "  - Samples/sec: 0.2\n",
      "  - Epoch: 10.0\n"
     ]
    },
    {
     "data": {
      "text/plain": [
       "{'eval_loss': 0.8406363725662231,\n",
       " 'eval_LOC': {'precision': 0.5121951219512195,\n",
       "  'recall': 0.38181818181818183,\n",
       "  'f1-score': 0.43750000000000006,\n",
       "  'support': 55},\n",
       " 'eval_PHONE': {'precision': 0.9555555555555556,\n",
       "  'recall': 1.0,\n",
       "  'f1-score': 0.9772727272727273,\n",
       "  'support': 86},\n",
       " 'eval_PRICE': {'precision': 0.5263157894736842,\n",
       "  'recall': 0.2631578947368421,\n",
       "  'f1-score': 0.35087719298245607,\n",
       "  'support': 38},\n",
       " 'eval_PRODUCT': {'precision': 0.2857142857142857,\n",
       "  'recall': 0.20689655172413793,\n",
       "  'f1-score': 0.24000000000000002,\n",
       "  'support': 58},\n",
       " 'eval_micro avg': {'precision': 0.671875,\n",
       "  'recall': 0.5443037974683544,\n",
       "  'f1-score': 0.6013986013986015,\n",
       "  'support': 237},\n",
       " 'eval_macro avg': {'precision': 0.5699451881736862,\n",
       "  'recall': 0.46296815706979044,\n",
       "  'f1-score': 0.5014124800637959,\n",
       "  'support': 237},\n",
       " 'eval_weighted avg': {'precision': 0.6199153504494658,\n",
       "  'recall': 0.5443037974683544,\n",
       "  'f1-score': 0.5711446745940417,\n",
       "  'support': 237},\n",
       " 'eval_runtime': 32.6728,\n",
       " 'eval_samples_per_second': 0.245,\n",
       " 'eval_steps_per_second': 0.031,\n",
       " 'epoch': 10.0}"
      ]
     },
     "execution_count": 4,
     "metadata": {},
     "output_type": "execute_result"
    }
   ],
   "source": [
    "# Evaluate \n",
    "trainer.evaluate()"
   ]
  }
 ],
 "metadata": {
  "kernelspec": {
   "display_name": ".amhvenv",
   "language": "python",
   "name": "python3"
  },
  "language_info": {
   "codemirror_mode": {
    "name": "ipython",
    "version": 3
   },
   "file_extension": ".py",
   "mimetype": "text/x-python",
   "name": "python",
   "nbconvert_exporter": "python",
   "pygments_lexer": "ipython3",
   "version": "3.13.3"
  }
 },
 "nbformat": 4,
 "nbformat_minor": 5
}
