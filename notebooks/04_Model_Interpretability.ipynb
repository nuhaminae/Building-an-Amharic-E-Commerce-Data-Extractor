{
 "cells": [
  {
   "cell_type": "markdown",
   "id": "3a254768",
   "metadata": {},
   "source": [
    "# **Import Modules and Libraries**"
   ]
  },
  {
   "cell_type": "markdown",
   "id": "3e4edac7",
   "metadata": {},
   "source": [
    "## *python*"
   ]
  },
  {
   "cell_type": "code",
   "execution_count": null,
   "id": "347088f6",
   "metadata": {},
   "outputs": [],
   "source": [
    "import os,sys\n",
    "from transformers import (AutoTokenizer, \n",
    "                            AutoModelForTokenClassification)\n",
    "import shap"
   ]
  },
  {
   "cell_type": "markdown",
   "id": "6bb23936",
   "metadata": {},
   "source": [
    "## *custom*"
   ]
  },
  {
   "cell_type": "code",
   "execution_count": null,
   "id": "1bef2597",
   "metadata": {},
   "outputs": [],
   "source": [
    "#import customised modules\n",
    "\n",
    "#define path\n",
    "sys.path.append(os.path.abspath(os.path.join('..')))\n",
    "\n",
    "##import relevant modules\n",
    "try:\n",
    "    from scripts._03_1_fine_tuning_afroxlmr import afroxlmr_Amharic_NER_fine_tuner\n",
    "    from scripts._03_2_fine_tuning_bert import bert_Amharic_NER_fine_tuner\n",
    "    from scripts._04_1_model_interpretability import predict_with_logits\n",
    "    from scripts._04_2_lime_explainer import LimeNERExplainer\n",
    "    from scripts._04_3_shap_explainer import ShapNERExplainer\n",
    "    \n",
    "except ImportError:\n",
    "    print('Could not import module from `scripts/`.')"
   ]
  },
  {
   "cell_type": "markdown",
   "id": "da77b407",
   "metadata": {},
   "source": [
    "# **afroxlmr-large-ner-masakhaner**"
   ]
  },
  {
   "cell_type": "code",
   "execution_count": null,
   "id": "aa6f71d8",
   "metadata": {},
   "outputs": [],
   "source": [
    "# Define inputs\n",
    "conll_path = os.path.join(os.path.dirname(os.getcwd()), 'data', 'ner_amharic_conll.txt')\n",
    "output_dir = os.path.join(os.path.dirname(os.getcwd()), 'models', 'afroxlmr')\n",
    "\n",
    "trainer = afroxlmr_Amharic_NER_fine_tuner(conll_path, output_dir = output_dir)\n",
    "trainer.model = AutoModelForTokenClassification.from_pretrained(output_dir)\n",
    "trainer.tokenizer = AutoTokenizer.from_pretrained(output_dir)\n",
    "\n",
    "trainer.label2id = trainer.model.config.label2id\n",
    "trainer.id2label  =  trainer.model.config.id2label"
   ]
  },
  {
   "cell_type": "code",
   "execution_count": null,
   "id": "1e4c99b7",
   "metadata": {},
   "outputs": [],
   "source": [
    "tokens = [\"ምርጥ\",\"የስጋ\",\"መፍጫ\", \n",
    "        \"ባልቻ\", \"ሆስፒታል\", \"አጠገብ\",\"ያለው\",\"ህንፃ\", \"ላይ\", \"3ተኛ\",\"ፎቅ\", \"የሱቅ\", \"ቁጥር\", \"3\", \"ውስጥ\",\n",
    "        \"በታላቅ\", \"ቅናሽ\",\"በ3000\", \"ብር\",\"ብቻ\", \"ያገኛሉ\", \"ለበለጠ\", \"መረጃ\", \"በ0911223344\", \"ላይ\", \"ይደውሉልን\"]\n",
    "output = predict_with_logits(\n",
    "    model = trainer.model,\n",
    "    tokenizer = trainer.tokenizer,\n",
    "    id2label = trainer.id2label,\n",
    "    tokens = tokens\n",
    "    )\n",
    "\n",
    "print(\"\\n* Word-Level Predictions:\")\n",
    "for t, tag in zip(tokens, output[\"predicted_labels_word_level\"]):\n",
    "    print(f\"{t:10} → {tag}\")\n"
   ]
  },
  {
   "cell_type": "code",
   "execution_count": null,
   "id": "11640789",
   "metadata": {},
   "outputs": [],
   "source": [
    "explainer = LimeNERExplainer(\n",
    "    model = trainer.model,\n",
    "    tokenizer = trainer.tokenizer,\n",
    "    id2label = trainer.id2label\n",
    ")\n",
    "\n",
    "text = \"ምርጥ የስጋ መፍጫ ባልቻ ሆስፒታል አጠገብ ያለው ህንፃ ላይ 3ተኛ ፎቅ የሱቅ ቁጥር 3 ውስጥ\" \\\n",
    "        \" በታላቅ ቅናሽ በ3000 ብር ብቻ ያገኛሉ ለበለጠ መረጃ በ0911223344 ላይ ይደውሉልን\"\n",
    "explanation = explainer.explain(text, predictor_fn = predict_with_logits)\n",
    "explanation.show_in_notebook()\n",
    "explainer.visualise_explanation(text, explanation)"
   ]
  },
  {
   "cell_type": "code",
   "execution_count": null,
   "id": "43993bf7",
   "metadata": {},
   "outputs": [],
   "source": [
    "shap_explainer = ShapNERExplainer(\n",
    "    model = trainer.model, \n",
    "    tokenizer = trainer.tokenizer, \n",
    "    id2label = trainer.id2label\n",
    "    )\n",
    "\n",
    "text = \"ምርጥ የስጋ መፍጫ ባልቻ ሆስፒታል አጠገብ ያለው ህንፃ ላይ 3ተኛ ፎቅ የሱቅ ቁጥር 3 ውስጥ በታላቅ ቅናሽ በ3000 ብር ብቻ ያገኛሉ\"\n",
    "shap_values = shap_explainer.explain(text)\n",
    "shap_explainer.visualise_shap_explanation(text, shap_values)\n",
    "\n",
    "shap_explainer.visualise_shap_explanation_thre(text, shap_values, threshold = 0.02)\n",
    "\n",
    "\n",
    "# Interactive visualization (works in notebooks)\n",
    "shap.plots.text(shap_values[0])\n"
   ]
  },
  {
   "cell_type": "markdown",
   "id": "8775dc64",
   "metadata": {},
   "source": [
    "# **bert-tiny-amharic**"
   ]
  },
  {
   "cell_type": "code",
   "execution_count": null,
   "id": "eb3e207e",
   "metadata": {},
   "outputs": [],
   "source": [
    "# Define inputs\n",
    "conll_path = os.path.join(os.path.dirname(os.getcwd()), 'data', 'ner_amharic_conll.txt')\n",
    "output_dir = os.path.join(os.path.dirname(os.getcwd()), 'models', 'bert')\n",
    "\n",
    "trainer = bert_Amharic_NER_fine_tuner(conll_path, output_dir=output_dir)\n",
    "trainer.model = AutoModelForTokenClassification.from_pretrained(output_dir)\n",
    "trainer.tokenizer = AutoTokenizer.from_pretrained(output_dir)\n",
    "\n",
    "trainer.label2id = trainer.model.config.label2id\n",
    "trainer.id2label = trainer.model.config.id2label"
   ]
  },
  {
   "cell_type": "code",
   "execution_count": null,
   "id": "5cacb35a",
   "metadata": {},
   "outputs": [],
   "source": [
    "tokens = [\"ምርጥ\",\"የስጋ\",\"መፍጫ\", \n",
    "        \"ባልቻ\", \"ሆስፒታል\", \"አጠገብ\",\"ያለው\",\"ህንፃ\", \"ላይ\", \"3ተኛ\",\"ፎቅ\", \"የሱቅ\", \"ቁጥር\", \"3\", \"ውስጥ\",\n",
    "        \"በታላቅ\", \"ቅናሽ\",\"በ3000\", \"ብር\",\"ብቻ\", \"ያገኛሉ\", \"ለበለጠ\", \"መረጃ\", \"በ0911223344\", \"ላይ\", \"ይደውሉልን\"]\n",
    "output = predict_with_logits(\n",
    "    model = trainer.model,\n",
    "    tokenizer = trainer.tokenizer,\n",
    "    id2label = trainer.id2label,\n",
    "    tokens = tokens\n",
    "    )\n",
    "\n",
    "print(\"\\n* Word-Level Predictions:\")\n",
    "for t, tag in zip(tokens, output[\"predicted_labels_word_level\"]):\n",
    "    print(f\"{t:10} → {tag}\")\n"
   ]
  },
  {
   "cell_type": "code",
   "execution_count": null,
   "id": "77d738f6",
   "metadata": {},
   "outputs": [],
   "source": [
    "explainer = LimeNERExplainer(\n",
    "    model = trainer.model,\n",
    "    tokenizer = trainer.tokenizer,\n",
    "    id2label = trainer.id2label\n",
    "    )\n",
    "\n",
    "text = \"ምርጥ የስጋ መፍጫ ባልቻ ሆስፒታል አጠገብ ያለው ህንፃ ላይ 3ተኛ ፎቅ የሱቅ ቁጥር 3 ውስጥ በታላቅ ቅናሽ በ3000 ብር ብቻ ያገኛሉ\"\n",
    "explanation = explainer.explain(text, predictor_fn=predict_with_logits)\n",
    "explanation.show_in_notebook()\n",
    "explainer.visualise_explanation(text, explanation)"
   ]
  },
  {
   "cell_type": "code",
   "execution_count": null,
   "id": "23ac16a7",
   "metadata": {},
   "outputs": [],
   "source": [
    "shap_explainer = ShapNERExplainer(\n",
    "    model = trainer.model, \n",
    "    tokenizer = trainer.tokenizer, \n",
    "    id2label = trainer.id2label\n",
    "    )\n",
    "\n",
    "text = \"ምርጥ የስጋ መፍጫ ባልቻ ሆስፒታል አጠገብ ያለው ህንፃ ላይ 3ተኛ ፎቅ የሱቅ ቁጥር 3 ውስጥ በታላቅ ቅናሽ በ3000 ብር ብቻ ያገኛሉ\"\n",
    "shap_values = shap_explainer.explain(text)\n",
    "shap_explainer.visualise_shap_explanation(text, shap_values)\n",
    "\n",
    "shap_explainer.visualise_shap_explanation_thre(text, shap_values, threshold = 0.02)\n",
    "\n",
    "\n",
    "# Interactive visualization (works in notebooks)\n",
    "shap.plots.text(shap_values[0])\n"
   ]
  }
 ],
 "metadata": {
  "kernelspec": {
   "display_name": ".amhvenv",
   "language": "python",
   "name": "python3"
  },
  "language_info": {
   "codemirror_mode": {
    "name": "ipython",
    "version": 3
   },
   "file_extension": ".py",
   "mimetype": "text/x-python",
   "name": "python",
   "nbconvert_exporter": "python",
   "pygments_lexer": "ipython3",
   "version": "3.13.3"
  }
 },
 "nbformat": 4,
 "nbformat_minor": 5
}
